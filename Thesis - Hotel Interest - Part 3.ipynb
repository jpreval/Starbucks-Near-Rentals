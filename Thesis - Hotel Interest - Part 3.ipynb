{
 "cells": [
  {
   "cell_type": "code",
   "execution_count": 1,
   "metadata": {},
   "outputs": [
    {
     "name": "stderr",
     "output_type": "stream",
     "text": [
      "/Users/ClumsyJace/anaconda3/lib/python3.5/site-packages/sklearn/cross_validation.py:41: DeprecationWarning: This module was deprecated in version 0.18 in favor of the model_selection module into which all the refactored classes and functions are moved. Also note that the interface of the new CV iterators are different from that of this module. This module will be removed in 0.20.\n",
      "  \"This module will be removed in 0.20.\", DeprecationWarning)\n",
      "/Users/ClumsyJace/anaconda3/lib/python3.5/site-packages/sklearn/grid_search.py:42: DeprecationWarning: This module was deprecated in version 0.18 in favor of the model_selection module into which all the refactored classes and functions are moved. This module will be removed in 0.20.\n",
      "  DeprecationWarning)\n"
     ]
    }
   ],
   "source": [
    "import pandas as pd\n",
    "import numpy as np\n",
    "from sklearn.preprocessing import RobustScaler\n",
    "from sklearn.preprocessing import MinMaxScaler\n",
    "from sklearn.model_selection import train_test_split\n",
    "from sklearn.ensemble import RandomForestClassifier\n",
    "import matplotlib.pyplot as plt\n",
    "from sklearn.model_selection import cross_val_score\n",
    "from sklearn import ensemble\n",
    "from sklearn.ensemble import AdaBoostClassifier\n",
    "from sklearn.svm import SVC\n",
    "from sklearn import linear_model\n",
    "from sklearn.tree import DecisionTreeClassifier\n",
    "from sklearn.grid_search import GridSearchCV   #Perforing grid search\n",
    "from sklearn.ensemble import GradientBoostingClassifier\n",
    "import copy\n"
   ]
  },
  {
   "cell_type": "code",
   "execution_count": 2,
   "metadata": {},
   "outputs": [],
   "source": [
    "data = pd.read_csv('thesis_final_data3.csv', sep='\\t')"
   ]
  },
  {
   "cell_type": "code",
   "execution_count": 3,
   "metadata": {},
   "outputs": [
    {
     "name": "stdout",
     "output_type": "stream",
     "text": [
      "<class 'pandas.core.frame.DataFrame'>\n",
      "RangeIndex: 49352 entries, 0 to 49351\n",
      "Data columns (total 20 columns):\n",
      "Unnamed: 0                                 49352 non-null int64\n",
      "bathrooms                                  49352 non-null float64\n",
      "bedrooms                                   49352 non-null float64\n",
      "interest_level                             49352 non-null object\n",
      "latitude                                   49352 non-null float64\n",
      "longitude                                  49352 non-null float64\n",
      "price                                      49352 non-null float64\n",
      "address                                    49339 non-null object\n",
      "Zip                                        49339 non-null float64\n",
      "State                                      48963 non-null object\n",
      "County                                     48963 non-null object\n",
      "City                                       48963 non-null object\n",
      "Median Household Income                    48963 non-null float64\n",
      "Number of Income Household                 48963 non-null float64\n",
      "Number Population by Race                  48963 non-null float64\n",
      "Number of Family Households in Poverty     48963 non-null float64\n",
      "Number of individual unemployed            48963 non-null float64\n",
      "distance                                   49352 non-null object\n",
      "mindistance                                49352 non-null float64\n",
      "storecount_mediandistance                  49352 non-null int64\n",
      "dtypes: float64(12), int64(2), object(6)\n",
      "memory usage: 7.5+ MB\n"
     ]
    }
   ],
   "source": [
    "data.info()"
   ]
  },
  {
   "cell_type": "code",
   "execution_count": 4,
   "metadata": {},
   "outputs": [],
   "source": [
    "data_next =  data.drop(['Unnamed: 0','address','State','County','City','distance'],axis=1)"
   ]
  },
  {
   "cell_type": "code",
   "execution_count": 5,
   "metadata": {},
   "outputs": [
    {
     "data": {
      "text/html": [
       "<div>\n",
       "<style scoped>\n",
       "    .dataframe tbody tr th:only-of-type {\n",
       "        vertical-align: middle;\n",
       "    }\n",
       "\n",
       "    .dataframe tbody tr th {\n",
       "        vertical-align: top;\n",
       "    }\n",
       "\n",
       "    .dataframe thead th {\n",
       "        text-align: right;\n",
       "    }\n",
       "</style>\n",
       "<table border=\"1\" class=\"dataframe\">\n",
       "  <thead>\n",
       "    <tr style=\"text-align: right;\">\n",
       "      <th></th>\n",
       "      <th>bedrooms</th>\n",
       "      <th>0</th>\n",
       "    </tr>\n",
       "  </thead>\n",
       "  <tbody>\n",
       "    <tr>\n",
       "      <th>0</th>\n",
       "      <td>0.0</td>\n",
       "      <td>9475</td>\n",
       "    </tr>\n",
       "    <tr>\n",
       "      <th>1</th>\n",
       "      <td>1.0</td>\n",
       "      <td>15752</td>\n",
       "    </tr>\n",
       "    <tr>\n",
       "      <th>2</th>\n",
       "      <td>2.0</td>\n",
       "      <td>14623</td>\n",
       "    </tr>\n",
       "    <tr>\n",
       "      <th>3</th>\n",
       "      <td>3.0</td>\n",
       "      <td>7276</td>\n",
       "    </tr>\n",
       "    <tr>\n",
       "      <th>4</th>\n",
       "      <td>4.0</td>\n",
       "      <td>1929</td>\n",
       "    </tr>\n",
       "    <tr>\n",
       "      <th>5</th>\n",
       "      <td>5.0</td>\n",
       "      <td>247</td>\n",
       "    </tr>\n",
       "    <tr>\n",
       "      <th>6</th>\n",
       "      <td>6.0</td>\n",
       "      <td>46</td>\n",
       "    </tr>\n",
       "    <tr>\n",
       "      <th>7</th>\n",
       "      <td>7.0</td>\n",
       "      <td>2</td>\n",
       "    </tr>\n",
       "    <tr>\n",
       "      <th>8</th>\n",
       "      <td>8.0</td>\n",
       "      <td>2</td>\n",
       "    </tr>\n",
       "  </tbody>\n",
       "</table>\n",
       "</div>"
      ],
      "text/plain": [
       "   bedrooms      0\n",
       "0       0.0   9475\n",
       "1       1.0  15752\n",
       "2       2.0  14623\n",
       "3       3.0   7276\n",
       "4       4.0   1929\n",
       "5       5.0    247\n",
       "6       6.0     46\n",
       "7       7.0      2\n",
       "8       8.0      2"
      ]
     },
     "execution_count": 5,
     "metadata": {},
     "output_type": "execute_result"
    }
   ],
   "source": [
    "data_next.groupby(['bedrooms']).size().reset_index()"
   ]
  },
  {
   "cell_type": "code",
   "execution_count": 6,
   "metadata": {
    "scrolled": true
   },
   "outputs": [
    {
     "data": {
      "text/plain": [
       "['bathrooms',\n",
       " 'bedrooms',\n",
       " 'interest_level',\n",
       " 'latitude',\n",
       " 'longitude',\n",
       " 'price',\n",
       " 'Zip',\n",
       " 'Median Household Income',\n",
       " 'Number of Income Household ',\n",
       " 'Number Population by Race',\n",
       " 'Number of Family Households in Poverty ',\n",
       " 'Number of individual unemployed',\n",
       " 'mindistance',\n",
       " 'storecount_mediandistance']"
      ]
     },
     "execution_count": 6,
     "metadata": {},
     "output_type": "execute_result"
    }
   ],
   "source": [
    "list(data_next)"
   ]
  },
  {
   "cell_type": "code",
   "execution_count": null,
   "metadata": {},
   "outputs": [],
   "source": []
  },
  {
   "cell_type": "code",
   "execution_count": 7,
   "metadata": {},
   "outputs": [],
   "source": [
    "Final_Project_Data = data_next[[\n",
    "     'bathrooms',\n",
    "     'bedrooms',\n",
    "     'latitude',\n",
    "     'longitude',\n",
    "     'price',\n",
    "     'Zip',\n",
    "     'Median Household Income',\n",
    "     'Number of Income Household ',\n",
    "     'Number Population by Race',\n",
    "     'Number of Family Households in Poverty ',\n",
    "     'Number of individual unemployed',\n",
    "     'mindistance',\n",
    "     'storecount_mediandistance',\n",
    "     'interest_level'   \n",
    "]]"
   ]
  },
  {
   "cell_type": "code",
   "execution_count": 8,
   "metadata": {},
   "outputs": [
    {
     "data": {
      "text/plain": [
       "[0.0,\n",
       " 0.0,\n",
       " 0.0,\n",
       " 0.0,\n",
       " 0.0,\n",
       " 0.0,\n",
       " 0.0,\n",
       " 0.0,\n",
       " 0.0,\n",
       " 0.0,\n",
       " 0.0,\n",
       " 0.0,\n",
       " 0.0,\n",
       " 0.0,\n",
       " 0.0,\n",
       " 0.0,\n",
       " 0.0,\n",
       " 0.0,\n",
       " 0.0,\n",
       " 0.0,\n",
       " 0.0,\n",
       " 0.0,\n",
       " 0.0,\n",
       " 0.0,\n",
       " 0.0,\n",
       " 0.0,\n",
       " 0.0,\n",
       " 0.0,\n",
       " 0.0,\n",
       " 0.0,\n",
       " 0.0,\n",
       " 0.0,\n",
       " 0.0,\n",
       " 0.0,\n",
       " 0.0,\n",
       " 0.0,\n",
       " 0.0,\n",
       " 0.0,\n",
       " 0.0,\n",
       " 0.0,\n",
       " 0.0,\n",
       " 0.0,\n",
       " 0.0,\n",
       " 0.0,\n",
       " 0.0,\n",
       " 0.0,\n",
       " 0.0,\n",
       " 0.0,\n",
       " 0.0,\n",
       " 0.0,\n",
       " 0.0,\n",
       " 0.0,\n",
       " 0.0,\n",
       " 0.0,\n",
       " 0.0,\n",
       " 0.0,\n",
       " 0.0,\n",
       " 0.0,\n",
       " 0.0,\n",
       " 0.0,\n",
       " 0.0,\n",
       " 0.0,\n",
       " 0.0,\n",
       " 0.0,\n",
       " 0.0,\n",
       " 0.0,\n",
       " 0.0,\n",
       " 0.0,\n",
       " 0.0,\n",
       " 0.0,\n",
       " 0.0,\n",
       " 0.0,\n",
       " 0.0,\n",
       " 0.0,\n",
       " 0.0,\n",
       " 0.0,\n",
       " 0.0,\n",
       " 0.0,\n",
       " 0.0,\n",
       " 0.0,\n",
       " 0.0,\n",
       " 0.0,\n",
       " 0.0,\n",
       " 0.0,\n",
       " 0.0,\n",
       " 0.0,\n",
       " 0.0,\n",
       " 0.0,\n",
       " 0.0,\n",
       " 0.0,\n",
       " 0.0,\n",
       " 0.0,\n",
       " 0.0,\n",
       " 0.0,\n",
       " 0.0,\n",
       " 0.0,\n",
       " 0.0,\n",
       " 0.0,\n",
       " 0.0,\n",
       " 0.0,\n",
       " 0.0,\n",
       " 0.0,\n",
       " 0.0,\n",
       " 0.0,\n",
       " 0.0,\n",
       " 0.0,\n",
       " 0.0,\n",
       " 0.0,\n",
       " 0.0,\n",
       " 0.0,\n",
       " 0.0,\n",
       " 0.0,\n",
       " 0.0,\n",
       " 0.0,\n",
       " 0.0,\n",
       " 0.0,\n",
       " 0.0,\n",
       " 0.0,\n",
       " 0.0,\n",
       " 0.0,\n",
       " 0.0,\n",
       " 0.0,\n",
       " 0.0,\n",
       " 0.0,\n",
       " 0.0,\n",
       " 0.0,\n",
       " 0.0,\n",
       " 0.0,\n",
       " 0.0,\n",
       " 0.0,\n",
       " 0.0,\n",
       " 0.0,\n",
       " 0.0,\n",
       " 0.0,\n",
       " 0.0,\n",
       " 0.0,\n",
       " 0.0,\n",
       " 0.0,\n",
       " 0.0,\n",
       " 0.0,\n",
       " 0.0,\n",
       " 0.0,\n",
       " 0.0,\n",
       " 0.0,\n",
       " 0.0,\n",
       " 0.0,\n",
       " 0.0,\n",
       " 0.0,\n",
       " 0.0,\n",
       " 0.0,\n",
       " 0.0,\n",
       " 0.0,\n",
       " 0.0,\n",
       " 0.0,\n",
       " 0.0,\n",
       " 0.0,\n",
       " 0.0,\n",
       " 0.0,\n",
       " 0.0,\n",
       " 0.0,\n",
       " 0.0,\n",
       " 0.0,\n",
       " 0.0,\n",
       " 0.0,\n",
       " 0.0,\n",
       " 0.0,\n",
       " 0.0,\n",
       " 0.0,\n",
       " 0.0,\n",
       " 0.0,\n",
       " 0.0,\n",
       " 0.0,\n",
       " 0.0,\n",
       " 0.0,\n",
       " 0.0,\n",
       " 0.0,\n",
       " 0.0,\n",
       " 0.0,\n",
       " 0.0,\n",
       " 0.0,\n",
       " 0.0,\n",
       " 0.0,\n",
       " 0.0,\n",
       " 0.0,\n",
       " 0.0,\n",
       " 0.0,\n",
       " 0.0,\n",
       " 0.0,\n",
       " 0.0,\n",
       " 0.0,\n",
       " 0.0,\n",
       " 0.0,\n",
       " 0.0,\n",
       " 0.0,\n",
       " 0.0,\n",
       " 0.0,\n",
       " 0.0,\n",
       " 0.0,\n",
       " 0.0,\n",
       " 0.0,\n",
       " 0.0,\n",
       " 0.0,\n",
       " 0.0,\n",
       " 0.0,\n",
       " 0.0,\n",
       " 0.0,\n",
       " 0.0,\n",
       " 0.0,\n",
       " 0.0,\n",
       " 0.0,\n",
       " 0.0,\n",
       " 0.0,\n",
       " 0.0,\n",
       " 0.0,\n",
       " 0.0,\n",
       " 0.0,\n",
       " 0.0,\n",
       " 0.0,\n",
       " 0.0,\n",
       " 0.0,\n",
       " 0.0,\n",
       " 0.0,\n",
       " 0.0,\n",
       " 0.0,\n",
       " 0.0,\n",
       " 0.0,\n",
       " 0.0,\n",
       " 0.0,\n",
       " 0.0,\n",
       " 0.0,\n",
       " 0.0,\n",
       " 0.0,\n",
       " 0.0,\n",
       " 0.0,\n",
       " 0.0,\n",
       " 0.0,\n",
       " 0.0,\n",
       " 0.0,\n",
       " 0.0,\n",
       " 0.0,\n",
       " 0.0,\n",
       " 0.0,\n",
       " 0.0,\n",
       " 0.0,\n",
       " 0.0,\n",
       " 0.0,\n",
       " 0.0,\n",
       " 0.0,\n",
       " 0.0,\n",
       " 0.0,\n",
       " 0.0,\n",
       " 0.0,\n",
       " 0.0,\n",
       " 0.0,\n",
       " 0.0,\n",
       " 0.0,\n",
       " 0.0,\n",
       " 0.0,\n",
       " 0.0,\n",
       " 0.0,\n",
       " 0.0,\n",
       " 0.0,\n",
       " 0.0,\n",
       " 0.0,\n",
       " 0.0,\n",
       " 0.0,\n",
       " 0.0,\n",
       " 0.0,\n",
       " 0.0,\n",
       " 0.0,\n",
       " 0.0,\n",
       " 0.0,\n",
       " 0.0,\n",
       " 0.0,\n",
       " 0.0,\n",
       " 0.0,\n",
       " 0.0,\n",
       " 0.0,\n",
       " 0.0,\n",
       " 0.0,\n",
       " 0.0,\n",
       " 0.0,\n",
       " 0.0,\n",
       " 0.0,\n",
       " 0.0,\n",
       " 0.0,\n",
       " 0.0,\n",
       " 0.0,\n",
       " 0.0,\n",
       " 0.0,\n",
       " 0.0,\n",
       " 0.0,\n",
       " 0.0,\n",
       " 0.0,\n",
       " 0.0,\n",
       " 0.0,\n",
       " 0.0,\n",
       " 0.0,\n",
       " 0.0,\n",
       " 0.0,\n",
       " 0.0,\n",
       " 0.0,\n",
       " 0.0,\n",
       " 0.0,\n",
       " 0.0,\n",
       " 0.0,\n",
       " 0.0,\n",
       " 0.0,\n",
       " 0.0,\n",
       " 0.0,\n",
       " 0.0,\n",
       " 0.0,\n",
       " 0.0,\n",
       " 1.0,\n",
       " 1.0,\n",
       " 1.0,\n",
       " 1.0,\n",
       " 1.0,\n",
       " 1.0,\n",
       " 1.0,\n",
       " 1.0,\n",
       " 1.0,\n",
       " 1.0,\n",
       " 1.0,\n",
       " 1.0,\n",
       " 1.0,\n",
       " 1.0,\n",
       " 1.0,\n",
       " 1.0,\n",
       " 1.0,\n",
       " 1.0,\n",
       " 1.0,\n",
       " 1.0,\n",
       " 1.0,\n",
       " 1.0,\n",
       " 1.0,\n",
       " 1.0,\n",
       " 1.0,\n",
       " 1.0,\n",
       " 1.0,\n",
       " 1.0,\n",
       " 1.0,\n",
       " 1.0,\n",
       " 1.0,\n",
       " 1.0,\n",
       " 1.0,\n",
       " 1.0,\n",
       " 1.0,\n",
       " 1.0,\n",
       " 1.0,\n",
       " 1.0,\n",
       " 1.0,\n",
       " 1.0,\n",
       " 1.0,\n",
       " 1.0,\n",
       " 1.0,\n",
       " 1.0,\n",
       " 1.0,\n",
       " 1.0,\n",
       " 1.0,\n",
       " 1.0,\n",
       " 1.0,\n",
       " 1.0,\n",
       " 1.0,\n",
       " 1.0,\n",
       " 1.0,\n",
       " 1.0,\n",
       " 1.0,\n",
       " 1.0,\n",
       " 1.0,\n",
       " 1.0,\n",
       " 1.0,\n",
       " 1.0,\n",
       " 1.0,\n",
       " 1.0,\n",
       " 1.0,\n",
       " 1.0,\n",
       " 1.0,\n",
       " 1.0,\n",
       " 1.0,\n",
       " 1.0,\n",
       " 1.0,\n",
       " 1.0,\n",
       " 1.0,\n",
       " 1.0,\n",
       " 1.0,\n",
       " 1.0,\n",
       " 1.0,\n",
       " 1.0,\n",
       " 1.0,\n",
       " 1.0,\n",
       " 1.0,\n",
       " 1.0,\n",
       " 1.0,\n",
       " 1.0,\n",
       " 1.0,\n",
       " 1.0,\n",
       " 1.0,\n",
       " 1.0,\n",
       " 1.0,\n",
       " 1.0,\n",
       " 1.0,\n",
       " 1.0,\n",
       " 1.0,\n",
       " 1.0,\n",
       " 1.0,\n",
       " 1.0,\n",
       " 1.0,\n",
       " 1.0,\n",
       " 1.0,\n",
       " 1.0,\n",
       " 1.0,\n",
       " 1.0,\n",
       " 1.0,\n",
       " 1.0,\n",
       " 1.0,\n",
       " 1.0,\n",
       " 1.0,\n",
       " 1.0,\n",
       " 1.0,\n",
       " 1.0,\n",
       " 1.0,\n",
       " 1.0,\n",
       " 1.0,\n",
       " 1.0,\n",
       " 1.0,\n",
       " 1.0,\n",
       " 1.0,\n",
       " 1.0,\n",
       " 1.0,\n",
       " 1.0,\n",
       " 1.0,\n",
       " 1.0,\n",
       " 1.0,\n",
       " 1.0,\n",
       " 1.0,\n",
       " 1.0,\n",
       " 1.0,\n",
       " 1.0,\n",
       " 1.0,\n",
       " 1.0,\n",
       " 1.0,\n",
       " 1.0,\n",
       " 1.0,\n",
       " 1.0,\n",
       " 1.0,\n",
       " 1.0,\n",
       " 1.0,\n",
       " 1.0,\n",
       " 1.0,\n",
       " 1.0,\n",
       " 1.0,\n",
       " 1.0,\n",
       " 1.0,\n",
       " 1.0,\n",
       " 1.0,\n",
       " 1.0,\n",
       " 1.0,\n",
       " 1.0,\n",
       " 1.0,\n",
       " 1.0,\n",
       " 1.0,\n",
       " 1.0,\n",
       " 1.0,\n",
       " 1.0,\n",
       " 1.0,\n",
       " 1.0,\n",
       " 1.0,\n",
       " 1.0,\n",
       " 1.0,\n",
       " 1.0,\n",
       " 1.0,\n",
       " 1.0,\n",
       " 1.0,\n",
       " 1.0,\n",
       " 1.0,\n",
       " 1.0,\n",
       " 1.0,\n",
       " 1.0,\n",
       " 1.0,\n",
       " 1.0,\n",
       " 1.0,\n",
       " 1.0,\n",
       " 1.0,\n",
       " 1.0,\n",
       " 1.0,\n",
       " 1.0,\n",
       " 1.0,\n",
       " 1.0,\n",
       " 1.0,\n",
       " 1.0,\n",
       " 1.0,\n",
       " 1.0,\n",
       " 1.0,\n",
       " 1.0,\n",
       " 1.0,\n",
       " 1.0,\n",
       " 1.0,\n",
       " 1.0,\n",
       " 1.0,\n",
       " 1.0,\n",
       " 1.0,\n",
       " 1.0,\n",
       " 1.0,\n",
       " 1.0,\n",
       " 1.0,\n",
       " 1.0,\n",
       " 1.0,\n",
       " 1.0,\n",
       " 1.0,\n",
       " 1.0,\n",
       " 1.0,\n",
       " 1.0,\n",
       " 1.0,\n",
       " 1.0,\n",
       " 1.0,\n",
       " 1.0,\n",
       " 1.0,\n",
       " 1.0,\n",
       " 1.0,\n",
       " 1.0,\n",
       " 1.0,\n",
       " 1.0,\n",
       " 1.0,\n",
       " 1.0,\n",
       " 1.0,\n",
       " 1.0,\n",
       " 1.0,\n",
       " 1.0,\n",
       " 1.0,\n",
       " 1.0,\n",
       " 1.0,\n",
       " 1.0,\n",
       " 1.0,\n",
       " 1.0,\n",
       " 1.0,\n",
       " 1.0,\n",
       " 1.0,\n",
       " 1.0,\n",
       " 1.0,\n",
       " 1.0,\n",
       " 1.0,\n",
       " 1.0,\n",
       " 1.0,\n",
       " 1.0,\n",
       " 1.0,\n",
       " 1.0,\n",
       " 1.0,\n",
       " 1.0,\n",
       " 1.0,\n",
       " 1.0,\n",
       " 1.0,\n",
       " 1.0,\n",
       " 1.0,\n",
       " 1.0,\n",
       " 1.0,\n",
       " 1.0,\n",
       " 1.0,\n",
       " 1.0,\n",
       " 1.0,\n",
       " 1.0,\n",
       " 1.0,\n",
       " 1.0,\n",
       " 1.0,\n",
       " 1.0,\n",
       " 1.0,\n",
       " 1.0,\n",
       " 1.0,\n",
       " 1.0,\n",
       " 1.0,\n",
       " 1.0,\n",
       " 1.0,\n",
       " 1.0,\n",
       " 1.0,\n",
       " 1.0,\n",
       " 1.0,\n",
       " 1.0,\n",
       " 1.0,\n",
       " 1.0,\n",
       " 1.0,\n",
       " 1.0,\n",
       " 1.0,\n",
       " 1.0,\n",
       " 1.0,\n",
       " 1.0,\n",
       " 1.0,\n",
       " 1.0,\n",
       " 1.0,\n",
       " 1.0,\n",
       " 1.0,\n",
       " 1.0,\n",
       " 1.0,\n",
       " 1.0,\n",
       " 1.0,\n",
       " 1.0,\n",
       " 1.0,\n",
       " 1.0,\n",
       " 1.0,\n",
       " 1.0,\n",
       " 1.0,\n",
       " 1.0,\n",
       " 1.0,\n",
       " 1.0,\n",
       " 1.0,\n",
       " 1.0,\n",
       " 1.0,\n",
       " 1.0,\n",
       " 1.0,\n",
       " 1.0,\n",
       " 1.0,\n",
       " 1.0,\n",
       " 1.0,\n",
       " 1.0,\n",
       " 1.0,\n",
       " 1.0,\n",
       " 1.0,\n",
       " 1.0,\n",
       " 1.0,\n",
       " 1.0,\n",
       " 1.0,\n",
       " 1.0,\n",
       " 1.0,\n",
       " 1.0,\n",
       " 1.0,\n",
       " 1.0,\n",
       " 1.0,\n",
       " 1.0,\n",
       " 1.0,\n",
       " 1.0,\n",
       " 1.0,\n",
       " 1.0,\n",
       " 1.0,\n",
       " 1.0,\n",
       " 1.0,\n",
       " 1.0,\n",
       " 1.0,\n",
       " 1.0,\n",
       " 1.0,\n",
       " 1.0,\n",
       " 1.0,\n",
       " 1.0,\n",
       " 1.0,\n",
       " 1.0,\n",
       " 1.0,\n",
       " 1.0,\n",
       " 1.0,\n",
       " 1.0,\n",
       " 1.0,\n",
       " 1.0,\n",
       " 1.0,\n",
       " 1.0,\n",
       " 1.0,\n",
       " 1.0,\n",
       " 1.0,\n",
       " 1.0,\n",
       " 1.0,\n",
       " 1.0,\n",
       " 1.0,\n",
       " 1.0,\n",
       " 1.0,\n",
       " 1.0,\n",
       " 1.0,\n",
       " 1.0,\n",
       " 1.0,\n",
       " 1.0,\n",
       " 1.0,\n",
       " 1.0,\n",
       " 1.0,\n",
       " 1.0,\n",
       " 1.0,\n",
       " 1.0,\n",
       " 1.0,\n",
       " 1.0,\n",
       " 1.0,\n",
       " 1.0,\n",
       " 1.0,\n",
       " 1.0,\n",
       " 1.0,\n",
       " 1.0,\n",
       " 1.0,\n",
       " 1.0,\n",
       " 1.0,\n",
       " 1.0,\n",
       " 1.0,\n",
       " 1.0,\n",
       " 1.0,\n",
       " 1.0,\n",
       " 1.0,\n",
       " 1.0,\n",
       " 1.0,\n",
       " 1.0,\n",
       " 1.0,\n",
       " 1.0,\n",
       " 1.0,\n",
       " 1.0,\n",
       " 1.0,\n",
       " 1.0,\n",
       " 1.0,\n",
       " 1.0,\n",
       " 1.0,\n",
       " 1.0,\n",
       " 1.0,\n",
       " 1.0,\n",
       " 1.0,\n",
       " 1.0,\n",
       " 1.0,\n",
       " 1.0,\n",
       " 1.0,\n",
       " 1.0,\n",
       " 1.0,\n",
       " 1.0,\n",
       " 1.0,\n",
       " 1.0,\n",
       " 1.0,\n",
       " 1.0,\n",
       " 1.0,\n",
       " 1.0,\n",
       " 1.0,\n",
       " 1.0,\n",
       " 1.0,\n",
       " 1.0,\n",
       " 1.0,\n",
       " 1.0,\n",
       " 1.0,\n",
       " 1.0,\n",
       " 1.0,\n",
       " 1.0,\n",
       " 1.0,\n",
       " 1.0,\n",
       " 1.0,\n",
       " 1.0,\n",
       " 1.0,\n",
       " 1.0,\n",
       " 1.0,\n",
       " 1.0,\n",
       " 1.0,\n",
       " 1.0,\n",
       " 1.0,\n",
       " 1.0,\n",
       " 1.0,\n",
       " 1.0,\n",
       " 1.0,\n",
       " 1.0,\n",
       " 1.0,\n",
       " 1.0,\n",
       " 1.0,\n",
       " 1.0,\n",
       " 1.0,\n",
       " 1.0,\n",
       " 1.0,\n",
       " 1.0,\n",
       " 1.0,\n",
       " 1.0,\n",
       " 1.0,\n",
       " 1.0,\n",
       " 1.0,\n",
       " 1.0,\n",
       " 1.0,\n",
       " 1.0,\n",
       " 1.0,\n",
       " 1.0,\n",
       " 1.0,\n",
       " 1.0,\n",
       " 1.0,\n",
       " 1.0,\n",
       " 1.0,\n",
       " 1.0,\n",
       " 1.0,\n",
       " 1.0,\n",
       " 1.0,\n",
       " 1.0,\n",
       " 1.0,\n",
       " 1.0,\n",
       " 1.0,\n",
       " 1.0,\n",
       " 1.0,\n",
       " 1.0,\n",
       " 1.0,\n",
       " 1.0,\n",
       " 1.0,\n",
       " 1.0,\n",
       " 1.0,\n",
       " 1.0,\n",
       " 1.0,\n",
       " 1.0,\n",
       " 1.0,\n",
       " 1.0,\n",
       " 1.0,\n",
       " 1.0,\n",
       " 1.0,\n",
       " 1.0,\n",
       " 1.0,\n",
       " 1.0,\n",
       " 1.0,\n",
       " 1.0,\n",
       " 1.0,\n",
       " 1.0,\n",
       " 1.0,\n",
       " 1.0,\n",
       " 1.0,\n",
       " 1.0,\n",
       " 1.0,\n",
       " 1.0,\n",
       " 1.0,\n",
       " 1.0,\n",
       " 1.0,\n",
       " 1.0,\n",
       " 1.0,\n",
       " 1.0,\n",
       " 1.0,\n",
       " 1.0,\n",
       " 1.0,\n",
       " 1.0,\n",
       " 1.0,\n",
       " 1.0,\n",
       " 1.0,\n",
       " 1.0,\n",
       " 1.0,\n",
       " 1.0,\n",
       " 1.0,\n",
       " 1.0,\n",
       " 1.0,\n",
       " 1.0,\n",
       " 1.0,\n",
       " 1.0,\n",
       " 1.0,\n",
       " 1.0,\n",
       " 1.0,\n",
       " 1.0,\n",
       " 1.0,\n",
       " 1.0,\n",
       " 1.0,\n",
       " 1.0,\n",
       " 1.0,\n",
       " 1.0,\n",
       " 1.0,\n",
       " 1.0,\n",
       " 1.0,\n",
       " 1.0,\n",
       " 1.0,\n",
       " 1.0,\n",
       " 1.0,\n",
       " 1.0,\n",
       " 1.0,\n",
       " 1.0,\n",
       " 1.0,\n",
       " 1.0,\n",
       " 1.0,\n",
       " 1.0,\n",
       " 1.0,\n",
       " 1.0,\n",
       " 1.0,\n",
       " 1.0,\n",
       " 1.0,\n",
       " 1.0,\n",
       " 1.0,\n",
       " 1.0,\n",
       " 1.0,\n",
       " 1.0,\n",
       " 1.0,\n",
       " 1.0,\n",
       " 1.0,\n",
       " 1.0,\n",
       " 1.0,\n",
       " 1.0,\n",
       " 1.0,\n",
       " 1.0,\n",
       " 1.0,\n",
       " 1.0,\n",
       " 1.0,\n",
       " 1.0,\n",
       " 1.0,\n",
       " 1.0,\n",
       " 1.0,\n",
       " 1.0,\n",
       " 1.0,\n",
       " 1.0,\n",
       " 1.0,\n",
       " 1.0,\n",
       " 1.0,\n",
       " 1.0,\n",
       " 1.0,\n",
       " 1.0,\n",
       " 1.0,\n",
       " 1.0,\n",
       " 1.0,\n",
       " 1.0,\n",
       " 1.0,\n",
       " 1.0,\n",
       " 1.0,\n",
       " 1.0,\n",
       " 1.0,\n",
       " 1.0,\n",
       " 1.0,\n",
       " 1.0,\n",
       " 1.0,\n",
       " 1.0,\n",
       " 1.0,\n",
       " 1.0,\n",
       " 1.0,\n",
       " 1.0,\n",
       " 1.0,\n",
       " 1.0,\n",
       " 1.0,\n",
       " 1.0,\n",
       " 1.0,\n",
       " 1.0,\n",
       " 1.0,\n",
       " 1.0,\n",
       " 1.0,\n",
       " 1.0,\n",
       " 1.0,\n",
       " 1.0,\n",
       " 1.0,\n",
       " 1.0,\n",
       " 1.0,\n",
       " 1.0,\n",
       " 1.0,\n",
       " 1.0,\n",
       " 1.0,\n",
       " 1.0,\n",
       " 1.0,\n",
       " 1.0,\n",
       " 1.0,\n",
       " 1.0,\n",
       " 1.0,\n",
       " 1.0,\n",
       " 1.0,\n",
       " 1.0,\n",
       " 1.0,\n",
       " 1.0,\n",
       " 1.0,\n",
       " 1.0,\n",
       " 1.0,\n",
       " 1.0,\n",
       " 1.0,\n",
       " 1.0,\n",
       " 1.0,\n",
       " 1.0,\n",
       " 1.0,\n",
       " 1.0,\n",
       " 1.0,\n",
       " 1.0,\n",
       " 1.0,\n",
       " 1.0,\n",
       " 1.0,\n",
       " 1.0,\n",
       " 1.0,\n",
       " 1.0,\n",
       " 1.0,\n",
       " 1.0,\n",
       " 1.0,\n",
       " 1.0,\n",
       " 1.0,\n",
       " 1.0,\n",
       " 1.0,\n",
       " 1.0,\n",
       " 1.0,\n",
       " 1.0,\n",
       " 1.0,\n",
       " 1.0,\n",
       " 1.0,\n",
       " 1.0,\n",
       " 1.0,\n",
       " 1.0,\n",
       " 1.0,\n",
       " 1.0,\n",
       " 1.0,\n",
       " 1.0,\n",
       " 1.0,\n",
       " 1.0,\n",
       " 1.0,\n",
       " 1.0,\n",
       " 1.0,\n",
       " 1.0,\n",
       " 1.0,\n",
       " 1.0,\n",
       " 1.0,\n",
       " 1.0,\n",
       " 1.0,\n",
       " 1.0,\n",
       " 1.0,\n",
       " 1.0,\n",
       " 1.0,\n",
       " 1.0,\n",
       " 1.0,\n",
       " 1.0,\n",
       " 1.0,\n",
       " 1.0,\n",
       " 1.0,\n",
       " 1.0,\n",
       " 1.0,\n",
       " 1.0,\n",
       " 1.0,\n",
       " 1.0,\n",
       " 1.0,\n",
       " 1.0,\n",
       " 1.0,\n",
       " 1.0,\n",
       " 1.0,\n",
       " ...]"
      ]
     },
     "execution_count": 8,
     "metadata": {},
     "output_type": "execute_result"
    }
   ],
   "source": [
    "sorted(data_next['bathrooms'])"
   ]
  },
  {
   "cell_type": "code",
   "execution_count": 9,
   "metadata": {},
   "outputs": [
    {
     "data": {
      "text/html": [
       "<div>\n",
       "<style scoped>\n",
       "    .dataframe tbody tr th:only-of-type {\n",
       "        vertical-align: middle;\n",
       "    }\n",
       "\n",
       "    .dataframe tbody tr th {\n",
       "        vertical-align: top;\n",
       "    }\n",
       "\n",
       "    .dataframe thead th {\n",
       "        text-align: right;\n",
       "    }\n",
       "</style>\n",
       "<table border=\"1\" class=\"dataframe\">\n",
       "  <thead>\n",
       "    <tr style=\"text-align: right;\">\n",
       "      <th></th>\n",
       "      <th>bathrooms</th>\n",
       "      <th>bedrooms</th>\n",
       "      <th>latitude</th>\n",
       "      <th>longitude</th>\n",
       "      <th>price</th>\n",
       "      <th>Zip</th>\n",
       "      <th>Median Household Income</th>\n",
       "      <th>Number of Income Household</th>\n",
       "      <th>Number Population by Race</th>\n",
       "      <th>Number of Family Households in Poverty</th>\n",
       "      <th>Number of individual unemployed</th>\n",
       "      <th>mindistance</th>\n",
       "      <th>storecount_mediandistance</th>\n",
       "    </tr>\n",
       "  </thead>\n",
       "  <tbody>\n",
       "    <tr>\n",
       "      <th>count</th>\n",
       "      <td>49352.00000</td>\n",
       "      <td>49352.000000</td>\n",
       "      <td>49352.000000</td>\n",
       "      <td>49352.000000</td>\n",
       "      <td>4.935200e+04</td>\n",
       "      <td>49339.000000</td>\n",
       "      <td>48963.000000</td>\n",
       "      <td>48963.000000</td>\n",
       "      <td>48963.000000</td>\n",
       "      <td>48963.000000</td>\n",
       "      <td>48963.000000</td>\n",
       "      <td>49352.000000</td>\n",
       "      <td>49352.000000</td>\n",
       "    </tr>\n",
       "    <tr>\n",
       "      <th>mean</th>\n",
       "      <td>1.21218</td>\n",
       "      <td>1.541640</td>\n",
       "      <td>40.741545</td>\n",
       "      <td>-73.955716</td>\n",
       "      <td>3.830174e+03</td>\n",
       "      <td>10190.361377</td>\n",
       "      <td>91003.467884</td>\n",
       "      <td>22018.205747</td>\n",
       "      <td>45741.077222</td>\n",
       "      <td>8687.341973</td>\n",
       "      <td>27769.459265</td>\n",
       "      <td>2.124403</td>\n",
       "      <td>3.137583</td>\n",
       "    </tr>\n",
       "    <tr>\n",
       "      <th>std</th>\n",
       "      <td>0.50142</td>\n",
       "      <td>1.115018</td>\n",
       "      <td>0.638535</td>\n",
       "      <td>1.177912</td>\n",
       "      <td>2.206687e+04</td>\n",
       "      <td>669.985340</td>\n",
       "      <td>31937.362824</td>\n",
       "      <td>9733.195504</td>\n",
       "      <td>22769.525175</td>\n",
       "      <td>5040.065737</td>\n",
       "      <td>12241.363181</td>\n",
       "      <td>84.983427</td>\n",
       "      <td>4.405772</td>\n",
       "    </tr>\n",
       "    <tr>\n",
       "      <th>min</th>\n",
       "      <td>0.00000</td>\n",
       "      <td>0.000000</td>\n",
       "      <td>0.000000</td>\n",
       "      <td>-118.271000</td>\n",
       "      <td>4.300000e+01</td>\n",
       "      <td>83.000000</td>\n",
       "      <td>-1.000000</td>\n",
       "      <td>0.000000</td>\n",
       "      <td>0.000000</td>\n",
       "      <td>0.000000</td>\n",
       "      <td>0.000000</td>\n",
       "      <td>0.000000</td>\n",
       "      <td>0.000000</td>\n",
       "    </tr>\n",
       "    <tr>\n",
       "      <th>25%</th>\n",
       "      <td>1.00000</td>\n",
       "      <td>1.000000</td>\n",
       "      <td>40.728300</td>\n",
       "      <td>-73.991700</td>\n",
       "      <td>2.500000e+03</td>\n",
       "      <td>10014.000000</td>\n",
       "      <td>74065.000000</td>\n",
       "      <td>15455.000000</td>\n",
       "      <td>27415.000000</td>\n",
       "      <td>4482.000000</td>\n",
       "      <td>19135.000000</td>\n",
       "      <td>0.190000</td>\n",
       "      <td>0.000000</td>\n",
       "    </tr>\n",
       "    <tr>\n",
       "      <th>50%</th>\n",
       "      <td>1.00000</td>\n",
       "      <td>1.000000</td>\n",
       "      <td>40.751800</td>\n",
       "      <td>-73.977900</td>\n",
       "      <td>3.150000e+03</td>\n",
       "      <td>10023.000000</td>\n",
       "      <td>100200.000000</td>\n",
       "      <td>23146.000000</td>\n",
       "      <td>46883.000000</td>\n",
       "      <td>7958.000000</td>\n",
       "      <td>30318.000000</td>\n",
       "      <td>0.280000</td>\n",
       "      <td>1.000000</td>\n",
       "    </tr>\n",
       "    <tr>\n",
       "      <th>75%</th>\n",
       "      <td>1.00000</td>\n",
       "      <td>2.000000</td>\n",
       "      <td>40.774300</td>\n",
       "      <td>-73.954800</td>\n",
       "      <td>4.100000e+03</td>\n",
       "      <td>10040.000000</td>\n",
       "      <td>111478.000000</td>\n",
       "      <td>28918.000000</td>\n",
       "      <td>60586.000000</td>\n",
       "      <td>11826.000000</td>\n",
       "      <td>36392.000000</td>\n",
       "      <td>0.370000</td>\n",
       "      <td>5.000000</td>\n",
       "    </tr>\n",
       "    <tr>\n",
       "      <th>max</th>\n",
       "      <td>10.00000</td>\n",
       "      <td>8.000000</td>\n",
       "      <td>44.883500</td>\n",
       "      <td>0.000000</td>\n",
       "      <td>4.490000e+06</td>\n",
       "      <td>90011.000000</td>\n",
       "      <td>250001.000000</td>\n",
       "      <td>43456.000000</td>\n",
       "      <td>112709.000000</td>\n",
       "      <td>24350.000000</td>\n",
       "      <td>57642.000000</td>\n",
       "      <td>5385.720000</td>\n",
       "      <td>29.000000</td>\n",
       "    </tr>\n",
       "  </tbody>\n",
       "</table>\n",
       "</div>"
      ],
      "text/plain": [
       "         bathrooms      bedrooms      latitude     longitude         price  \\\n",
       "count  49352.00000  49352.000000  49352.000000  49352.000000  4.935200e+04   \n",
       "mean       1.21218      1.541640     40.741545    -73.955716  3.830174e+03   \n",
       "std        0.50142      1.115018      0.638535      1.177912  2.206687e+04   \n",
       "min        0.00000      0.000000      0.000000   -118.271000  4.300000e+01   \n",
       "25%        1.00000      1.000000     40.728300    -73.991700  2.500000e+03   \n",
       "50%        1.00000      1.000000     40.751800    -73.977900  3.150000e+03   \n",
       "75%        1.00000      2.000000     40.774300    -73.954800  4.100000e+03   \n",
       "max       10.00000      8.000000     44.883500      0.000000  4.490000e+06   \n",
       "\n",
       "                Zip  Median Household Income  Number of Income Household   \\\n",
       "count  49339.000000             48963.000000                 48963.000000   \n",
       "mean   10190.361377             91003.467884                 22018.205747   \n",
       "std      669.985340             31937.362824                  9733.195504   \n",
       "min       83.000000                -1.000000                     0.000000   \n",
       "25%    10014.000000             74065.000000                 15455.000000   \n",
       "50%    10023.000000            100200.000000                 23146.000000   \n",
       "75%    10040.000000            111478.000000                 28918.000000   \n",
       "max    90011.000000            250001.000000                 43456.000000   \n",
       "\n",
       "       Number Population by Race  Number of Family Households in Poverty   \\\n",
       "count               48963.000000                             48963.000000   \n",
       "mean                45741.077222                              8687.341973   \n",
       "std                 22769.525175                              5040.065737   \n",
       "min                     0.000000                                 0.000000   \n",
       "25%                 27415.000000                              4482.000000   \n",
       "50%                 46883.000000                              7958.000000   \n",
       "75%                 60586.000000                             11826.000000   \n",
       "max                112709.000000                             24350.000000   \n",
       "\n",
       "       Number of individual unemployed   mindistance  \\\n",
       "count                     48963.000000  49352.000000   \n",
       "mean                      27769.459265      2.124403   \n",
       "std                       12241.363181     84.983427   \n",
       "min                           0.000000      0.000000   \n",
       "25%                       19135.000000      0.190000   \n",
       "50%                       30318.000000      0.280000   \n",
       "75%                       36392.000000      0.370000   \n",
       "max                       57642.000000   5385.720000   \n",
       "\n",
       "       storecount_mediandistance  \n",
       "count               49352.000000  \n",
       "mean                    3.137583  \n",
       "std                     4.405772  \n",
       "min                     0.000000  \n",
       "25%                     0.000000  \n",
       "50%                     1.000000  \n",
       "75%                     5.000000  \n",
       "max                    29.000000  "
      ]
     },
     "execution_count": 9,
     "metadata": {},
     "output_type": "execute_result"
    }
   ],
   "source": [
    "Final_Project_Data.describe()"
   ]
  },
  {
   "cell_type": "code",
   "execution_count": 10,
   "metadata": {},
   "outputs": [
    {
     "data": {
      "text/plain": [
       "49352"
      ]
     },
     "execution_count": 10,
     "metadata": {},
     "output_type": "execute_result"
    }
   ],
   "source": [
    "len(Final_Project_Data)"
   ]
  },
  {
   "cell_type": "code",
   "execution_count": 11,
   "metadata": {},
   "outputs": [
    {
     "data": {
      "text/html": [
       "<div>\n",
       "<style scoped>\n",
       "    .dataframe tbody tr th:only-of-type {\n",
       "        vertical-align: middle;\n",
       "    }\n",
       "\n",
       "    .dataframe tbody tr th {\n",
       "        vertical-align: top;\n",
       "    }\n",
       "\n",
       "    .dataframe thead th {\n",
       "        text-align: right;\n",
       "    }\n",
       "</style>\n",
       "<table border=\"1\" class=\"dataframe\">\n",
       "  <thead>\n",
       "    <tr style=\"text-align: right;\">\n",
       "      <th></th>\n",
       "      <th>bathrooms</th>\n",
       "      <th>bedrooms</th>\n",
       "      <th>latitude</th>\n",
       "      <th>longitude</th>\n",
       "      <th>price</th>\n",
       "      <th>Zip</th>\n",
       "      <th>Median Household Income</th>\n",
       "      <th>Number of Income Household</th>\n",
       "      <th>Number Population by Race</th>\n",
       "      <th>Number of Family Households in Poverty</th>\n",
       "      <th>Number of individual unemployed</th>\n",
       "      <th>mindistance</th>\n",
       "      <th>storecount_mediandistance</th>\n",
       "      <th>interest_level</th>\n",
       "    </tr>\n",
       "  </thead>\n",
       "  <tbody>\n",
       "    <tr>\n",
       "      <th>0</th>\n",
       "      <td>1.5</td>\n",
       "      <td>3.0</td>\n",
       "      <td>40.7145</td>\n",
       "      <td>-73.9425</td>\n",
       "      <td>3000.0</td>\n",
       "      <td>11211.0</td>\n",
       "      <td>54406.0</td>\n",
       "      <td>37381.0</td>\n",
       "      <td>97772.0</td>\n",
       "      <td>18948.0</td>\n",
       "      <td>52303.0</td>\n",
       "      <td>2.24</td>\n",
       "      <td>0</td>\n",
       "      <td>medium</td>\n",
       "    </tr>\n",
       "    <tr>\n",
       "      <th>1</th>\n",
       "      <td>1.0</td>\n",
       "      <td>2.0</td>\n",
       "      <td>40.7947</td>\n",
       "      <td>-73.9667</td>\n",
       "      <td>5465.0</td>\n",
       "      <td>10025.0</td>\n",
       "      <td>74065.0</td>\n",
       "      <td>43456.0</td>\n",
       "      <td>96068.0</td>\n",
       "      <td>19089.0</td>\n",
       "      <td>54390.0</td>\n",
       "      <td>0.37</td>\n",
       "      <td>0</td>\n",
       "      <td>low</td>\n",
       "    </tr>\n",
       "    <tr>\n",
       "      <th>2</th>\n",
       "      <td>1.0</td>\n",
       "      <td>1.0</td>\n",
       "      <td>40.7388</td>\n",
       "      <td>-74.0018</td>\n",
       "      <td>2850.0</td>\n",
       "      <td>10011.0</td>\n",
       "      <td>109818.0</td>\n",
       "      <td>29762.0</td>\n",
       "      <td>52349.0</td>\n",
       "      <td>9004.0</td>\n",
       "      <td>36403.0</td>\n",
       "      <td>0.13</td>\n",
       "      <td>7</td>\n",
       "      <td>high</td>\n",
       "    </tr>\n",
       "    <tr>\n",
       "      <th>3</th>\n",
       "      <td>1.0</td>\n",
       "      <td>1.0</td>\n",
       "      <td>40.7539</td>\n",
       "      <td>-73.9677</td>\n",
       "      <td>3275.0</td>\n",
       "      <td>10022.0</td>\n",
       "      <td>126378.0</td>\n",
       "      <td>17892.0</td>\n",
       "      <td>30607.0</td>\n",
       "      <td>5998.0</td>\n",
       "      <td>19783.0</td>\n",
       "      <td>0.30</td>\n",
       "      <td>0</td>\n",
       "      <td>low</td>\n",
       "    </tr>\n",
       "    <tr>\n",
       "      <th>4</th>\n",
       "      <td>1.0</td>\n",
       "      <td>4.0</td>\n",
       "      <td>40.8241</td>\n",
       "      <td>-73.9493</td>\n",
       "      <td>3350.0</td>\n",
       "      <td>10031.0</td>\n",
       "      <td>39774.0</td>\n",
       "      <td>21191.0</td>\n",
       "      <td>59244.0</td>\n",
       "      <td>10655.0</td>\n",
       "      <td>34229.0</td>\n",
       "      <td>0.56</td>\n",
       "      <td>0</td>\n",
       "      <td>low</td>\n",
       "    </tr>\n",
       "  </tbody>\n",
       "</table>\n",
       "</div>"
      ],
      "text/plain": [
       "   bathrooms  bedrooms  latitude  longitude   price      Zip  \\\n",
       "0        1.5       3.0   40.7145   -73.9425  3000.0  11211.0   \n",
       "1        1.0       2.0   40.7947   -73.9667  5465.0  10025.0   \n",
       "2        1.0       1.0   40.7388   -74.0018  2850.0  10011.0   \n",
       "3        1.0       1.0   40.7539   -73.9677  3275.0  10022.0   \n",
       "4        1.0       4.0   40.8241   -73.9493  3350.0  10031.0   \n",
       "\n",
       "   Median Household Income  Number of Income Household   \\\n",
       "0                  54406.0                      37381.0   \n",
       "1                  74065.0                      43456.0   \n",
       "2                 109818.0                      29762.0   \n",
       "3                 126378.0                      17892.0   \n",
       "4                  39774.0                      21191.0   \n",
       "\n",
       "   Number Population by Race  Number of Family Households in Poverty   \\\n",
       "0                    97772.0                                  18948.0   \n",
       "1                    96068.0                                  19089.0   \n",
       "2                    52349.0                                   9004.0   \n",
       "3                    30607.0                                   5998.0   \n",
       "4                    59244.0                                  10655.0   \n",
       "\n",
       "   Number of individual unemployed  mindistance  storecount_mediandistance  \\\n",
       "0                          52303.0         2.24                          0   \n",
       "1                          54390.0         0.37                          0   \n",
       "2                          36403.0         0.13                          7   \n",
       "3                          19783.0         0.30                          0   \n",
       "4                          34229.0         0.56                          0   \n",
       "\n",
       "  interest_level  \n",
       "0         medium  \n",
       "1            low  \n",
       "2           high  \n",
       "3            low  \n",
       "4            low  "
      ]
     },
     "execution_count": 11,
     "metadata": {},
     "output_type": "execute_result"
    }
   ],
   "source": [
    "Final_Project_Data.head()"
   ]
  },
  {
   "cell_type": "code",
   "execution_count": 12,
   "metadata": {},
   "outputs": [
    {
     "name": "stdout",
     "output_type": "stream",
     "text": [
      "<class 'pandas.core.frame.DataFrame'>\n",
      "RangeIndex: 49352 entries, 0 to 49351\n",
      "Data columns (total 14 columns):\n",
      "bathrooms                                  49352 non-null float64\n",
      "bedrooms                                   49352 non-null float64\n",
      "latitude                                   49352 non-null float64\n",
      "longitude                                  49352 non-null float64\n",
      "price                                      49352 non-null float64\n",
      "Zip                                        49339 non-null float64\n",
      "Median Household Income                    48963 non-null float64\n",
      "Number of Income Household                 48963 non-null float64\n",
      "Number Population by Race                  48963 non-null float64\n",
      "Number of Family Households in Poverty     48963 non-null float64\n",
      "Number of individual unemployed            48963 non-null float64\n",
      "mindistance                                49352 non-null float64\n",
      "storecount_mediandistance                  49352 non-null int64\n",
      "interest_level                             49352 non-null object\n",
      "dtypes: float64(12), int64(1), object(1)\n",
      "memory usage: 5.3+ MB\n"
     ]
    }
   ],
   "source": [
    "Final_Project_Data.info()"
   ]
  },
  {
   "cell_type": "code",
   "execution_count": 13,
   "metadata": {},
   "outputs": [
    {
     "data": {
      "text/plain": [
       "bathrooms                                  0.000000\n",
       "bedrooms                                   0.000000\n",
       "latitude                                   0.000000\n",
       "longitude                                  0.000000\n",
       "price                                      0.000000\n",
       "Zip                                        0.026341\n",
       "Median Household Income                    0.788215\n",
       "Number of Income Household                 0.788215\n",
       "Number Population by Race                  0.788215\n",
       "Number of Family Households in Poverty     0.788215\n",
       "Number of individual unemployed            0.788215\n",
       "mindistance                                0.000000\n",
       "storecount_mediandistance                  0.000000\n",
       "interest_level                             0.000000\n",
       "dtype: float64"
      ]
     },
     "execution_count": 13,
     "metadata": {},
     "output_type": "execute_result"
    }
   ],
   "source": [
    "(Final_Project_Data.isnull().sum()/len(Final_Project_Data))*100"
   ]
  },
  {
   "cell_type": "markdown",
   "metadata": {},
   "source": [
    "## Data B - Where missing records will be interpolate to the nearest. "
   ]
  },
  {
   "cell_type": "code",
   "execution_count": 14,
   "metadata": {},
   "outputs": [],
   "source": [
    "Final_Project_Data_B=Final_Project_Data.interpolate(method='nearest')"
   ]
  },
  {
   "cell_type": "code",
   "execution_count": 15,
   "metadata": {},
   "outputs": [
    {
     "name": "stdout",
     "output_type": "stream",
     "text": [
      "<class 'pandas.core.frame.DataFrame'>\n",
      "RangeIndex: 49352 entries, 0 to 49351\n",
      "Data columns (total 14 columns):\n",
      "bathrooms                                  49352 non-null float64\n",
      "bedrooms                                   49352 non-null float64\n",
      "latitude                                   49352 non-null float64\n",
      "longitude                                  49352 non-null float64\n",
      "price                                      49352 non-null float64\n",
      "Zip                                        49351 non-null float64\n",
      "Median Household Income                    49351 non-null float64\n",
      "Number of Income Household                 49351 non-null float64\n",
      "Number Population by Race                  49351 non-null float64\n",
      "Number of Family Households in Poverty     49351 non-null float64\n",
      "Number of individual unemployed            49351 non-null float64\n",
      "mindistance                                49352 non-null float64\n",
      "storecount_mediandistance                  49352 non-null int64\n",
      "interest_level                             49352 non-null object\n",
      "dtypes: float64(12), int64(1), object(1)\n",
      "memory usage: 5.3+ MB\n"
     ]
    }
   ],
   "source": [
    "Final_Project_Data_B.info()"
   ]
  },
  {
   "cell_type": "code",
   "execution_count": 16,
   "metadata": {
    "scrolled": false
   },
   "outputs": [
    {
     "name": "stdout",
     "output_type": "stream",
     "text": [
      "<class 'pandas.core.frame.DataFrame'>\n",
      "Int64Index: 49351 entries, 0 to 49350\n",
      "Data columns (total 14 columns):\n",
      "bathrooms                                  49351 non-null float64\n",
      "bedrooms                                   49351 non-null float64\n",
      "latitude                                   49351 non-null float64\n",
      "longitude                                  49351 non-null float64\n",
      "price                                      49351 non-null float64\n",
      "Zip                                        49351 non-null float64\n",
      "Median Household Income                    49351 non-null float64\n",
      "Number of Income Household                 49351 non-null float64\n",
      "Number Population by Race                  49351 non-null float64\n",
      "Number of Family Households in Poverty     49351 non-null float64\n",
      "Number of individual unemployed            49351 non-null float64\n",
      "mindistance                                49351 non-null float64\n",
      "storecount_mediandistance                  49351 non-null int64\n",
      "interest_level                             49351 non-null object\n",
      "dtypes: float64(12), int64(1), object(1)\n",
      "memory usage: 5.6+ MB\n"
     ]
    }
   ],
   "source": [
    "Final_Project_Data_B = Final_Project_Data_B.dropna(how='any')\n",
    "Final_Project_Data_B.info()"
   ]
  },
  {
   "cell_type": "code",
   "execution_count": 17,
   "metadata": {},
   "outputs": [
    {
     "data": {
      "text/html": [
       "<div>\n",
       "<style scoped>\n",
       "    .dataframe tbody tr th:only-of-type {\n",
       "        vertical-align: middle;\n",
       "    }\n",
       "\n",
       "    .dataframe tbody tr th {\n",
       "        vertical-align: top;\n",
       "    }\n",
       "\n",
       "    .dataframe thead th {\n",
       "        text-align: right;\n",
       "    }\n",
       "</style>\n",
       "<table border=\"1\" class=\"dataframe\">\n",
       "  <thead>\n",
       "    <tr style=\"text-align: right;\">\n",
       "      <th></th>\n",
       "      <th>bathrooms</th>\n",
       "      <th>bedrooms</th>\n",
       "      <th>latitude</th>\n",
       "      <th>longitude</th>\n",
       "      <th>price</th>\n",
       "      <th>Zip</th>\n",
       "      <th>Median Household Income</th>\n",
       "      <th>Number of Income Household</th>\n",
       "      <th>Number Population by Race</th>\n",
       "      <th>Number of Family Households in Poverty</th>\n",
       "      <th>Number of individual unemployed</th>\n",
       "      <th>mindistance</th>\n",
       "      <th>storecount_mediandistance</th>\n",
       "    </tr>\n",
       "  </thead>\n",
       "  <tbody>\n",
       "    <tr>\n",
       "      <th>count</th>\n",
       "      <td>49351.000000</td>\n",
       "      <td>49351.000000</td>\n",
       "      <td>49351.000000</td>\n",
       "      <td>49351.000000</td>\n",
       "      <td>4.935100e+04</td>\n",
       "      <td>49351.000000</td>\n",
       "      <td>49351.000000</td>\n",
       "      <td>49351.000000</td>\n",
       "      <td>49351.000000</td>\n",
       "      <td>49351.000000</td>\n",
       "      <td>49351.000000</td>\n",
       "      <td>49351.000000</td>\n",
       "      <td>49351.000000</td>\n",
       "    </tr>\n",
       "    <tr>\n",
       "      <th>mean</th>\n",
       "      <td>1.212184</td>\n",
       "      <td>1.541630</td>\n",
       "      <td>40.741542</td>\n",
       "      <td>-73.955716</td>\n",
       "      <td>3.830207e+03</td>\n",
       "      <td>10190.354096</td>\n",
       "      <td>90995.790035</td>\n",
       "      <td>22018.643655</td>\n",
       "      <td>45737.844096</td>\n",
       "      <td>8686.415473</td>\n",
       "      <td>27769.659602</td>\n",
       "      <td>2.124433</td>\n",
       "      <td>3.137647</td>\n",
       "    </tr>\n",
       "    <tr>\n",
       "      <th>std</th>\n",
       "      <td>0.501424</td>\n",
       "      <td>1.115028</td>\n",
       "      <td>0.638542</td>\n",
       "      <td>1.177924</td>\n",
       "      <td>2.206709e+04</td>\n",
       "      <td>669.925224</td>\n",
       "      <td>31907.348703</td>\n",
       "      <td>9730.227745</td>\n",
       "      <td>22760.406198</td>\n",
       "      <td>5038.669332</td>\n",
       "      <td>12237.480448</td>\n",
       "      <td>84.984287</td>\n",
       "      <td>4.405794</td>\n",
       "    </tr>\n",
       "    <tr>\n",
       "      <th>min</th>\n",
       "      <td>0.000000</td>\n",
       "      <td>0.000000</td>\n",
       "      <td>0.000000</td>\n",
       "      <td>-118.271000</td>\n",
       "      <td>4.300000e+01</td>\n",
       "      <td>83.000000</td>\n",
       "      <td>-1.000000</td>\n",
       "      <td>0.000000</td>\n",
       "      <td>0.000000</td>\n",
       "      <td>0.000000</td>\n",
       "      <td>0.000000</td>\n",
       "      <td>0.000000</td>\n",
       "      <td>0.000000</td>\n",
       "    </tr>\n",
       "    <tr>\n",
       "      <th>25%</th>\n",
       "      <td>1.000000</td>\n",
       "      <td>1.000000</td>\n",
       "      <td>40.728300</td>\n",
       "      <td>-73.991700</td>\n",
       "      <td>2.500000e+03</td>\n",
       "      <td>10014.000000</td>\n",
       "      <td>74065.000000</td>\n",
       "      <td>15455.000000</td>\n",
       "      <td>27415.000000</td>\n",
       "      <td>4482.000000</td>\n",
       "      <td>19135.000000</td>\n",
       "      <td>0.190000</td>\n",
       "      <td>0.000000</td>\n",
       "    </tr>\n",
       "    <tr>\n",
       "      <th>50%</th>\n",
       "      <td>1.000000</td>\n",
       "      <td>1.000000</td>\n",
       "      <td>40.751800</td>\n",
       "      <td>-73.977900</td>\n",
       "      <td>3.150000e+03</td>\n",
       "      <td>10023.000000</td>\n",
       "      <td>100200.000000</td>\n",
       "      <td>23146.000000</td>\n",
       "      <td>46883.000000</td>\n",
       "      <td>7958.000000</td>\n",
       "      <td>30318.000000</td>\n",
       "      <td>0.280000</td>\n",
       "      <td>1.000000</td>\n",
       "    </tr>\n",
       "    <tr>\n",
       "      <th>75%</th>\n",
       "      <td>1.000000</td>\n",
       "      <td>2.000000</td>\n",
       "      <td>40.774300</td>\n",
       "      <td>-73.954800</td>\n",
       "      <td>4.100000e+03</td>\n",
       "      <td>10040.000000</td>\n",
       "      <td>111478.000000</td>\n",
       "      <td>28918.000000</td>\n",
       "      <td>60586.000000</td>\n",
       "      <td>11826.000000</td>\n",
       "      <td>36392.000000</td>\n",
       "      <td>0.370000</td>\n",
       "      <td>5.000000</td>\n",
       "    </tr>\n",
       "    <tr>\n",
       "      <th>max</th>\n",
       "      <td>10.000000</td>\n",
       "      <td>8.000000</td>\n",
       "      <td>44.883500</td>\n",
       "      <td>0.000000</td>\n",
       "      <td>4.490000e+06</td>\n",
       "      <td>90011.000000</td>\n",
       "      <td>250001.000000</td>\n",
       "      <td>43456.000000</td>\n",
       "      <td>112709.000000</td>\n",
       "      <td>24350.000000</td>\n",
       "      <td>57642.000000</td>\n",
       "      <td>5385.720000</td>\n",
       "      <td>29.000000</td>\n",
       "    </tr>\n",
       "  </tbody>\n",
       "</table>\n",
       "</div>"
      ],
      "text/plain": [
       "          bathrooms      bedrooms      latitude     longitude         price  \\\n",
       "count  49351.000000  49351.000000  49351.000000  49351.000000  4.935100e+04   \n",
       "mean       1.212184      1.541630     40.741542    -73.955716  3.830207e+03   \n",
       "std        0.501424      1.115028      0.638542      1.177924  2.206709e+04   \n",
       "min        0.000000      0.000000      0.000000   -118.271000  4.300000e+01   \n",
       "25%        1.000000      1.000000     40.728300    -73.991700  2.500000e+03   \n",
       "50%        1.000000      1.000000     40.751800    -73.977900  3.150000e+03   \n",
       "75%        1.000000      2.000000     40.774300    -73.954800  4.100000e+03   \n",
       "max       10.000000      8.000000     44.883500      0.000000  4.490000e+06   \n",
       "\n",
       "                Zip  Median Household Income  Number of Income Household   \\\n",
       "count  49351.000000             49351.000000                 49351.000000   \n",
       "mean   10190.354096             90995.790035                 22018.643655   \n",
       "std      669.925224             31907.348703                  9730.227745   \n",
       "min       83.000000                -1.000000                     0.000000   \n",
       "25%    10014.000000             74065.000000                 15455.000000   \n",
       "50%    10023.000000            100200.000000                 23146.000000   \n",
       "75%    10040.000000            111478.000000                 28918.000000   \n",
       "max    90011.000000            250001.000000                 43456.000000   \n",
       "\n",
       "       Number Population by Race  Number of Family Households in Poverty   \\\n",
       "count               49351.000000                             49351.000000   \n",
       "mean                45737.844096                              8686.415473   \n",
       "std                 22760.406198                              5038.669332   \n",
       "min                     0.000000                                 0.000000   \n",
       "25%                 27415.000000                              4482.000000   \n",
       "50%                 46883.000000                              7958.000000   \n",
       "75%                 60586.000000                             11826.000000   \n",
       "max                112709.000000                             24350.000000   \n",
       "\n",
       "       Number of individual unemployed   mindistance  \\\n",
       "count                     49351.000000  49351.000000   \n",
       "mean                      27769.659602      2.124433   \n",
       "std                       12237.480448     84.984287   \n",
       "min                           0.000000      0.000000   \n",
       "25%                       19135.000000      0.190000   \n",
       "50%                       30318.000000      0.280000   \n",
       "75%                       36392.000000      0.370000   \n",
       "max                       57642.000000   5385.720000   \n",
       "\n",
       "       storecount_mediandistance  \n",
       "count               49351.000000  \n",
       "mean                    3.137647  \n",
       "std                     4.405794  \n",
       "min                     0.000000  \n",
       "25%                     0.000000  \n",
       "50%                     1.000000  \n",
       "75%                     5.000000  \n",
       "max                    29.000000  "
      ]
     },
     "execution_count": 17,
     "metadata": {},
     "output_type": "execute_result"
    }
   ],
   "source": [
    "Final_Project_Data_B.describe()"
   ]
  },
  {
   "cell_type": "markdown",
   "metadata": {},
   "source": [
    "#### ****END of Data B. Number of none null values = 49,351"
   ]
  },
  {
   "cell_type": "markdown",
   "metadata": {},
   "source": [
    "## Preprocessing and Modelling of Data B"
   ]
  },
  {
   "cell_type": "markdown",
   "metadata": {},
   "source": [
    "#### Scaling for feature engineering"
   ]
  },
  {
   "cell_type": "code",
   "execution_count": 18,
   "metadata": {
    "scrolled": false
   },
   "outputs": [
    {
     "data": {
      "text/html": [
       "<div>\n",
       "<style scoped>\n",
       "    .dataframe tbody tr th:only-of-type {\n",
       "        vertical-align: middle;\n",
       "    }\n",
       "\n",
       "    .dataframe tbody tr th {\n",
       "        vertical-align: top;\n",
       "    }\n",
       "\n",
       "    .dataframe thead th {\n",
       "        text-align: right;\n",
       "    }\n",
       "</style>\n",
       "<table border=\"1\" class=\"dataframe\">\n",
       "  <thead>\n",
       "    <tr style=\"text-align: right;\">\n",
       "      <th></th>\n",
       "      <th>bathrooms</th>\n",
       "      <th>bedrooms</th>\n",
       "      <th>latitude</th>\n",
       "      <th>longitude</th>\n",
       "      <th>price</th>\n",
       "      <th>Zip</th>\n",
       "      <th>Median Household Income</th>\n",
       "      <th>Number of Income Household</th>\n",
       "      <th>Number Population by Race</th>\n",
       "      <th>Number of Family Households in Poverty</th>\n",
       "      <th>Number of individual unemployed</th>\n",
       "      <th>mindistance</th>\n",
       "      <th>storecount_mediandistance</th>\n",
       "      <th>interest_level</th>\n",
       "    </tr>\n",
       "  </thead>\n",
       "  <tbody>\n",
       "    <tr>\n",
       "      <th>0</th>\n",
       "      <td>1.5</td>\n",
       "      <td>3.0</td>\n",
       "      <td>40.7145</td>\n",
       "      <td>-73.9425</td>\n",
       "      <td>3000.0</td>\n",
       "      <td>11211.0</td>\n",
       "      <td>54406.0</td>\n",
       "      <td>37381.0</td>\n",
       "      <td>97772.0</td>\n",
       "      <td>18948.0</td>\n",
       "      <td>52303.0</td>\n",
       "      <td>2.24</td>\n",
       "      <td>0</td>\n",
       "      <td>medium</td>\n",
       "    </tr>\n",
       "    <tr>\n",
       "      <th>1</th>\n",
       "      <td>1.0</td>\n",
       "      <td>2.0</td>\n",
       "      <td>40.7947</td>\n",
       "      <td>-73.9667</td>\n",
       "      <td>5465.0</td>\n",
       "      <td>10025.0</td>\n",
       "      <td>74065.0</td>\n",
       "      <td>43456.0</td>\n",
       "      <td>96068.0</td>\n",
       "      <td>19089.0</td>\n",
       "      <td>54390.0</td>\n",
       "      <td>0.37</td>\n",
       "      <td>0</td>\n",
       "      <td>low</td>\n",
       "    </tr>\n",
       "    <tr>\n",
       "      <th>2</th>\n",
       "      <td>1.0</td>\n",
       "      <td>1.0</td>\n",
       "      <td>40.7388</td>\n",
       "      <td>-74.0018</td>\n",
       "      <td>2850.0</td>\n",
       "      <td>10011.0</td>\n",
       "      <td>109818.0</td>\n",
       "      <td>29762.0</td>\n",
       "      <td>52349.0</td>\n",
       "      <td>9004.0</td>\n",
       "      <td>36403.0</td>\n",
       "      <td>0.13</td>\n",
       "      <td>7</td>\n",
       "      <td>high</td>\n",
       "    </tr>\n",
       "    <tr>\n",
       "      <th>3</th>\n",
       "      <td>1.0</td>\n",
       "      <td>1.0</td>\n",
       "      <td>40.7539</td>\n",
       "      <td>-73.9677</td>\n",
       "      <td>3275.0</td>\n",
       "      <td>10022.0</td>\n",
       "      <td>126378.0</td>\n",
       "      <td>17892.0</td>\n",
       "      <td>30607.0</td>\n",
       "      <td>5998.0</td>\n",
       "      <td>19783.0</td>\n",
       "      <td>0.30</td>\n",
       "      <td>0</td>\n",
       "      <td>low</td>\n",
       "    </tr>\n",
       "    <tr>\n",
       "      <th>4</th>\n",
       "      <td>1.0</td>\n",
       "      <td>4.0</td>\n",
       "      <td>40.8241</td>\n",
       "      <td>-73.9493</td>\n",
       "      <td>3350.0</td>\n",
       "      <td>10031.0</td>\n",
       "      <td>39774.0</td>\n",
       "      <td>21191.0</td>\n",
       "      <td>59244.0</td>\n",
       "      <td>10655.0</td>\n",
       "      <td>34229.0</td>\n",
       "      <td>0.56</td>\n",
       "      <td>0</td>\n",
       "      <td>low</td>\n",
       "    </tr>\n",
       "  </tbody>\n",
       "</table>\n",
       "</div>"
      ],
      "text/plain": [
       "   bathrooms  bedrooms  latitude  longitude   price      Zip  \\\n",
       "0        1.5       3.0   40.7145   -73.9425  3000.0  11211.0   \n",
       "1        1.0       2.0   40.7947   -73.9667  5465.0  10025.0   \n",
       "2        1.0       1.0   40.7388   -74.0018  2850.0  10011.0   \n",
       "3        1.0       1.0   40.7539   -73.9677  3275.0  10022.0   \n",
       "4        1.0       4.0   40.8241   -73.9493  3350.0  10031.0   \n",
       "\n",
       "   Median Household Income  Number of Income Household   \\\n",
       "0                  54406.0                      37381.0   \n",
       "1                  74065.0                      43456.0   \n",
       "2                 109818.0                      29762.0   \n",
       "3                 126378.0                      17892.0   \n",
       "4                  39774.0                      21191.0   \n",
       "\n",
       "   Number Population by Race  Number of Family Households in Poverty   \\\n",
       "0                    97772.0                                  18948.0   \n",
       "1                    96068.0                                  19089.0   \n",
       "2                    52349.0                                   9004.0   \n",
       "3                    30607.0                                   5998.0   \n",
       "4                    59244.0                                  10655.0   \n",
       "\n",
       "   Number of individual unemployed  mindistance  storecount_mediandistance  \\\n",
       "0                          52303.0         2.24                          0   \n",
       "1                          54390.0         0.37                          0   \n",
       "2                          36403.0         0.13                          7   \n",
       "3                          19783.0         0.30                          0   \n",
       "4                          34229.0         0.56                          0   \n",
       "\n",
       "  interest_level  \n",
       "0         medium  \n",
       "1            low  \n",
       "2           high  \n",
       "3            low  \n",
       "4            low  "
      ]
     },
     "execution_count": 18,
     "metadata": {},
     "output_type": "execute_result"
    }
   ],
   "source": [
    "Final_Project_Data_B.head()"
   ]
  },
  {
   "cell_type": "code",
   "execution_count": 19,
   "metadata": {},
   "outputs": [
    {
     "data": {
      "text/plain": [
       "interest_level\n",
       "high      1.131334\n",
       "low       2.518640\n",
       "medium    1.260412\n",
       "Name: mindistance, dtype: float64"
      ]
     },
     "execution_count": 19,
     "metadata": {},
     "output_type": "execute_result"
    }
   ],
   "source": [
    "meandist = Final_Project_Data_B.groupby('interest_level')['mindistance'].mean()\n",
    "meandist"
   ]
  },
  {
   "cell_type": "code",
   "execution_count": 20,
   "metadata": {},
   "outputs": [
    {
     "data": {
      "text/plain": [
       "interest_level\n",
       "high      0.29\n",
       "low       0.27\n",
       "medium    0.28\n",
       "Name: mindistance, dtype: float64"
      ]
     },
     "execution_count": 20,
     "metadata": {},
     "output_type": "execute_result"
    }
   ],
   "source": [
    "medist = Final_Project_Data_B.groupby('interest_level')['mindistance'].median()\n",
    "medist"
   ]
  },
  {
   "cell_type": "code",
   "execution_count": null,
   "metadata": {},
   "outputs": [],
   "source": []
  },
  {
   "cell_type": "code",
   "execution_count": 45,
   "metadata": {},
   "outputs": [
    {
     "data": {
      "text/html": [
       "<div>\n",
       "<style>\n",
       "    .dataframe thead tr:only-child th {\n",
       "        text-align: right;\n",
       "    }\n",
       "\n",
       "    .dataframe thead th {\n",
       "        text-align: left;\n",
       "    }\n",
       "\n",
       "    .dataframe tbody tr th {\n",
       "        vertical-align: top;\n",
       "    }\n",
       "</style>\n",
       "<table border=\"1\" class=\"dataframe\">\n",
       "  <thead>\n",
       "    <tr style=\"text-align: right;\">\n",
       "      <th></th>\n",
       "      <th>interest_level</th>\n",
       "      <th>count</th>\n",
       "    </tr>\n",
       "  </thead>\n",
       "  <tbody>\n",
       "    <tr>\n",
       "      <th>0</th>\n",
       "      <td>high</td>\n",
       "      <td>3839</td>\n",
       "    </tr>\n",
       "    <tr>\n",
       "      <th>1</th>\n",
       "      <td>low</td>\n",
       "      <td>34283</td>\n",
       "    </tr>\n",
       "    <tr>\n",
       "      <th>2</th>\n",
       "      <td>medium</td>\n",
       "      <td>11229</td>\n",
       "    </tr>\n",
       "  </tbody>\n",
       "</table>\n",
       "</div>"
      ],
      "text/plain": [
       "  interest_level  count\n",
       "0           high   3839\n",
       "1            low  34283\n",
       "2         medium  11229"
      ]
     },
     "execution_count": 45,
     "metadata": {},
     "output_type": "execute_result"
    }
   ],
   "source": [
    "target = Final_Project_Data_B.groupby(['interest_level']).size().reset_index()\n",
    "target = pd.DataFrame(target)\n",
    "target.columns = ['interest_level', 'count']\n",
    "target"
   ]
  },
  {
   "cell_type": "code",
   "execution_count": 52,
   "metadata": {},
   "outputs": [
    {
     "data": {
      "image/png": "[encoded data removed]",
      "text/plain": [
       "<matplotlib.figure.Figure at 0x11030d518>"
      ]
     },
     "metadata": {},
     "output_type": "display_data"
    }
   ],
   "source": [
    "import matplotlib.pyplot as plt; plt.rcdefaults()\n",
    "import numpy as np\n",
    "import matplotlib.pyplot as plt\n",
    " \n",
    "objects = ('high', 'medium', 'low')\n",
    "y_pos = np.arange(len(objects))\n",
    "performance = [3839,11229,34283]\n",
    " \n",
    "plt.bar(y_pos, performance, align='center',facecolor='g')\n",
    "plt.xticks(y_pos, objects)\n",
    "plt.ylabel('Numbers of listings')\n",
    "plt.title('Numbers of listings per Interest Level')\n",
    "plt.show()"
   ]
  },
  {
   "cell_type": "code",
   "execution_count": 39,
   "metadata": {},
   "outputs": [
    {
     "data": {
      "text/plain": [
       "3"
      ]
     },
     "execution_count": 39,
     "metadata": {},
     "output_type": "execute_result"
    }
   ],
   "source": [
    "len(set(Final_Project_Data_B['interest_level']))"
   ]
  },
  {
   "cell_type": "code",
   "execution_count": 32,
   "metadata": {
    "scrolled": true
   },
   "outputs": [
    {
     "data": {
      "text/html": [
       "<div>\n",
       "<style>\n",
       "    .dataframe thead tr:only-child th {\n",
       "        text-align: right;\n",
       "    }\n",
       "\n",
       "    .dataframe thead th {\n",
       "        text-align: left;\n",
       "    }\n",
       "\n",
       "    .dataframe tbody tr th {\n",
       "        vertical-align: top;\n",
       "    }\n",
       "</style>\n",
       "<table border=\"1\" class=\"dataframe\">\n",
       "  <thead>\n",
       "    <tr style=\"text-align: right;\">\n",
       "      <th></th>\n",
       "      <th>bathrooms</th>\n",
       "      <th>bedrooms</th>\n",
       "      <th>latitude</th>\n",
       "      <th>longitude</th>\n",
       "      <th>price</th>\n",
       "      <th>Zip</th>\n",
       "      <th>Median Household Income</th>\n",
       "      <th>Number of Income Household</th>\n",
       "      <th>Number Population by Race</th>\n",
       "      <th>Number of Family Households in Poverty</th>\n",
       "      <th>Number of individual unemployed</th>\n",
       "      <th>mindistance</th>\n",
       "      <th>storecount_mediandistance</th>\n",
       "    </tr>\n",
       "  </thead>\n",
       "  <tbody>\n",
       "    <tr>\n",
       "      <th>count</th>\n",
       "      <td>49351.000000</td>\n",
       "      <td>49351.000000</td>\n",
       "      <td>49351.000000</td>\n",
       "      <td>49351.000000</td>\n",
       "      <td>4.935100e+04</td>\n",
       "      <td>49351.000000</td>\n",
       "      <td>49351.000000</td>\n",
       "      <td>49351.000000</td>\n",
       "      <td>49351.000000</td>\n",
       "      <td>49351.000000</td>\n",
       "      <td>49351.000000</td>\n",
       "      <td>49351.000000</td>\n",
       "      <td>49351.000000</td>\n",
       "    </tr>\n",
       "    <tr>\n",
       "      <th>mean</th>\n",
       "      <td>1.212184</td>\n",
       "      <td>1.541630</td>\n",
       "      <td>40.741542</td>\n",
       "      <td>-73.955716</td>\n",
       "      <td>3.830207e+03</td>\n",
       "      <td>10190.354096</td>\n",
       "      <td>90995.790035</td>\n",
       "      <td>22018.643655</td>\n",
       "      <td>45737.844096</td>\n",
       "      <td>8686.415473</td>\n",
       "      <td>27769.659602</td>\n",
       "      <td>2.124433</td>\n",
       "      <td>3.137647</td>\n",
       "    </tr>\n",
       "    <tr>\n",
       "      <th>std</th>\n",
       "      <td>0.501424</td>\n",
       "      <td>1.115028</td>\n",
       "      <td>0.638542</td>\n",
       "      <td>1.177924</td>\n",
       "      <td>2.206709e+04</td>\n",
       "      <td>669.925224</td>\n",
       "      <td>31907.348703</td>\n",
       "      <td>9730.227745</td>\n",
       "      <td>22760.406198</td>\n",
       "      <td>5038.669332</td>\n",
       "      <td>12237.480448</td>\n",
       "      <td>84.984287</td>\n",
       "      <td>4.405794</td>\n",
       "    </tr>\n",
       "    <tr>\n",
       "      <th>min</th>\n",
       "      <td>0.000000</td>\n",
       "      <td>0.000000</td>\n",
       "      <td>0.000000</td>\n",
       "      <td>-118.271000</td>\n",
       "      <td>4.300000e+01</td>\n",
       "      <td>83.000000</td>\n",
       "      <td>-1.000000</td>\n",
       "      <td>0.000000</td>\n",
       "      <td>0.000000</td>\n",
       "      <td>0.000000</td>\n",
       "      <td>0.000000</td>\n",
       "      <td>0.000000</td>\n",
       "      <td>0.000000</td>\n",
       "    </tr>\n",
       "    <tr>\n",
       "      <th>25%</th>\n",
       "      <td>1.000000</td>\n",
       "      <td>1.000000</td>\n",
       "      <td>40.728300</td>\n",
       "      <td>-73.991700</td>\n",
       "      <td>2.500000e+03</td>\n",
       "      <td>10014.000000</td>\n",
       "      <td>74065.000000</td>\n",
       "      <td>15455.000000</td>\n",
       "      <td>27415.000000</td>\n",
       "      <td>4482.000000</td>\n",
       "      <td>19135.000000</td>\n",
       "      <td>0.190000</td>\n",
       "      <td>0.000000</td>\n",
       "    </tr>\n",
       "    <tr>\n",
       "      <th>50%</th>\n",
       "      <td>1.000000</td>\n",
       "      <td>1.000000</td>\n",
       "      <td>40.751800</td>\n",
       "      <td>-73.977900</td>\n",
       "      <td>3.150000e+03</td>\n",
       "      <td>10023.000000</td>\n",
       "      <td>100200.000000</td>\n",
       "      <td>23146.000000</td>\n",
       "      <td>46883.000000</td>\n",
       "      <td>7958.000000</td>\n",
       "      <td>30318.000000</td>\n",
       "      <td>0.280000</td>\n",
       "      <td>1.000000</td>\n",
       "    </tr>\n",
       "    <tr>\n",
       "      <th>75%</th>\n",
       "      <td>1.000000</td>\n",
       "      <td>2.000000</td>\n",
       "      <td>40.774300</td>\n",
       "      <td>-73.954800</td>\n",
       "      <td>4.100000e+03</td>\n",
       "      <td>10040.000000</td>\n",
       "      <td>111478.000000</td>\n",
       "      <td>28918.000000</td>\n",
       "      <td>60586.000000</td>\n",
       "      <td>11826.000000</td>\n",
       "      <td>36392.000000</td>\n",
       "      <td>0.370000</td>\n",
       "      <td>5.000000</td>\n",
       "    </tr>\n",
       "    <tr>\n",
       "      <th>max</th>\n",
       "      <td>10.000000</td>\n",
       "      <td>8.000000</td>\n",
       "      <td>44.883500</td>\n",
       "      <td>0.000000</td>\n",
       "      <td>4.490000e+06</td>\n",
       "      <td>90011.000000</td>\n",
       "      <td>250001.000000</td>\n",
       "      <td>43456.000000</td>\n",
       "      <td>112709.000000</td>\n",
       "      <td>24350.000000</td>\n",
       "      <td>57642.000000</td>\n",
       "      <td>5385.720000</td>\n",
       "      <td>29.000000</td>\n",
       "    </tr>\n",
       "  </tbody>\n",
       "</table>\n",
       "</div>"
      ],
      "text/plain": [
       "          bathrooms      bedrooms      latitude     longitude         price  \\\n",
       "count  49351.000000  49351.000000  49351.000000  49351.000000  4.935100e+04   \n",
       "mean       1.212184      1.541630     40.741542    -73.955716  3.830207e+03   \n",
       "std        0.501424      1.115028      0.638542      1.177924  2.206709e+04   \n",
       "min        0.000000      0.000000      0.000000   -118.271000  4.300000e+01   \n",
       "25%        1.000000      1.000000     40.728300    -73.991700  2.500000e+03   \n",
       "50%        1.000000      1.000000     40.751800    -73.977900  3.150000e+03   \n",
       "75%        1.000000      2.000000     40.774300    -73.954800  4.100000e+03   \n",
       "max       10.000000      8.000000     44.883500      0.000000  4.490000e+06   \n",
       "\n",
       "                Zip  Median Household Income  Number of Income Household   \\\n",
       "count  49351.000000             49351.000000                 49351.000000   \n",
       "mean   10190.354096             90995.790035                 22018.643655   \n",
       "std      669.925224             31907.348703                  9730.227745   \n",
       "min       83.000000                -1.000000                     0.000000   \n",
       "25%    10014.000000             74065.000000                 15455.000000   \n",
       "50%    10023.000000            100200.000000                 23146.000000   \n",
       "75%    10040.000000            111478.000000                 28918.000000   \n",
       "max    90011.000000            250001.000000                 43456.000000   \n",
       "\n",
       "       Number Population by Race  Number of Family Households in Poverty   \\\n",
       "count               49351.000000                             49351.000000   \n",
       "mean                45737.844096                              8686.415473   \n",
       "std                 22760.406198                              5038.669332   \n",
       "min                     0.000000                                 0.000000   \n",
       "25%                 27415.000000                              4482.000000   \n",
       "50%                 46883.000000                              7958.000000   \n",
       "75%                 60586.000000                             11826.000000   \n",
       "max                112709.000000                             24350.000000   \n",
       "\n",
       "       Number of individual unemployed   mindistance  \\\n",
       "count                     49351.000000  49351.000000   \n",
       "mean                      27769.659602      2.124433   \n",
       "std                       12237.480448     84.984287   \n",
       "min                           0.000000      0.000000   \n",
       "25%                       19135.000000      0.190000   \n",
       "50%                       30318.000000      0.280000   \n",
       "75%                       36392.000000      0.370000   \n",
       "max                       57642.000000   5385.720000   \n",
       "\n",
       "       storecount_mediandistance  \n",
       "count               49351.000000  \n",
       "mean                    3.137647  \n",
       "std                     4.405794  \n",
       "min                     0.000000  \n",
       "25%                     0.000000  \n",
       "50%                     1.000000  \n",
       "75%                     5.000000  \n",
       "max                    29.000000  "
      ]
     },
     "execution_count": 32,
     "metadata": {},
     "output_type": "execute_result"
    }
   ],
   "source": [
    "\n",
    "Final_Project_Data_B.describe()\n"
   ]
  },
  {
   "cell_type": "code",
   "execution_count": 88,
   "metadata": {},
   "outputs": [
    {
     "data": {
      "text/html": [
       "<div>\n",
       "<style>\n",
       "    .dataframe thead tr:only-child th {\n",
       "        text-align: right;\n",
       "    }\n",
       "\n",
       "    .dataframe thead th {\n",
       "        text-align: left;\n",
       "    }\n",
       "\n",
       "    .dataframe tbody tr th {\n",
       "        vertical-align: top;\n",
       "    }\n",
       "</style>\n",
       "<table border=\"1\" class=\"dataframe\">\n",
       "  <thead>\n",
       "    <tr style=\"text-align: right;\">\n",
       "      <th></th>\n",
       "      <th>bathrooms</th>\n",
       "      <th>bedrooms</th>\n",
       "      <th>latitude</th>\n",
       "      <th>longitude</th>\n",
       "      <th>price</th>\n",
       "      <th>Median Household Income</th>\n",
       "      <th>Number of Income Household</th>\n",
       "      <th>Number Population by Race</th>\n",
       "      <th>Number of Family Households in Poverty</th>\n",
       "      <th>Number of individual unemployed</th>\n",
       "      <th>mindistance</th>\n",
       "      <th>storecount_mediandistance</th>\n",
       "      <th>interest_level</th>\n",
       "    </tr>\n",
       "  </thead>\n",
       "  <tbody>\n",
       "    <tr>\n",
       "      <th>bathrooms</th>\n",
       "      <td>1.000000</td>\n",
       "      <td>0.533452</td>\n",
       "      <td>-0.009655</td>\n",
       "      <td>0.010394</td>\n",
       "      <td>0.069661</td>\n",
       "      <td>0.013483</td>\n",
       "      <td>0.000738</td>\n",
       "      <td>-0.004481</td>\n",
       "      <td>-0.005285</td>\n",
       "      <td>-0.002851</td>\n",
       "      <td>0.011634</td>\n",
       "      <td>0.003638</td>\n",
       "      <td>-0.013185</td>\n",
       "    </tr>\n",
       "    <tr>\n",
       "      <th>bedrooms</th>\n",
       "      <td>0.533452</td>\n",
       "      <td>1.000000</td>\n",
       "      <td>-0.004747</td>\n",
       "      <td>0.006891</td>\n",
       "      <td>0.051789</td>\n",
       "      <td>-0.019626</td>\n",
       "      <td>0.000494</td>\n",
       "      <td>0.009638</td>\n",
       "      <td>0.006412</td>\n",
       "      <td>0.005251</td>\n",
       "      <td>0.005347</td>\n",
       "      <td>-0.053987</td>\n",
       "      <td>0.030216</td>\n",
       "    </tr>\n",
       "    <tr>\n",
       "      <th>latitude</th>\n",
       "      <td>-0.009655</td>\n",
       "      <td>-0.004747</td>\n",
       "      <td>1.000000</td>\n",
       "      <td>-0.966808</td>\n",
       "      <td>-0.000707</td>\n",
       "      <td>0.001002</td>\n",
       "      <td>0.008880</td>\n",
       "      <td>0.005514</td>\n",
       "      <td>0.003645</td>\n",
       "      <td>0.007991</td>\n",
       "      <td>-0.986192</td>\n",
       "      <td>0.006083</td>\n",
       "      <td>0.001216</td>\n",
       "    </tr>\n",
       "    <tr>\n",
       "      <th>longitude</th>\n",
       "      <td>0.010394</td>\n",
       "      <td>0.006891</td>\n",
       "      <td>-0.966808</td>\n",
       "      <td>1.000000</td>\n",
       "      <td>-0.000087</td>\n",
       "      <td>-0.004600</td>\n",
       "      <td>-0.003814</td>\n",
       "      <td>-0.000516</td>\n",
       "      <td>0.001719</td>\n",
       "      <td>-0.003109</td>\n",
       "      <td>0.939100</td>\n",
       "      <td>-0.017165</td>\n",
       "      <td>-0.002279</td>\n",
       "    </tr>\n",
       "    <tr>\n",
       "      <th>price</th>\n",
       "      <td>0.069661</td>\n",
       "      <td>0.051789</td>\n",
       "      <td>-0.000707</td>\n",
       "      <td>-0.000087</td>\n",
       "      <td>1.000000</td>\n",
       "      <td>0.008541</td>\n",
       "      <td>-0.008784</td>\n",
       "      <td>-0.009326</td>\n",
       "      <td>-0.009538</td>\n",
       "      <td>-0.009257</td>\n",
       "      <td>0.000351</td>\n",
       "      <td>0.008910</td>\n",
       "      <td>-0.005528</td>\n",
       "    </tr>\n",
       "    <tr>\n",
       "      <th>Median Household Income</th>\n",
       "      <td>0.013483</td>\n",
       "      <td>-0.019626</td>\n",
       "      <td>0.001002</td>\n",
       "      <td>-0.004600</td>\n",
       "      <td>0.008541</td>\n",
       "      <td>1.000000</td>\n",
       "      <td>-0.256857</td>\n",
       "      <td>-0.473680</td>\n",
       "      <td>-0.458030</td>\n",
       "      <td>-0.349945</td>\n",
       "      <td>-0.003376</td>\n",
       "      <td>0.050765</td>\n",
       "      <td>0.010045</td>\n",
       "    </tr>\n",
       "    <tr>\n",
       "      <th>Number of Income Household</th>\n",
       "      <td>0.000738</td>\n",
       "      <td>0.000494</td>\n",
       "      <td>0.008880</td>\n",
       "      <td>-0.003814</td>\n",
       "      <td>-0.008784</td>\n",
       "      <td>-0.256857</td>\n",
       "      <td>1.000000</td>\n",
       "      <td>0.925508</td>\n",
       "      <td>0.853783</td>\n",
       "      <td>0.973455</td>\n",
       "      <td>-0.006536</td>\n",
       "      <td>-0.044759</td>\n",
       "      <td>-0.004339</td>\n",
       "    </tr>\n",
       "    <tr>\n",
       "      <th>Number Population by Race</th>\n",
       "      <td>-0.004481</td>\n",
       "      <td>0.009638</td>\n",
       "      <td>0.005514</td>\n",
       "      <td>-0.000516</td>\n",
       "      <td>-0.009326</td>\n",
       "      <td>-0.473680</td>\n",
       "      <td>0.925508</td>\n",
       "      <td>1.000000</td>\n",
       "      <td>0.958859</td>\n",
       "      <td>0.966004</td>\n",
       "      <td>-0.003512</td>\n",
       "      <td>-0.062903</td>\n",
       "      <td>-0.007766</td>\n",
       "    </tr>\n",
       "    <tr>\n",
       "      <th>Number of Family Households in Poverty</th>\n",
       "      <td>-0.005285</td>\n",
       "      <td>0.006412</td>\n",
       "      <td>0.003645</td>\n",
       "      <td>0.001719</td>\n",
       "      <td>-0.009538</td>\n",
       "      <td>-0.458030</td>\n",
       "      <td>0.853783</td>\n",
       "      <td>0.958859</td>\n",
       "      <td>1.000000</td>\n",
       "      <td>0.887700</td>\n",
       "      <td>-0.001721</td>\n",
       "      <td>-0.065844</td>\n",
       "      <td>-0.006958</td>\n",
       "    </tr>\n",
       "    <tr>\n",
       "      <th>Number of individual unemployed</th>\n",
       "      <td>-0.002851</td>\n",
       "      <td>0.005251</td>\n",
       "      <td>0.007991</td>\n",
       "      <td>-0.003109</td>\n",
       "      <td>-0.009257</td>\n",
       "      <td>-0.349945</td>\n",
       "      <td>0.973455</td>\n",
       "      <td>0.966004</td>\n",
       "      <td>0.887700</td>\n",
       "      <td>1.000000</td>\n",
       "      <td>-0.005839</td>\n",
       "      <td>-0.053174</td>\n",
       "      <td>-0.005819</td>\n",
       "    </tr>\n",
       "    <tr>\n",
       "      <th>mindistance</th>\n",
       "      <td>0.011634</td>\n",
       "      <td>0.005347</td>\n",
       "      <td>-0.986192</td>\n",
       "      <td>0.939100</td>\n",
       "      <td>0.000351</td>\n",
       "      <td>-0.003376</td>\n",
       "      <td>-0.006536</td>\n",
       "      <td>-0.003512</td>\n",
       "      <td>-0.001721</td>\n",
       "      <td>-0.005839</td>\n",
       "      <td>1.000000</td>\n",
       "      <td>-0.016212</td>\n",
       "      <td>-0.002640</td>\n",
       "    </tr>\n",
       "    <tr>\n",
       "      <th>storecount_mediandistance</th>\n",
       "      <td>0.003638</td>\n",
       "      <td>-0.053987</td>\n",
       "      <td>0.006083</td>\n",
       "      <td>-0.017165</td>\n",
       "      <td>0.008910</td>\n",
       "      <td>0.050765</td>\n",
       "      <td>-0.044759</td>\n",
       "      <td>-0.062903</td>\n",
       "      <td>-0.065844</td>\n",
       "      <td>-0.053174</td>\n",
       "      <td>-0.016212</td>\n",
       "      <td>1.000000</td>\n",
       "      <td>0.004348</td>\n",
       "    </tr>\n",
       "    <tr>\n",
       "      <th>interest_level</th>\n",
       "      <td>-0.013185</td>\n",
       "      <td>0.030216</td>\n",
       "      <td>0.001216</td>\n",
       "      <td>-0.002279</td>\n",
       "      <td>-0.005528</td>\n",
       "      <td>0.010045</td>\n",
       "      <td>-0.004339</td>\n",
       "      <td>-0.007766</td>\n",
       "      <td>-0.006958</td>\n",
       "      <td>-0.005819</td>\n",
       "      <td>-0.002640</td>\n",
       "      <td>0.004348</td>\n",
       "      <td>1.000000</td>\n",
       "    </tr>\n",
       "  </tbody>\n",
       "</table>\n",
       "</div>"
      ],
      "text/plain": [
       "                                         bathrooms  bedrooms  latitude  \\\n",
       "bathrooms                                 1.000000  0.533452 -0.009655   \n",
       "bedrooms                                  0.533452  1.000000 -0.004747   \n",
       "latitude                                 -0.009655 -0.004747  1.000000   \n",
       "longitude                                 0.010394  0.006891 -0.966808   \n",
       "price                                     0.069661  0.051789 -0.000707   \n",
       "Median Household Income                   0.013483 -0.019626  0.001002   \n",
       "Number of Income Household                0.000738  0.000494  0.008880   \n",
       "Number Population by Race                -0.004481  0.009638  0.005514   \n",
       "Number of Family Households in Poverty   -0.005285  0.006412  0.003645   \n",
       "Number of individual unemployed          -0.002851  0.005251  0.007991   \n",
       "mindistance                               0.011634  0.005347 -0.986192   \n",
       "storecount_mediandistance                 0.003638 -0.053987  0.006083   \n",
       "interest_level                           -0.013185  0.030216  0.001216   \n",
       "\n",
       "                                         longitude     price  \\\n",
       "bathrooms                                 0.010394  0.069661   \n",
       "bedrooms                                  0.006891  0.051789   \n",
       "latitude                                 -0.966808 -0.000707   \n",
       "longitude                                 1.000000 -0.000087   \n",
       "price                                    -0.000087  1.000000   \n",
       "Median Household Income                  -0.004600  0.008541   \n",
       "Number of Income Household               -0.003814 -0.008784   \n",
       "Number Population by Race                -0.000516 -0.009326   \n",
       "Number of Family Households in Poverty    0.001719 -0.009538   \n",
       "Number of individual unemployed          -0.003109 -0.009257   \n",
       "mindistance                               0.939100  0.000351   \n",
       "storecount_mediandistance                -0.017165  0.008910   \n",
       "interest_level                           -0.002279 -0.005528   \n",
       "\n",
       "                                         Median Household Income  \\\n",
       "bathrooms                                               0.013483   \n",
       "bedrooms                                               -0.019626   \n",
       "latitude                                                0.001002   \n",
       "longitude                                              -0.004600   \n",
       "price                                                   0.008541   \n",
       "Median Household Income                                 1.000000   \n",
       "Number of Income Household                             -0.256857   \n",
       "Number Population by Race                              -0.473680   \n",
       "Number of Family Households in Poverty                 -0.458030   \n",
       "Number of individual unemployed                        -0.349945   \n",
       "mindistance                                            -0.003376   \n",
       "storecount_mediandistance                               0.050765   \n",
       "interest_level                                          0.010045   \n",
       "\n",
       "                                         Number of Income Household   \\\n",
       "bathrooms                                                   0.000738   \n",
       "bedrooms                                                    0.000494   \n",
       "latitude                                                    0.008880   \n",
       "longitude                                                  -0.003814   \n",
       "price                                                      -0.008784   \n",
       "Median Household Income                                    -0.256857   \n",
       "Number of Income Household                                  1.000000   \n",
       "Number Population by Race                                   0.925508   \n",
       "Number of Family Households in Poverty                      0.853783   \n",
       "Number of individual unemployed                             0.973455   \n",
       "mindistance                                                -0.006536   \n",
       "storecount_mediandistance                                  -0.044759   \n",
       "interest_level                                             -0.004339   \n",
       "\n",
       "                                         Number Population by Race  \\\n",
       "bathrooms                                                -0.004481   \n",
       "bedrooms                                                  0.009638   \n",
       "latitude                                                  0.005514   \n",
       "longitude                                                -0.000516   \n",
       "price                                                    -0.009326   \n",
       "Median Household Income                                  -0.473680   \n",
       "Number of Income Household                                0.925508   \n",
       "Number Population by Race                                 1.000000   \n",
       "Number of Family Households in Poverty                    0.958859   \n",
       "Number of individual unemployed                           0.966004   \n",
       "mindistance                                              -0.003512   \n",
       "storecount_mediandistance                                -0.062903   \n",
       "interest_level                                           -0.007766   \n",
       "\n",
       "                                         Number of Family Households in Poverty   \\\n",
       "bathrooms                                                              -0.005285   \n",
       "bedrooms                                                                0.006412   \n",
       "latitude                                                                0.003645   \n",
       "longitude                                                               0.001719   \n",
       "price                                                                  -0.009538   \n",
       "Median Household Income                                                -0.458030   \n",
       "Number of Income Household                                              0.853783   \n",
       "Number Population by Race                                               0.958859   \n",
       "Number of Family Households in Poverty                                  1.000000   \n",
       "Number of individual unemployed                                         0.887700   \n",
       "mindistance                                                            -0.001721   \n",
       "storecount_mediandistance                                              -0.065844   \n",
       "interest_level                                                         -0.006958   \n",
       "\n",
       "                                         Number of individual unemployed  \\\n",
       "bathrooms                                                      -0.002851   \n",
       "bedrooms                                                        0.005251   \n",
       "latitude                                                        0.007991   \n",
       "longitude                                                      -0.003109   \n",
       "price                                                          -0.009257   \n",
       "Median Household Income                                        -0.349945   \n",
       "Number of Income Household                                      0.973455   \n",
       "Number Population by Race                                       0.966004   \n",
       "Number of Family Households in Poverty                          0.887700   \n",
       "Number of individual unemployed                                 1.000000   \n",
       "mindistance                                                    -0.005839   \n",
       "storecount_mediandistance                                      -0.053174   \n",
       "interest_level                                                 -0.005819   \n",
       "\n",
       "                                         mindistance  \\\n",
       "bathrooms                                   0.011634   \n",
       "bedrooms                                    0.005347   \n",
       "latitude                                   -0.986192   \n",
       "longitude                                   0.939100   \n",
       "price                                       0.000351   \n",
       "Median Household Income                    -0.003376   \n",
       "Number of Income Household                 -0.006536   \n",
       "Number Population by Race                  -0.003512   \n",
       "Number of Family Households in Poverty     -0.001721   \n",
       "Number of individual unemployed            -0.005839   \n",
       "mindistance                                 1.000000   \n",
       "storecount_mediandistance                  -0.016212   \n",
       "interest_level                             -0.002640   \n",
       "\n",
       "                                         storecount_mediandistance  \\\n",
       "bathrooms                                                 0.003638   \n",
       "bedrooms                                                 -0.053987   \n",
       "latitude                                                  0.006083   \n",
       "longitude                                                -0.017165   \n",
       "price                                                     0.008910   \n",
       "Median Household Income                                   0.050765   \n",
       "Number of Income Household                               -0.044759   \n",
       "Number Population by Race                                -0.062903   \n",
       "Number of Family Households in Poverty                   -0.065844   \n",
       "Number of individual unemployed                          -0.053174   \n",
       "mindistance                                              -0.016212   \n",
       "storecount_mediandistance                                 1.000000   \n",
       "interest_level                                            0.004348   \n",
       "\n",
       "                                         interest_level  \n",
       "bathrooms                                     -0.013185  \n",
       "bedrooms                                       0.030216  \n",
       "latitude                                       0.001216  \n",
       "longitude                                     -0.002279  \n",
       "price                                         -0.005528  \n",
       "Median Household Income                        0.010045  \n",
       "Number of Income Household                    -0.004339  \n",
       "Number Population by Race                     -0.007766  \n",
       "Number of Family Households in Poverty        -0.006958  \n",
       "Number of individual unemployed               -0.005819  \n",
       "mindistance                                   -0.002640  \n",
       "storecount_mediandistance                      0.004348  \n",
       "interest_level                                 1.000000  "
      ]
     },
     "execution_count": 88,
     "metadata": {},
     "output_type": "execute_result"
    }
   ],
   "source": [
    "Final_Project_Data_B.corr()"
   ]
  },
  {
   "cell_type": "code",
   "execution_count": 29,
   "metadata": {},
   "outputs": [
    {
     "data": {
      "image/png": "[encoded data removed]",
      "text/plain": [
       "<matplotlib.figure.Figure at 0x11066f470>"
      ]
     },
     "metadata": {},
     "output_type": "display_data"
    }
   ],
   "source": [
    "import seaborn as sns\n",
    "fig = plt.figure()\n",
    "fig.patch.set_facecolor('xkcd:white')\n",
    "corr = Final_Project_Data_B.corr()\n",
    "sns.heatmap(corr, \n",
    "            xticklabels=corr.columns,\n",
    "            yticklabels=corr.columns,\n",
    "           cmap=plt.cm.Greens)\n",
    "plt.show()"
   ]
  },
  {
   "cell_type": "code",
   "execution_count": 20,
   "metadata": {},
   "outputs": [
    {
     "data": {
      "image/png": "[encoded data removed]",
      "text/plain": [
       "<matplotlib.figure.Figure at 0x10c8d7a58>"
      ]
     },
     "metadata": {},
     "output_type": "display_data"
    }
   ],
   "source": [
    "import seaborn as sns\n",
    "fig = plt.figure()\n",
    "fig.patch.set_facecolor('xkcd:white')\n",
    "corr = Final_Project_Data_B.corr()\n",
    "sns.heatmap(corr, \n",
    "            xticklabels=corr.columns.values,\n",
    "            yticklabels=corr.columns.values)\n",
    "plt.show()"
   ]
  },
  {
   "cell_type": "code",
   "execution_count": 75,
   "metadata": {
    "collapsed": true,
    "scrolled": true
   },
   "outputs": [],
   "source": [
    "# # Using encoder instead\n",
    "# Final_Project_Data_B = Final_Project_Data_B.replace({'interest_level' : { 'medium' : 2, 'low' : 1, 'high' : 3 }})"
   ]
  },
  {
   "cell_type": "code",
   "execution_count": 53,
   "metadata": {
    "collapsed": true
   },
   "outputs": [],
   "source": [
    "from sklearn.preprocessing import LabelEncoder\n",
    "le = LabelEncoder()\n",
    "Final_Project_Data_B['interest_level'] = le.fit_transform(Final_Project_Data_B['interest_level'])"
   ]
  },
  {
   "cell_type": "code",
   "execution_count": 54,
   "metadata": {
    "collapsed": true
   },
   "outputs": [],
   "source": [
    "Final_Project_Data_B = Final_Project_Data_B.drop(['Zip'],axis=1)"
   ]
  },
  {
   "cell_type": "code",
   "execution_count": 89,
   "metadata": {},
   "outputs": [
    {
     "data": {
      "text/html": [
       "<div>\n",
       "<style>\n",
       "    .dataframe thead tr:only-child th {\n",
       "        text-align: right;\n",
       "    }\n",
       "\n",
       "    .dataframe thead th {\n",
       "        text-align: left;\n",
       "    }\n",
       "\n",
       "    .dataframe tbody tr th {\n",
       "        vertical-align: top;\n",
       "    }\n",
       "</style>\n",
       "<table border=\"1\" class=\"dataframe\">\n",
       "  <thead>\n",
       "    <tr style=\"text-align: right;\">\n",
       "      <th></th>\n",
       "      <th>bathrooms</th>\n",
       "      <th>bedrooms</th>\n",
       "      <th>latitude</th>\n",
       "      <th>longitude</th>\n",
       "      <th>price</th>\n",
       "      <th>Median Household Income</th>\n",
       "      <th>Number of Income Household</th>\n",
       "      <th>Number Population by Race</th>\n",
       "      <th>Number of Family Households in Poverty</th>\n",
       "      <th>Number of individual unemployed</th>\n",
       "      <th>mindistance</th>\n",
       "      <th>storecount_mediandistance</th>\n",
       "      <th>interest_level</th>\n",
       "    </tr>\n",
       "  </thead>\n",
       "  <tbody>\n",
       "    <tr>\n",
       "      <th>count</th>\n",
       "      <td>49351.000000</td>\n",
       "      <td>49351.000000</td>\n",
       "      <td>49351.000000</td>\n",
       "      <td>49351.000000</td>\n",
       "      <td>49351.000000</td>\n",
       "      <td>49351.000000</td>\n",
       "      <td>49351.000000</td>\n",
       "      <td>49351.000000</td>\n",
       "      <td>49351.000000</td>\n",
       "      <td>49351.000000</td>\n",
       "      <td>49351.000000</td>\n",
       "      <td>49351.000000</td>\n",
       "      <td>49351.000000</td>\n",
       "    </tr>\n",
       "    <tr>\n",
       "      <th>mean</th>\n",
       "      <td>0.121218</td>\n",
       "      <td>0.192704</td>\n",
       "      <td>40.741542</td>\n",
       "      <td>-73.955716</td>\n",
       "      <td>0.000843</td>\n",
       "      <td>0.363984</td>\n",
       "      <td>0.506688</td>\n",
       "      <td>0.405805</td>\n",
       "      <td>0.356732</td>\n",
       "      <td>0.481761</td>\n",
       "      <td>0.000394</td>\n",
       "      <td>0.108195</td>\n",
       "      <td>1.149744</td>\n",
       "    </tr>\n",
       "    <tr>\n",
       "      <th>std</th>\n",
       "      <td>0.050142</td>\n",
       "      <td>0.139378</td>\n",
       "      <td>0.638542</td>\n",
       "      <td>1.177924</td>\n",
       "      <td>0.004915</td>\n",
       "      <td>0.127628</td>\n",
       "      <td>0.223910</td>\n",
       "      <td>0.201940</td>\n",
       "      <td>0.206927</td>\n",
       "      <td>0.212301</td>\n",
       "      <td>0.015780</td>\n",
       "      <td>0.151924</td>\n",
       "      <td>0.531889</td>\n",
       "    </tr>\n",
       "    <tr>\n",
       "      <th>min</th>\n",
       "      <td>0.000000</td>\n",
       "      <td>0.000000</td>\n",
       "      <td>0.000000</td>\n",
       "      <td>-118.271000</td>\n",
       "      <td>0.000000</td>\n",
       "      <td>0.000000</td>\n",
       "      <td>0.000000</td>\n",
       "      <td>0.000000</td>\n",
       "      <td>0.000000</td>\n",
       "      <td>0.000000</td>\n",
       "      <td>0.000000</td>\n",
       "      <td>0.000000</td>\n",
       "      <td>0.000000</td>\n",
       "    </tr>\n",
       "    <tr>\n",
       "      <th>25%</th>\n",
       "      <td>0.100000</td>\n",
       "      <td>0.125000</td>\n",
       "      <td>40.728300</td>\n",
       "      <td>-73.991700</td>\n",
       "      <td>0.000547</td>\n",
       "      <td>0.296262</td>\n",
       "      <td>0.355647</td>\n",
       "      <td>0.243237</td>\n",
       "      <td>0.184066</td>\n",
       "      <td>0.331963</td>\n",
       "      <td>0.000035</td>\n",
       "      <td>0.000000</td>\n",
       "      <td>1.000000</td>\n",
       "    </tr>\n",
       "    <tr>\n",
       "      <th>50%</th>\n",
       "      <td>0.100000</td>\n",
       "      <td>0.125000</td>\n",
       "      <td>40.751800</td>\n",
       "      <td>-73.977900</td>\n",
       "      <td>0.000692</td>\n",
       "      <td>0.400801</td>\n",
       "      <td>0.532631</td>\n",
       "      <td>0.415965</td>\n",
       "      <td>0.326817</td>\n",
       "      <td>0.525971</td>\n",
       "      <td>0.000052</td>\n",
       "      <td>0.034483</td>\n",
       "      <td>1.000000</td>\n",
       "    </tr>\n",
       "    <tr>\n",
       "      <th>75%</th>\n",
       "      <td>0.100000</td>\n",
       "      <td>0.250000</td>\n",
       "      <td>40.774300</td>\n",
       "      <td>-73.954800</td>\n",
       "      <td>0.000904</td>\n",
       "      <td>0.445912</td>\n",
       "      <td>0.665455</td>\n",
       "      <td>0.537544</td>\n",
       "      <td>0.485667</td>\n",
       "      <td>0.631345</td>\n",
       "      <td>0.000069</td>\n",
       "      <td>0.172414</td>\n",
       "      <td>1.000000</td>\n",
       "    </tr>\n",
       "    <tr>\n",
       "      <th>max</th>\n",
       "      <td>1.000000</td>\n",
       "      <td>1.000000</td>\n",
       "      <td>44.883500</td>\n",
       "      <td>0.000000</td>\n",
       "      <td>1.000000</td>\n",
       "      <td>1.000000</td>\n",
       "      <td>1.000000</td>\n",
       "      <td>1.000000</td>\n",
       "      <td>1.000000</td>\n",
       "      <td>1.000000</td>\n",
       "      <td>1.000000</td>\n",
       "      <td>1.000000</td>\n",
       "      <td>2.000000</td>\n",
       "    </tr>\n",
       "  </tbody>\n",
       "</table>\n",
       "</div>"
      ],
      "text/plain": [
       "          bathrooms      bedrooms      latitude     longitude         price  \\\n",
       "count  49351.000000  49351.000000  49351.000000  49351.000000  49351.000000   \n",
       "mean       0.121218      0.192704     40.741542    -73.955716      0.000843   \n",
       "std        0.050142      0.139378      0.638542      1.177924      0.004915   \n",
       "min        0.000000      0.000000      0.000000   -118.271000      0.000000   \n",
       "25%        0.100000      0.125000     40.728300    -73.991700      0.000547   \n",
       "50%        0.100000      0.125000     40.751800    -73.977900      0.000692   \n",
       "75%        0.100000      0.250000     40.774300    -73.954800      0.000904   \n",
       "max        1.000000      1.000000     44.883500      0.000000      1.000000   \n",
       "\n",
       "       Median Household Income  Number of Income Household   \\\n",
       "count             49351.000000                 49351.000000   \n",
       "mean                  0.363984                     0.506688   \n",
       "std                   0.127628                     0.223910   \n",
       "min                   0.000000                     0.000000   \n",
       "25%                   0.296262                     0.355647   \n",
       "50%                   0.400801                     0.532631   \n",
       "75%                   0.445912                     0.665455   \n",
       "max                   1.000000                     1.000000   \n",
       "\n",
       "       Number Population by Race  Number of Family Households in Poverty   \\\n",
       "count               49351.000000                             49351.000000   \n",
       "mean                    0.405805                                 0.356732   \n",
       "std                     0.201940                                 0.206927   \n",
       "min                     0.000000                                 0.000000   \n",
       "25%                     0.243237                                 0.184066   \n",
       "50%                     0.415965                                 0.326817   \n",
       "75%                     0.537544                                 0.485667   \n",
       "max                     1.000000                                 1.000000   \n",
       "\n",
       "       Number of individual unemployed   mindistance  \\\n",
       "count                     49351.000000  49351.000000   \n",
       "mean                          0.481761      0.000394   \n",
       "std                           0.212301      0.015780   \n",
       "min                           0.000000      0.000000   \n",
       "25%                           0.331963      0.000035   \n",
       "50%                           0.525971      0.000052   \n",
       "75%                           0.631345      0.000069   \n",
       "max                           1.000000      1.000000   \n",
       "\n",
       "       storecount_mediandistance  interest_level  \n",
       "count               49351.000000    49351.000000  \n",
       "mean                    0.108195        1.149744  \n",
       "std                     0.151924        0.531889  \n",
       "min                     0.000000        0.000000  \n",
       "25%                     0.000000        1.000000  \n",
       "50%                     0.034483        1.000000  \n",
       "75%                     0.172414        1.000000  \n",
       "max                     1.000000        2.000000  "
      ]
     },
     "execution_count": 89,
     "metadata": {},
     "output_type": "execute_result"
    }
   ],
   "source": [
    "Final_Project_Data_B.describe()"
   ]
  },
  {
   "cell_type": "code",
   "execution_count": 56,
   "metadata": {
    "scrolled": true
   },
   "outputs": [
    {
     "data": {
      "text/plain": [
       "bathrooms                                  2.514207e-01\n",
       "bedrooms                                   1.243262e+00\n",
       "latitude                                   4.077271e-01\n",
       "longitude                                  1.387476e+00\n",
       "price                                      4.869465e+08\n",
       "Median Household Income                    1.018058e+09\n",
       "Number of Income Household                 9.467541e+07\n",
       "Number Population by Race                  5.180256e+08\n",
       "Number of Family Households in Poverty     2.538767e+07\n",
       "Number of individual unemployed            1.497529e+08\n",
       "mindistance                                7.222183e+03\n",
       "storecount_mediandistance                  1.941063e+01\n",
       "interest_level                             2.828999e-01\n",
       "dtype: float64"
      ]
     },
     "execution_count": 56,
     "metadata": {},
     "output_type": "execute_result"
    }
   ],
   "source": [
    "np.var(Final_Project_Data_B)"
   ]
  },
  {
   "cell_type": "code",
   "execution_count": 57,
   "metadata": {
    "scrolled": true
   },
   "outputs": [
    {
     "data": {
      "text/html": [
       "<div>\n",
       "<style>\n",
       "    .dataframe thead tr:only-child th {\n",
       "        text-align: right;\n",
       "    }\n",
       "\n",
       "    .dataframe thead th {\n",
       "        text-align: left;\n",
       "    }\n",
       "\n",
       "    .dataframe tbody tr th {\n",
       "        vertical-align: top;\n",
       "    }\n",
       "</style>\n",
       "<table border=\"1\" class=\"dataframe\">\n",
       "  <thead>\n",
       "    <tr style=\"text-align: right;\">\n",
       "      <th></th>\n",
       "      <th>bathrooms</th>\n",
       "      <th>bedrooms</th>\n",
       "      <th>latitude</th>\n",
       "      <th>longitude</th>\n",
       "      <th>price</th>\n",
       "      <th>Median Household Income</th>\n",
       "      <th>Number of Income Household</th>\n",
       "      <th>Number Population by Race</th>\n",
       "      <th>Number of Family Households in Poverty</th>\n",
       "      <th>Number of individual unemployed</th>\n",
       "      <th>mindistance</th>\n",
       "      <th>storecount_mediandistance</th>\n",
       "      <th>interest_level</th>\n",
       "    </tr>\n",
       "  </thead>\n",
       "  <tbody>\n",
       "    <tr>\n",
       "      <th>0</th>\n",
       "      <td>1.5</td>\n",
       "      <td>3.0</td>\n",
       "      <td>40.7145</td>\n",
       "      <td>-73.9425</td>\n",
       "      <td>3000.0</td>\n",
       "      <td>54406.0</td>\n",
       "      <td>37381.0</td>\n",
       "      <td>97772.0</td>\n",
       "      <td>18948.0</td>\n",
       "      <td>52303.0</td>\n",
       "      <td>2.24</td>\n",
       "      <td>0</td>\n",
       "      <td>2</td>\n",
       "    </tr>\n",
       "    <tr>\n",
       "      <th>1</th>\n",
       "      <td>1.0</td>\n",
       "      <td>2.0</td>\n",
       "      <td>40.7947</td>\n",
       "      <td>-73.9667</td>\n",
       "      <td>5465.0</td>\n",
       "      <td>74065.0</td>\n",
       "      <td>43456.0</td>\n",
       "      <td>96068.0</td>\n",
       "      <td>19089.0</td>\n",
       "      <td>54390.0</td>\n",
       "      <td>0.37</td>\n",
       "      <td>0</td>\n",
       "      <td>1</td>\n",
       "    </tr>\n",
       "  </tbody>\n",
       "</table>\n",
       "</div>"
      ],
      "text/plain": [
       "   bathrooms  bedrooms  latitude  longitude   price  Median Household Income  \\\n",
       "0        1.5       3.0   40.7145   -73.9425  3000.0                  54406.0   \n",
       "1        1.0       2.0   40.7947   -73.9667  5465.0                  74065.0   \n",
       "\n",
       "   Number of Income Household   Number Population by Race  \\\n",
       "0                      37381.0                    97772.0   \n",
       "1                      43456.0                    96068.0   \n",
       "\n",
       "   Number of Family Households in Poverty   Number of individual unemployed  \\\n",
       "0                                  18948.0                          52303.0   \n",
       "1                                  19089.0                          54390.0   \n",
       "\n",
       "   mindistance  storecount_mediandistance  interest_level  \n",
       "0         2.24                          0               2  \n",
       "1         0.37                          0               1  "
      ]
     },
     "execution_count": 57,
     "metadata": {},
     "output_type": "execute_result"
    }
   ],
   "source": [
    "Final_Project_Data_B.head(2)"
   ]
  },
  {
   "cell_type": "code",
   "execution_count": 58,
   "metadata": {
    "scrolled": true
   },
   "outputs": [
    {
     "data": {
      "text/plain": [
       "['bathrooms',\n",
       " 'bedrooms',\n",
       " 'latitude',\n",
       " 'longitude',\n",
       " 'price',\n",
       " 'Median Household Income',\n",
       " 'Number of Income Household ',\n",
       " 'Number Population by Race',\n",
       " 'Number of Family Households in Poverty ',\n",
       " 'Number of individual unemployed',\n",
       " 'mindistance',\n",
       " 'storecount_mediandistance',\n",
       " 'interest_level']"
      ]
     },
     "execution_count": 58,
     "metadata": {},
     "output_type": "execute_result"
    }
   ],
   "source": [
    "list(Final_Project_Data_B)"
   ]
  },
  {
   "cell_type": "code",
   "execution_count": 59,
   "metadata": {
    "collapsed": true
   },
   "outputs": [],
   "source": [
    "scaler = MinMaxScaler()\n",
    "Final_Project_Data_B[['bathrooms', 'bedrooms','price','Median Household Income','Number of Income Household ','Number Population by Race','Number of Family Households in Poverty ','Number of individual unemployed','mindistance','storecount_mediandistance']] = scaler.fit_transform(Final_Project_Data_B[['bathrooms', 'bedrooms','price','Median Household Income','Number of Income Household ','Number Population by Race','Number of Family Households in Poverty ','Number of individual unemployed','mindistance','storecount_mediandistance']])"
   ]
  },
  {
   "cell_type": "code",
   "execution_count": 60,
   "metadata": {},
   "outputs": [
    {
     "data": {
      "text/html": [
       "<div>\n",
       "<style>\n",
       "    .dataframe thead tr:only-child th {\n",
       "        text-align: right;\n",
       "    }\n",
       "\n",
       "    .dataframe thead th {\n",
       "        text-align: left;\n",
       "    }\n",
       "\n",
       "    .dataframe tbody tr th {\n",
       "        vertical-align: top;\n",
       "    }\n",
       "</style>\n",
       "<table border=\"1\" class=\"dataframe\">\n",
       "  <thead>\n",
       "    <tr style=\"text-align: right;\">\n",
       "      <th></th>\n",
       "      <th>bathrooms</th>\n",
       "      <th>bedrooms</th>\n",
       "      <th>latitude</th>\n",
       "      <th>longitude</th>\n",
       "      <th>price</th>\n",
       "      <th>Median Household Income</th>\n",
       "      <th>Number of Income Household</th>\n",
       "      <th>Number Population by Race</th>\n",
       "      <th>Number of Family Households in Poverty</th>\n",
       "      <th>Number of individual unemployed</th>\n",
       "      <th>mindistance</th>\n",
       "      <th>storecount_mediandistance</th>\n",
       "      <th>interest_level</th>\n",
       "    </tr>\n",
       "  </thead>\n",
       "  <tbody>\n",
       "    <tr>\n",
       "      <th>count</th>\n",
       "      <td>49351.000000</td>\n",
       "      <td>49351.000000</td>\n",
       "      <td>49351.000000</td>\n",
       "      <td>49351.000000</td>\n",
       "      <td>49351.000000</td>\n",
       "      <td>49351.000000</td>\n",
       "      <td>49351.000000</td>\n",
       "      <td>49351.000000</td>\n",
       "      <td>49351.000000</td>\n",
       "      <td>49351.000000</td>\n",
       "      <td>49351.000000</td>\n",
       "      <td>49351.000000</td>\n",
       "      <td>49351.000000</td>\n",
       "    </tr>\n",
       "    <tr>\n",
       "      <th>mean</th>\n",
       "      <td>0.121218</td>\n",
       "      <td>0.192704</td>\n",
       "      <td>40.741542</td>\n",
       "      <td>-73.955716</td>\n",
       "      <td>0.000843</td>\n",
       "      <td>0.363984</td>\n",
       "      <td>0.506688</td>\n",
       "      <td>0.405805</td>\n",
       "      <td>0.356732</td>\n",
       "      <td>0.481761</td>\n",
       "      <td>0.000394</td>\n",
       "      <td>0.108195</td>\n",
       "      <td>1.149744</td>\n",
       "    </tr>\n",
       "    <tr>\n",
       "      <th>std</th>\n",
       "      <td>0.050142</td>\n",
       "      <td>0.139378</td>\n",
       "      <td>0.638542</td>\n",
       "      <td>1.177924</td>\n",
       "      <td>0.004915</td>\n",
       "      <td>0.127628</td>\n",
       "      <td>0.223910</td>\n",
       "      <td>0.201940</td>\n",
       "      <td>0.206927</td>\n",
       "      <td>0.212301</td>\n",
       "      <td>0.015780</td>\n",
       "      <td>0.151924</td>\n",
       "      <td>0.531889</td>\n",
       "    </tr>\n",
       "    <tr>\n",
       "      <th>min</th>\n",
       "      <td>0.000000</td>\n",
       "      <td>0.000000</td>\n",
       "      <td>0.000000</td>\n",
       "      <td>-118.271000</td>\n",
       "      <td>0.000000</td>\n",
       "      <td>0.000000</td>\n",
       "      <td>0.000000</td>\n",
       "      <td>0.000000</td>\n",
       "      <td>0.000000</td>\n",
       "      <td>0.000000</td>\n",
       "      <td>0.000000</td>\n",
       "      <td>0.000000</td>\n",
       "      <td>0.000000</td>\n",
       "    </tr>\n",
       "    <tr>\n",
       "      <th>25%</th>\n",
       "      <td>0.100000</td>\n",
       "      <td>0.125000</td>\n",
       "      <td>40.728300</td>\n",
       "      <td>-73.991700</td>\n",
       "      <td>0.000547</td>\n",
       "      <td>0.296262</td>\n",
       "      <td>0.355647</td>\n",
       "      <td>0.243237</td>\n",
       "      <td>0.184066</td>\n",
       "      <td>0.331963</td>\n",
       "      <td>0.000035</td>\n",
       "      <td>0.000000</td>\n",
       "      <td>1.000000</td>\n",
       "    </tr>\n",
       "    <tr>\n",
       "      <th>50%</th>\n",
       "      <td>0.100000</td>\n",
       "      <td>0.125000</td>\n",
       "      <td>40.751800</td>\n",
       "      <td>-73.977900</td>\n",
       "      <td>0.000692</td>\n",
       "      <td>0.400801</td>\n",
       "      <td>0.532631</td>\n",
       "      <td>0.415965</td>\n",
       "      <td>0.326817</td>\n",
       "      <td>0.525971</td>\n",
       "      <td>0.000052</td>\n",
       "      <td>0.034483</td>\n",
       "      <td>1.000000</td>\n",
       "    </tr>\n",
       "    <tr>\n",
       "      <th>75%</th>\n",
       "      <td>0.100000</td>\n",
       "      <td>0.250000</td>\n",
       "      <td>40.774300</td>\n",
       "      <td>-73.954800</td>\n",
       "      <td>0.000904</td>\n",
       "      <td>0.445912</td>\n",
       "      <td>0.665455</td>\n",
       "      <td>0.537544</td>\n",
       "      <td>0.485667</td>\n",
       "      <td>0.631345</td>\n",
       "      <td>0.000069</td>\n",
       "      <td>0.172414</td>\n",
       "      <td>1.000000</td>\n",
       "    </tr>\n",
       "    <tr>\n",
       "      <th>max</th>\n",
       "      <td>1.000000</td>\n",
       "      <td>1.000000</td>\n",
       "      <td>44.883500</td>\n",
       "      <td>0.000000</td>\n",
       "      <td>1.000000</td>\n",
       "      <td>1.000000</td>\n",
       "      <td>1.000000</td>\n",
       "      <td>1.000000</td>\n",
       "      <td>1.000000</td>\n",
       "      <td>1.000000</td>\n",
       "      <td>1.000000</td>\n",
       "      <td>1.000000</td>\n",
       "      <td>2.000000</td>\n",
       "    </tr>\n",
       "  </tbody>\n",
       "</table>\n",
       "</div>"
      ],
      "text/plain": [
       "          bathrooms      bedrooms      latitude     longitude         price  \\\n",
       "count  49351.000000  49351.000000  49351.000000  49351.000000  49351.000000   \n",
       "mean       0.121218      0.192704     40.741542    -73.955716      0.000843   \n",
       "std        0.050142      0.139378      0.638542      1.177924      0.004915   \n",
       "min        0.000000      0.000000      0.000000   -118.271000      0.000000   \n",
       "25%        0.100000      0.125000     40.728300    -73.991700      0.000547   \n",
       "50%        0.100000      0.125000     40.751800    -73.977900      0.000692   \n",
       "75%        0.100000      0.250000     40.774300    -73.954800      0.000904   \n",
       "max        1.000000      1.000000     44.883500      0.000000      1.000000   \n",
       "\n",
       "       Median Household Income  Number of Income Household   \\\n",
       "count             49351.000000                 49351.000000   \n",
       "mean                  0.363984                     0.506688   \n",
       "std                   0.127628                     0.223910   \n",
       "min                   0.000000                     0.000000   \n",
       "25%                   0.296262                     0.355647   \n",
       "50%                   0.400801                     0.532631   \n",
       "75%                   0.445912                     0.665455   \n",
       "max                   1.000000                     1.000000   \n",
       "\n",
       "       Number Population by Race  Number of Family Households in Poverty   \\\n",
       "count               49351.000000                             49351.000000   \n",
       "mean                    0.405805                                 0.356732   \n",
       "std                     0.201940                                 0.206927   \n",
       "min                     0.000000                                 0.000000   \n",
       "25%                     0.243237                                 0.184066   \n",
       "50%                     0.415965                                 0.326817   \n",
       "75%                     0.537544                                 0.485667   \n",
       "max                     1.000000                                 1.000000   \n",
       "\n",
       "       Number of individual unemployed   mindistance  \\\n",
       "count                     49351.000000  49351.000000   \n",
       "mean                          0.481761      0.000394   \n",
       "std                           0.212301      0.015780   \n",
       "min                           0.000000      0.000000   \n",
       "25%                           0.331963      0.000035   \n",
       "50%                           0.525971      0.000052   \n",
       "75%                           0.631345      0.000069   \n",
       "max                           1.000000      1.000000   \n",
       "\n",
       "       storecount_mediandistance  interest_level  \n",
       "count               49351.000000    49351.000000  \n",
       "mean                    0.108195        1.149744  \n",
       "std                     0.151924        0.531889  \n",
       "min                     0.000000        0.000000  \n",
       "25%                     0.000000        1.000000  \n",
       "50%                     0.034483        1.000000  \n",
       "75%                     0.172414        1.000000  \n",
       "max                     1.000000        2.000000  "
      ]
     },
     "execution_count": 60,
     "metadata": {},
     "output_type": "execute_result"
    }
   ],
   "source": [
    "Final_Project_Data_B.describe()"
   ]
  },
  {
   "cell_type": "code",
   "execution_count": 61,
   "metadata": {
    "scrolled": false
   },
   "outputs": [
    {
     "data": {
      "text/plain": [
       "bathrooms                                  0.002514\n",
       "bedrooms                                   0.019426\n",
       "latitude                                   0.407727\n",
       "longitude                                  1.387476\n",
       "price                                      0.000024\n",
       "Median Household Income                    0.016289\n",
       "Number of Income Household                 0.050135\n",
       "Number Population by Race                  0.040779\n",
       "Number of Family Households in Poverty     0.042818\n",
       "Number of individual unemployed            0.045071\n",
       "mindistance                                0.000249\n",
       "storecount_mediandistance                  0.023080\n",
       "interest_level                             0.282900\n",
       "dtype: float64"
      ]
     },
     "execution_count": 61,
     "metadata": {},
     "output_type": "execute_result"
    }
   ],
   "source": [
    "np.var(Final_Project_Data_B)"
   ]
  },
  {
   "cell_type": "code",
   "execution_count": 62,
   "metadata": {
    "scrolled": true
   },
   "outputs": [
    {
     "data": {
      "text/html": [
       "<div>\n",
       "<style>\n",
       "    .dataframe thead tr:only-child th {\n",
       "        text-align: right;\n",
       "    }\n",
       "\n",
       "    .dataframe thead th {\n",
       "        text-align: left;\n",
       "    }\n",
       "\n",
       "    .dataframe tbody tr th {\n",
       "        vertical-align: top;\n",
       "    }\n",
       "</style>\n",
       "<table border=\"1\" class=\"dataframe\">\n",
       "  <thead>\n",
       "    <tr style=\"text-align: right;\">\n",
       "      <th></th>\n",
       "      <th>bathrooms</th>\n",
       "      <th>bedrooms</th>\n",
       "      <th>latitude</th>\n",
       "      <th>longitude</th>\n",
       "      <th>price</th>\n",
       "      <th>Median Household Income</th>\n",
       "      <th>Number of Income Household</th>\n",
       "      <th>Number Population by Race</th>\n",
       "      <th>Number of Family Households in Poverty</th>\n",
       "      <th>Number of individual unemployed</th>\n",
       "      <th>mindistance</th>\n",
       "      <th>storecount_mediandistance</th>\n",
       "      <th>interest_level</th>\n",
       "    </tr>\n",
       "  </thead>\n",
       "  <tbody>\n",
       "    <tr>\n",
       "      <th>0</th>\n",
       "      <td>0.15</td>\n",
       "      <td>0.375</td>\n",
       "      <td>40.7145</td>\n",
       "      <td>-73.9425</td>\n",
       "      <td>0.000659</td>\n",
       "      <td>0.217626</td>\n",
       "      <td>0.860203</td>\n",
       "      <td>0.867473</td>\n",
       "      <td>0.778152</td>\n",
       "      <td>0.907377</td>\n",
       "      <td>0.000416</td>\n",
       "      <td>0.000000</td>\n",
       "      <td>2</td>\n",
       "    </tr>\n",
       "    <tr>\n",
       "      <th>1</th>\n",
       "      <td>0.10</td>\n",
       "      <td>0.250</td>\n",
       "      <td>40.7947</td>\n",
       "      <td>-73.9667</td>\n",
       "      <td>0.001208</td>\n",
       "      <td>0.296262</td>\n",
       "      <td>1.000000</td>\n",
       "      <td>0.852354</td>\n",
       "      <td>0.783943</td>\n",
       "      <td>0.943583</td>\n",
       "      <td>0.000069</td>\n",
       "      <td>0.000000</td>\n",
       "      <td>1</td>\n",
       "    </tr>\n",
       "    <tr>\n",
       "      <th>2</th>\n",
       "      <td>0.10</td>\n",
       "      <td>0.125</td>\n",
       "      <td>40.7388</td>\n",
       "      <td>-74.0018</td>\n",
       "      <td>0.000625</td>\n",
       "      <td>0.439272</td>\n",
       "      <td>0.684877</td>\n",
       "      <td>0.464462</td>\n",
       "      <td>0.369774</td>\n",
       "      <td>0.631536</td>\n",
       "      <td>0.000024</td>\n",
       "      <td>0.241379</td>\n",
       "      <td>0</td>\n",
       "    </tr>\n",
       "    <tr>\n",
       "      <th>3</th>\n",
       "      <td>0.10</td>\n",
       "      <td>0.125</td>\n",
       "      <td>40.7539</td>\n",
       "      <td>-73.9677</td>\n",
       "      <td>0.000720</td>\n",
       "      <td>0.505512</td>\n",
       "      <td>0.411727</td>\n",
       "      <td>0.271558</td>\n",
       "      <td>0.246324</td>\n",
       "      <td>0.343205</td>\n",
       "      <td>0.000056</td>\n",
       "      <td>0.000000</td>\n",
       "      <td>1</td>\n",
       "    </tr>\n",
       "    <tr>\n",
       "      <th>4</th>\n",
       "      <td>0.10</td>\n",
       "      <td>0.500</td>\n",
       "      <td>40.8241</td>\n",
       "      <td>-73.9493</td>\n",
       "      <td>0.000737</td>\n",
       "      <td>0.159099</td>\n",
       "      <td>0.487643</td>\n",
       "      <td>0.525637</td>\n",
       "      <td>0.437577</td>\n",
       "      <td>0.593820</td>\n",
       "      <td>0.000104</td>\n",
       "      <td>0.000000</td>\n",
       "      <td>1</td>\n",
       "    </tr>\n",
       "  </tbody>\n",
       "</table>\n",
       "</div>"
      ],
      "text/plain": [
       "   bathrooms  bedrooms  latitude  longitude     price  \\\n",
       "0       0.15     0.375   40.7145   -73.9425  0.000659   \n",
       "1       0.10     0.250   40.7947   -73.9667  0.001208   \n",
       "2       0.10     0.125   40.7388   -74.0018  0.000625   \n",
       "3       0.10     0.125   40.7539   -73.9677  0.000720   \n",
       "4       0.10     0.500   40.8241   -73.9493  0.000737   \n",
       "\n",
       "   Median Household Income  Number of Income Household   \\\n",
       "0                 0.217626                     0.860203   \n",
       "1                 0.296262                     1.000000   \n",
       "2                 0.439272                     0.684877   \n",
       "3                 0.505512                     0.411727   \n",
       "4                 0.159099                     0.487643   \n",
       "\n",
       "   Number Population by Race  Number of Family Households in Poverty   \\\n",
       "0                   0.867473                                 0.778152   \n",
       "1                   0.852354                                 0.783943   \n",
       "2                   0.464462                                 0.369774   \n",
       "3                   0.271558                                 0.246324   \n",
       "4                   0.525637                                 0.437577   \n",
       "\n",
       "   Number of individual unemployed  mindistance  storecount_mediandistance  \\\n",
       "0                         0.907377     0.000416                   0.000000   \n",
       "1                         0.943583     0.000069                   0.000000   \n",
       "2                         0.631536     0.000024                   0.241379   \n",
       "3                         0.343205     0.000056                   0.000000   \n",
       "4                         0.593820     0.000104                   0.000000   \n",
       "\n",
       "   interest_level  \n",
       "0               2  \n",
       "1               1  \n",
       "2               0  \n",
       "3               1  \n",
       "4               1  "
      ]
     },
     "execution_count": 62,
     "metadata": {},
     "output_type": "execute_result"
    }
   ],
   "source": [
    "Final_Project_Data_B.head()"
   ]
  },
  {
   "cell_type": "markdown",
   "metadata": {},
   "source": [
    "### Splitting Final_Project_Data_B to Train/Test"
   ]
  },
  {
   "cell_type": "code",
   "execution_count": 70,
   "metadata": {
    "collapsed": true
   },
   "outputs": [],
   "source": [
    "X = Final_Project_Data_B.drop(['interest_level','latitude', 'longitude'],axis=1)\n",
    "y = Final_Project_Data_B['interest_level']"
   ]
  },
  {
   "cell_type": "code",
   "execution_count": 71,
   "metadata": {},
   "outputs": [
    {
     "data": {
      "text/plain": [
       "0    2\n",
       "1    1\n",
       "2    0\n",
       "3    1\n",
       "4    1\n",
       "Name: interest_level, dtype: int64"
      ]
     },
     "execution_count": 71,
     "metadata": {},
     "output_type": "execute_result"
    }
   ],
   "source": [
    "y.head()"
   ]
  },
  {
   "cell_type": "code",
   "execution_count": 76,
   "metadata": {},
   "outputs": [
    {
     "data": {
      "text/html": [
       "<div>\n",
       "<style>\n",
       "    .dataframe thead tr:only-child th {\n",
       "        text-align: right;\n",
       "    }\n",
       "\n",
       "    .dataframe thead th {\n",
       "        text-align: left;\n",
       "    }\n",
       "\n",
       "    .dataframe tbody tr th {\n",
       "        vertical-align: top;\n",
       "    }\n",
       "</style>\n",
       "<table border=\"1\" class=\"dataframe\">\n",
       "  <thead>\n",
       "    <tr style=\"text-align: right;\">\n",
       "      <th></th>\n",
       "      <th>bathrooms</th>\n",
       "      <th>bedrooms</th>\n",
       "      <th>price</th>\n",
       "      <th>Median Household Income</th>\n",
       "      <th>Number of Income Household</th>\n",
       "      <th>Number Population by Race</th>\n",
       "      <th>Number of Family Households in Poverty</th>\n",
       "      <th>Number of individual unemployed</th>\n",
       "      <th>mindistance</th>\n",
       "      <th>storecount_mediandistance</th>\n",
       "    </tr>\n",
       "  </thead>\n",
       "  <tbody>\n",
       "    <tr>\n",
       "      <th>0</th>\n",
       "      <td>0.15</td>\n",
       "      <td>0.375</td>\n",
       "      <td>0.000659</td>\n",
       "      <td>0.217626</td>\n",
       "      <td>0.860203</td>\n",
       "      <td>0.867473</td>\n",
       "      <td>0.778152</td>\n",
       "      <td>0.907377</td>\n",
       "      <td>0.000416</td>\n",
       "      <td>0.000000</td>\n",
       "    </tr>\n",
       "    <tr>\n",
       "      <th>1</th>\n",
       "      <td>0.10</td>\n",
       "      <td>0.250</td>\n",
       "      <td>0.001208</td>\n",
       "      <td>0.296262</td>\n",
       "      <td>1.000000</td>\n",
       "      <td>0.852354</td>\n",
       "      <td>0.783943</td>\n",
       "      <td>0.943583</td>\n",
       "      <td>0.000069</td>\n",
       "      <td>0.000000</td>\n",
       "    </tr>\n",
       "    <tr>\n",
       "      <th>2</th>\n",
       "      <td>0.10</td>\n",
       "      <td>0.125</td>\n",
       "      <td>0.000625</td>\n",
       "      <td>0.439272</td>\n",
       "      <td>0.684877</td>\n",
       "      <td>0.464462</td>\n",
       "      <td>0.369774</td>\n",
       "      <td>0.631536</td>\n",
       "      <td>0.000024</td>\n",
       "      <td>0.241379</td>\n",
       "    </tr>\n",
       "    <tr>\n",
       "      <th>3</th>\n",
       "      <td>0.10</td>\n",
       "      <td>0.125</td>\n",
       "      <td>0.000720</td>\n",
       "      <td>0.505512</td>\n",
       "      <td>0.411727</td>\n",
       "      <td>0.271558</td>\n",
       "      <td>0.246324</td>\n",
       "      <td>0.343205</td>\n",
       "      <td>0.000056</td>\n",
       "      <td>0.000000</td>\n",
       "    </tr>\n",
       "    <tr>\n",
       "      <th>4</th>\n",
       "      <td>0.10</td>\n",
       "      <td>0.500</td>\n",
       "      <td>0.000737</td>\n",
       "      <td>0.159099</td>\n",
       "      <td>0.487643</td>\n",
       "      <td>0.525637</td>\n",
       "      <td>0.437577</td>\n",
       "      <td>0.593820</td>\n",
       "      <td>0.000104</td>\n",
       "      <td>0.000000</td>\n",
       "    </tr>\n",
       "  </tbody>\n",
       "</table>\n",
       "</div>"
      ],
      "text/plain": [
       "   bathrooms  bedrooms     price  Median Household Income  \\\n",
       "0       0.15     0.375  0.000659                 0.217626   \n",
       "1       0.10     0.250  0.001208                 0.296262   \n",
       "2       0.10     0.125  0.000625                 0.439272   \n",
       "3       0.10     0.125  0.000720                 0.505512   \n",
       "4       0.10     0.500  0.000737                 0.159099   \n",
       "\n",
       "   Number of Income Household   Number Population by Race  \\\n",
       "0                     0.860203                   0.867473   \n",
       "1                     1.000000                   0.852354   \n",
       "2                     0.684877                   0.464462   \n",
       "3                     0.411727                   0.271558   \n",
       "4                     0.487643                   0.525637   \n",
       "\n",
       "   Number of Family Households in Poverty   Number of individual unemployed  \\\n",
       "0                                 0.778152                         0.907377   \n",
       "1                                 0.783943                         0.943583   \n",
       "2                                 0.369774                         0.631536   \n",
       "3                                 0.246324                         0.343205   \n",
       "4                                 0.437577                         0.593820   \n",
       "\n",
       "   mindistance  storecount_mediandistance  \n",
       "0     0.000416                   0.000000  \n",
       "1     0.000069                   0.000000  \n",
       "2     0.000024                   0.241379  \n",
       "3     0.000056                   0.000000  \n",
       "4     0.000104                   0.000000  "
      ]
     },
     "execution_count": 76,
     "metadata": {},
     "output_type": "execute_result"
    }
   ],
   "source": [
    "X.head()"
   ]
  },
  {
   "cell_type": "code",
   "execution_count": 77,
   "metadata": {
    "collapsed": true
   },
   "outputs": [],
   "source": [
    "#X_train, X_test, y_train, y_test = train_test_split(X, y, test_size=0.33, random_state=42)\n",
    "\n",
    "X_train, y_train= X, y\n"
   ]
  },
  {
   "cell_type": "markdown",
   "metadata": {},
   "source": [
    "### Feature Importance"
   ]
  },
  {
   "cell_type": "code",
   "execution_count": 78,
   "metadata": {},
   "outputs": [
    {
     "data": {
      "text/plain": [
       "Index(['bathrooms', 'bedrooms', 'price', 'Median Household Income',\n",
       "       'Number of Income Household ', 'Number Population by Race',\n",
       "       'Number of Family Households in Poverty ',\n",
       "       'Number of individual unemployed', 'mindistance',\n",
       "       'storecount_mediandistance'],\n",
       "      dtype='object')"
      ]
     },
     "execution_count": 78,
     "metadata": {},
     "output_type": "execute_result"
    }
   ],
   "source": [
    "features = X_train.columns\n",
    "features"
   ]
  },
  {
   "cell_type": "code",
   "execution_count": 79,
   "metadata": {
    "collapsed": true
   },
   "outputs": [],
   "source": [
    "rnd_clf = RandomForestClassifier(n_estimators=500, n_jobs=-1, random_state=42)\n",
    "rnd_clf.fit(X_train[features].values, y_train.values)\n",
    "feature_importance = rnd_clf.feature_importances_"
   ]
  },
  {
   "cell_type": "code",
   "execution_count": 80,
   "metadata": {},
   "outputs": [
    {
     "name": "stdout",
     "output_type": "stream",
     "text": [
      "bathrooms 0.0188494049891\n",
      "bedrooms 0.0526049204016\n",
      "price 0.335696778977\n",
      "Median Household Income 0.0566565104479\n",
      "Number of Income Household  0.0520286144223\n",
      "Number Population by Race 0.0508678597239\n",
      "Number of Family Households in Poverty  0.0531902904761\n",
      "Number of individual unemployed 0.0513025030222\n",
      "mindistance 0.254275614009\n",
      "storecount_mediandistance 0.0745275035299\n"
     ]
    }
   ],
   "source": [
    "for name, score in zip(features, feature_importance):\n",
    "        print(name, score)"
   ]
  },
  {
   "cell_type": "code",
   "execution_count": 81,
   "metadata": {},
   "outputs": [
    {
     "data": {
      "image/png": "[encoded data removed]",
      "text/plain": [
       "<matplotlib.figure.Figure at 0x110663208>"
      ]
     },
     "metadata": {},
     "output_type": "display_data"
    }
   ],
   "source": [
    "fig = plt.figure()\n",
    "fig.patch.set_facecolor('xkcd:white')\n",
    "indices = np.argsort(feature_importance)\n",
    "plt.title('Feature Importances')\n",
    "plt.barh(range(len(indices)), feature_importance[indices], color='g', align='center')\n",
    "plt.yticks(range(len(indices)), features[indices])\n",
    "plt.xlabel('Relative Importance')\n",
    "plt.show()"
   ]
  },
  {
   "cell_type": "markdown",
   "metadata": {},
   "source": [
    "### Cross Validating - For all Features"
   ]
  },
  {
   "cell_type": "code",
   "execution_count": 82,
   "metadata": {},
   "outputs": [
    {
     "data": {
      "text/html": [
       "<div>\n",
       "<style>\n",
       "    .dataframe thead tr:only-child th {\n",
       "        text-align: right;\n",
       "    }\n",
       "\n",
       "    .dataframe thead th {\n",
       "        text-align: left;\n",
       "    }\n",
       "\n",
       "    .dataframe tbody tr th {\n",
       "        vertical-align: top;\n",
       "    }\n",
       "</style>\n",
       "<table border=\"1\" class=\"dataframe\">\n",
       "  <thead>\n",
       "    <tr style=\"text-align: right;\">\n",
       "      <th></th>\n",
       "      <th>bathrooms</th>\n",
       "      <th>bedrooms</th>\n",
       "      <th>price</th>\n",
       "      <th>Median Household Income</th>\n",
       "      <th>Number of Income Household</th>\n",
       "      <th>Number Population by Race</th>\n",
       "      <th>Number of Family Households in Poverty</th>\n",
       "      <th>Number of individual unemployed</th>\n",
       "      <th>mindistance</th>\n",
       "      <th>storecount_mediandistance</th>\n",
       "    </tr>\n",
       "  </thead>\n",
       "  <tbody>\n",
       "    <tr>\n",
       "      <th>0</th>\n",
       "      <td>0.15</td>\n",
       "      <td>0.375</td>\n",
       "      <td>0.000659</td>\n",
       "      <td>0.217626</td>\n",
       "      <td>0.860203</td>\n",
       "      <td>0.867473</td>\n",
       "      <td>0.778152</td>\n",
       "      <td>0.907377</td>\n",
       "      <td>0.000416</td>\n",
       "      <td>0.000000</td>\n",
       "    </tr>\n",
       "    <tr>\n",
       "      <th>1</th>\n",
       "      <td>0.10</td>\n",
       "      <td>0.250</td>\n",
       "      <td>0.001208</td>\n",
       "      <td>0.296262</td>\n",
       "      <td>1.000000</td>\n",
       "      <td>0.852354</td>\n",
       "      <td>0.783943</td>\n",
       "      <td>0.943583</td>\n",
       "      <td>0.000069</td>\n",
       "      <td>0.000000</td>\n",
       "    </tr>\n",
       "    <tr>\n",
       "      <th>2</th>\n",
       "      <td>0.10</td>\n",
       "      <td>0.125</td>\n",
       "      <td>0.000625</td>\n",
       "      <td>0.439272</td>\n",
       "      <td>0.684877</td>\n",
       "      <td>0.464462</td>\n",
       "      <td>0.369774</td>\n",
       "      <td>0.631536</td>\n",
       "      <td>0.000024</td>\n",
       "      <td>0.241379</td>\n",
       "    </tr>\n",
       "    <tr>\n",
       "      <th>3</th>\n",
       "      <td>0.10</td>\n",
       "      <td>0.125</td>\n",
       "      <td>0.000720</td>\n",
       "      <td>0.505512</td>\n",
       "      <td>0.411727</td>\n",
       "      <td>0.271558</td>\n",
       "      <td>0.246324</td>\n",
       "      <td>0.343205</td>\n",
       "      <td>0.000056</td>\n",
       "      <td>0.000000</td>\n",
       "    </tr>\n",
       "    <tr>\n",
       "      <th>4</th>\n",
       "      <td>0.10</td>\n",
       "      <td>0.500</td>\n",
       "      <td>0.000737</td>\n",
       "      <td>0.159099</td>\n",
       "      <td>0.487643</td>\n",
       "      <td>0.525637</td>\n",
       "      <td>0.437577</td>\n",
       "      <td>0.593820</td>\n",
       "      <td>0.000104</td>\n",
       "      <td>0.000000</td>\n",
       "    </tr>\n",
       "  </tbody>\n",
       "</table>\n",
       "</div>"
      ],
      "text/plain": [
       "   bathrooms  bedrooms     price  Median Household Income  \\\n",
       "0       0.15     0.375  0.000659                 0.217626   \n",
       "1       0.10     0.250  0.001208                 0.296262   \n",
       "2       0.10     0.125  0.000625                 0.439272   \n",
       "3       0.10     0.125  0.000720                 0.505512   \n",
       "4       0.10     0.500  0.000737                 0.159099   \n",
       "\n",
       "   Number of Income Household   Number Population by Race  \\\n",
       "0                     0.860203                   0.867473   \n",
       "1                     1.000000                   0.852354   \n",
       "2                     0.684877                   0.464462   \n",
       "3                     0.411727                   0.271558   \n",
       "4                     0.487643                   0.525637   \n",
       "\n",
       "   Number of Family Households in Poverty   Number of individual unemployed  \\\n",
       "0                                 0.778152                         0.907377   \n",
       "1                                 0.783943                         0.943583   \n",
       "2                                 0.369774                         0.631536   \n",
       "3                                 0.246324                         0.343205   \n",
       "4                                 0.437577                         0.593820   \n",
       "\n",
       "   mindistance  storecount_mediandistance  \n",
       "0     0.000416                   0.000000  \n",
       "1     0.000069                   0.000000  \n",
       "2     0.000024                   0.241379  \n",
       "3     0.000056                   0.000000  \n",
       "4     0.000104                   0.000000  "
      ]
     },
     "execution_count": 82,
     "metadata": {},
     "output_type": "execute_result"
    }
   ],
   "source": [
    "X_train.head()"
   ]
  },
  {
   "cell_type": "code",
   "execution_count": 83,
   "metadata": {
    "scrolled": true
   },
   "outputs": [
    {
     "data": {
      "text/plain": [
       "0    2\n",
       "1    1\n",
       "2    0\n",
       "3    1\n",
       "4    1\n",
       "Name: interest_level, dtype: int64"
      ]
     },
     "execution_count": 83,
     "metadata": {},
     "output_type": "execute_result"
    }
   ],
   "source": [
    "y_train.head()"
   ]
  },
  {
   "cell_type": "code",
   "execution_count": 103,
   "metadata": {},
   "outputs": [
    {
     "data": {
      "text/html": [
       "<div>\n",
       "<style>\n",
       "    .dataframe thead tr:only-child th {\n",
       "        text-align: right;\n",
       "    }\n",
       "\n",
       "    .dataframe thead th {\n",
       "        text-align: left;\n",
       "    }\n",
       "\n",
       "    .dataframe tbody tr th {\n",
       "        vertical-align: top;\n",
       "    }\n",
       "</style>\n",
       "<table border=\"1\" class=\"dataframe\">\n",
       "  <thead>\n",
       "    <tr style=\"text-align: right;\">\n",
       "      <th></th>\n",
       "      <th>bathrooms</th>\n",
       "      <th>bedrooms</th>\n",
       "      <th>price</th>\n",
       "      <th>Median Household Income</th>\n",
       "      <th>Number of Income Household</th>\n",
       "      <th>Number Population by Race</th>\n",
       "      <th>Number of Family Households in Poverty</th>\n",
       "      <th>Number of individual unemployed</th>\n",
       "      <th>mindistance</th>\n",
       "      <th>storecount_mediandistance</th>\n",
       "    </tr>\n",
       "  </thead>\n",
       "  <tbody>\n",
       "    <tr>\n",
       "      <th>0</th>\n",
       "      <td>0.15</td>\n",
       "      <td>0.375</td>\n",
       "      <td>0.000659</td>\n",
       "      <td>0.217626</td>\n",
       "      <td>0.860203</td>\n",
       "      <td>0.867473</td>\n",
       "      <td>0.778152</td>\n",
       "      <td>0.907377</td>\n",
       "      <td>0.000416</td>\n",
       "      <td>0.000000</td>\n",
       "    </tr>\n",
       "    <tr>\n",
       "      <th>1</th>\n",
       "      <td>0.10</td>\n",
       "      <td>0.250</td>\n",
       "      <td>0.001208</td>\n",
       "      <td>0.296262</td>\n",
       "      <td>1.000000</td>\n",
       "      <td>0.852354</td>\n",
       "      <td>0.783943</td>\n",
       "      <td>0.943583</td>\n",
       "      <td>0.000069</td>\n",
       "      <td>0.000000</td>\n",
       "    </tr>\n",
       "    <tr>\n",
       "      <th>2</th>\n",
       "      <td>0.10</td>\n",
       "      <td>0.125</td>\n",
       "      <td>0.000625</td>\n",
       "      <td>0.439272</td>\n",
       "      <td>0.684877</td>\n",
       "      <td>0.464462</td>\n",
       "      <td>0.369774</td>\n",
       "      <td>0.631536</td>\n",
       "      <td>0.000024</td>\n",
       "      <td>0.241379</td>\n",
       "    </tr>\n",
       "    <tr>\n",
       "      <th>3</th>\n",
       "      <td>0.10</td>\n",
       "      <td>0.125</td>\n",
       "      <td>0.000720</td>\n",
       "      <td>0.505512</td>\n",
       "      <td>0.411727</td>\n",
       "      <td>0.271558</td>\n",
       "      <td>0.246324</td>\n",
       "      <td>0.343205</td>\n",
       "      <td>0.000056</td>\n",
       "      <td>0.000000</td>\n",
       "    </tr>\n",
       "    <tr>\n",
       "      <th>4</th>\n",
       "      <td>0.10</td>\n",
       "      <td>0.500</td>\n",
       "      <td>0.000737</td>\n",
       "      <td>0.159099</td>\n",
       "      <td>0.487643</td>\n",
       "      <td>0.525637</td>\n",
       "      <td>0.437577</td>\n",
       "      <td>0.593820</td>\n",
       "      <td>0.000104</td>\n",
       "      <td>0.000000</td>\n",
       "    </tr>\n",
       "  </tbody>\n",
       "</table>\n",
       "</div>"
      ],
      "text/plain": [
       "   bathrooms  bedrooms     price  Median Household Income  \\\n",
       "0       0.15     0.375  0.000659                 0.217626   \n",
       "1       0.10     0.250  0.001208                 0.296262   \n",
       "2       0.10     0.125  0.000625                 0.439272   \n",
       "3       0.10     0.125  0.000720                 0.505512   \n",
       "4       0.10     0.500  0.000737                 0.159099   \n",
       "\n",
       "   Number of Income Household   Number Population by Race  \\\n",
       "0                     0.860203                   0.867473   \n",
       "1                     1.000000                   0.852354   \n",
       "2                     0.684877                   0.464462   \n",
       "3                     0.411727                   0.271558   \n",
       "4                     0.487643                   0.525637   \n",
       "\n",
       "   Number of Family Households in Poverty   Number of individual unemployed  \\\n",
       "0                                 0.778152                         0.907377   \n",
       "1                                 0.783943                         0.943583   \n",
       "2                                 0.369774                         0.631536   \n",
       "3                                 0.246324                         0.343205   \n",
       "4                                 0.437577                         0.593820   \n",
       "\n",
       "   mindistance  storecount_mediandistance  \n",
       "0     0.000416                   0.000000  \n",
       "1     0.000069                   0.000000  \n",
       "2     0.000024                   0.241379  \n",
       "3     0.000056                   0.000000  \n",
       "4     0.000104                   0.000000  "
      ]
     },
     "execution_count": 103,
     "metadata": {},
     "output_type": "execute_result"
    }
   ],
   "source": [
    "X_train.head()"
   ]
  },
  {
   "cell_type": "code",
   "execution_count": 104,
   "metadata": {},
   "outputs": [
    {
     "data": {
      "text/plain": [
       "0.69467691101455142"
      ]
     },
     "execution_count": 104,
     "metadata": {},
     "output_type": "execute_result"
    }
   ],
   "source": [
    "from sklearn.naive_bayes import MultinomialNB\n",
    "clf = MultinomialNB()\n",
    "scores_naivebayes = np.mean(cross_val_score(clf,X_train,y_train,cv=5))\n",
    "scores_naivebayes"
   ]
  },
  {
   "cell_type": "code",
   "execution_count": 84,
   "metadata": {},
   "outputs": [
    {
     "data": {
      "text/plain": [
       "0.67540658285746236"
      ]
     },
     "execution_count": 84,
     "metadata": {},
     "output_type": "execute_result"
    }
   ],
   "source": [
    "# Random Forest\n",
    "rnd_clf = RandomForestClassifier(n_estimators=500, n_jobs=-1, random_state=42)\n",
    "scores_rnd = np.mean(cross_val_score(rnd_clf,X_train,y_train,cv=5))\n",
    "scores_rnd"
   ]
  },
  {
   "cell_type": "code",
   "execution_count": 101,
   "metadata": {},
   "outputs": [
    {
     "data": {
      "text/plain": [
       "0.69814004818592079"
      ]
     },
     "execution_count": 101,
     "metadata": {},
     "output_type": "execute_result"
    }
   ],
   "source": [
    "logreg = linear_model.LogisticRegression(C=1e5)\n",
    "scores_log = np.mean(cross_val_score(logreg,X_train,y_train,cv=5))\n",
    "scores_log"
   ]
  },
  {
   "cell_type": "code",
   "execution_count": 102,
   "metadata": {},
   "outputs": [
    {
     "data": {
      "text/plain": [
       "0.69820053053574715"
      ]
     },
     "execution_count": 102,
     "metadata": {},
     "output_type": "execute_result"
    }
   ],
   "source": [
    "svm = SVC()\n",
    "scores_svm = np.mean(cross_val_score(svm,X_train,y_train,cv=5))\n",
    "scores_svm"
   ]
  },
  {
   "cell_type": "code",
   "execution_count": 103,
   "metadata": {},
   "outputs": [
    {
     "data": {
      "text/plain": [
       "0.70633634166110237"
      ]
     },
     "execution_count": 103,
     "metadata": {},
     "output_type": "execute_result"
    }
   ],
   "source": [
    "ada = AdaBoostClassifier(DecisionTreeClassifier(max_depth=2),\n",
    "                         algorithm=\"SAMME\",\n",
    "                         n_estimators=200)\n",
    "scores_ada = np.mean(cross_val_score(ada,X_train,y_train,cv=5))\n",
    "scores_ada"
   ]
  },
  {
   "cell_type": "code",
   "execution_count": 104,
   "metadata": {},
   "outputs": [
    {
     "data": {
      "text/plain": [
       "0.71368529683116733"
      ]
     },
     "execution_count": 104,
     "metadata": {},
     "output_type": "execute_result"
    }
   ],
   "source": [
    "params = {'n_estimators': 1200, 'max_depth': 3, 'subsample': 0.5,\n",
    "          'learning_rate': 0.01, 'min_samples_leaf': 1, 'random_state': 3}\n",
    "\n",
    "gb = ensemble.GradientBoostingClassifier(**params)\n",
    "\n",
    "scores_gb = np.mean(cross_val_score(gb,X_train,y_train,cv=5))\n",
    "scores_gb"
   ]
  },
  {
   "cell_type": "code",
   "execution_count": 105,
   "metadata": {},
   "outputs": [
    {
     "data": {
      "text/plain": [
       "0.70700152856931253"
      ]
     },
     "execution_count": 105,
     "metadata": {},
     "output_type": "execute_result"
    }
   ],
   "source": [
    "params = {'n_estimators': 1200, 'max_depth': 3, 'subsample': 0.5, 'max_leaf_nodes': 3,\n",
    "          'learning_rate': 0.01, 'min_samples_leaf': 5, 'random_state': 3}\n",
    "\n",
    "gb_max_leaf3 = ensemble.GradientBoostingClassifier(**params)\n",
    "\n",
    "scores_gb_max_leaf3 = np.mean(cross_val_score(gb_max_leaf3,X_train,y_train,cv=5))\n",
    "scores_gb_max_leaf3"
   ]
  },
  {
   "cell_type": "code",
   "execution_count": 107,
   "metadata": {},
   "outputs": [
    {
     "data": {
      "text/plain": [
       "[0.69968237778027897,\n",
       " 0.69814004818592079,\n",
       " 0.69820053053574715,\n",
       " 0.70633634166110237,\n",
       " 0.71368529683116733,\n",
       " 0.70700152856931253]"
      ]
     },
     "execution_count": 107,
     "metadata": {},
     "output_type": "execute_result"
    }
   ],
   "source": [
    "performance = [scores_rnd,scores_log,scores_svm,scores_ada,scores_gb,scores_gb_max_leaf3]\n",
    "performance"
   ]
  },
  {
   "cell_type": "code",
   "execution_count": 33,
   "metadata": {
    "collapsed": true
   },
   "outputs": [],
   "source": [
    "results = [0.69968237778027897,\n",
    " 0.69814004818592079,\n",
    " 0.69820053053574715,\n",
    " 0.70633634166110237,\n",
    " 0.71368529683116733,\n",
    " 0.70700152856931253]"
   ]
  },
  {
   "cell_type": "code",
   "execution_count": 35,
   "metadata": {},
   "outputs": [],
   "source": [
    "performance = ['RandomForest','LogisticRegression'\n",
    "               ,'SupportVectorMachine','AdaBoostingClassifier',\n",
    "               'GradientBoostingClassifier'\n",
    "               ,'GradientBoostingClassifiermax3']"
   ]
  },
  {
   "cell_type": "code",
   "execution_count": 38,
   "metadata": {},
   "outputs": [
    {
     "data": {
      "image/png": "[encoded data removed]",
      "text/plain": [
       "<matplotlib.figure.Figure at 0x1a16e9e7b8>"
      ]
     },
     "metadata": {},
     "output_type": "display_data"
    }
   ],
   "source": [
    "fig = plt.figure()\n",
    "fig.suptitle('Algorithm Comparison')\n",
    "ax = fig.add_subplot(111)\n",
    "plt.boxplot(results)\n",
    "ax.set_xticklabels(performance)\n",
    "plt.show()"
   ]
  },
  {
   "cell_type": "markdown",
   "metadata": {},
   "source": [
    "### Ploting mean of accuracy score "
   ]
  },
  {
   "cell_type": "code",
   "execution_count": 112,
   "metadata": {
    "scrolled": true
   },
   "outputs": [
    {
     "data": {
      "image/png": "[encoded data removed]",
      "text/plain": [
       "<matplotlib.figure.Figure at 0x1063a0dd8>"
      ]
     },
     "metadata": {},
     "output_type": "display_data"
    }
   ],
   "source": [
    "import matplotlib.pyplot as plt\n",
    "import numpy as np\n",
    "import matplotlib.pyplot as plt\n",
    " \n",
    "objects = ('scores_rnd', 'scores_log', 'scores_svm', 'scores_ada', 'scores_gb','scores_gb_max_leaf3')\n",
    "y_pos = np.arange(len(objects))\n",
    "performance = [scores_rnd,scores_log,scores_svm,scores_ada,scores_gb,scores_gb_max_leaf3]\n",
    " \n",
    "plt.bar(y_pos, performance, align='center', alpha=0.5,color='green')\n",
    "plt.xticks(y_pos, objects)\n",
    "plt.ylabel('Mean Score')\n",
    "plt.title('Mean score of different cross validation model')\n",
    " \n",
    "plt.show()"
   ]
  },
  {
   "cell_type": "markdown",
   "metadata": {},
   "source": [
    "## Grid Search for all features"
   ]
  },
  {
   "cell_type": "code",
   "execution_count": 126,
   "metadata": {
    "collapsed": true
   },
   "outputs": [],
   "source": [
    "y_train = y_train.values"
   ]
  },
  {
   "cell_type": "code",
   "execution_count": 129,
   "metadata": {},
   "outputs": [
    {
     "data": {
      "text/plain": [
       "GridSearchCV(cv=None, error_score='raise',\n",
       "       estimator=RandomForestClassifier(bootstrap=True, class_weight=None, criterion='gini',\n",
       "            max_depth=None, max_features='sqrt', max_leaf_nodes=None,\n",
       "            min_impurity_decrease=0.0, min_impurity_split=None,\n",
       "            min_samples_leaf=1, min_samples_split=2,\n",
       "            min_weight_fraction_leaf=0.0, n_estimators=10, n_jobs=1,\n",
       "            oob_score=False, random_state=None, verbose=0,\n",
       "            warm_start=False),\n",
       "       fit_params={}, iid=True, n_jobs=1,\n",
       "       param_grid={'n_estimators': [10, 100, 1000], 'max_depth': [5, 100, 500], 'min_samples_leaf': [1, 20, 40]},\n",
       "       pre_dispatch='2*n_jobs', refit=True, scoring=None, verbose=0)"
      ]
     },
     "execution_count": 129,
     "metadata": {},
     "output_type": "execute_result"
    }
   ],
   "source": [
    "rf = RandomForestClassifier(max_features='sqrt')  \n",
    "\n",
    "param_grid = {  \n",
    "           \"n_estimators\" : [10, 100, 1000],  \n",
    "           \"max_depth\" : [5, 100, 500],  \n",
    "           \"min_samples_leaf\" : [1, 20, 40]}  \n",
    "\n",
    "CV_rf = GridSearchCV(estimator=rf, param_grid=param_grid)  \n",
    "CV_rf.fit(X_train, y_train)  \n"
   ]
  },
  {
   "cell_type": "code",
   "execution_count": 130,
   "metadata": {},
   "outputs": [
    {
     "data": {
      "text/plain": [
       "([mean: 0.70035, std: 0.00085, params: {'max_depth': 5, 'min_samples_leaf': 1, 'n_estimators': 10},\n",
       "  mean: 0.70138, std: 0.00072, params: {'max_depth': 5, 'min_samples_leaf': 1, 'n_estimators': 100},\n",
       "  mean: 0.70168, std: 0.00030, params: {'max_depth': 5, 'min_samples_leaf': 1, 'n_estimators': 1000},\n",
       "  mean: 0.70104, std: 0.00030, params: {'max_depth': 5, 'min_samples_leaf': 20, 'n_estimators': 10},\n",
       "  mean: 0.70129, std: 0.00044, params: {'max_depth': 5, 'min_samples_leaf': 20, 'n_estimators': 100},\n",
       "  mean: 0.70144, std: 0.00053, params: {'max_depth': 5, 'min_samples_leaf': 20, 'n_estimators': 1000},\n",
       "  mean: 0.70080, std: 0.00106, params: {'max_depth': 5, 'min_samples_leaf': 40, 'n_estimators': 10},\n",
       "  mean: 0.70059, std: 0.00085, params: {'max_depth': 5, 'min_samples_leaf': 40, 'n_estimators': 100},\n",
       "  mean: 0.70122, std: 0.00018, params: {'max_depth': 5, 'min_samples_leaf': 40, 'n_estimators': 1000},\n",
       "  mean: 0.68326, std: 0.00280, params: {'max_depth': 100, 'min_samples_leaf': 1, 'n_estimators': 10},\n",
       "  mean: 0.69666, std: 0.00238, params: {'max_depth': 100, 'min_samples_leaf': 1, 'n_estimators': 100},\n",
       "  mean: 0.69645, std: 0.00297, params: {'max_depth': 100, 'min_samples_leaf': 1, 'n_estimators': 1000},\n",
       "  mean: 0.70631, std: 0.00242, params: {'max_depth': 100, 'min_samples_leaf': 20, 'n_estimators': 10},\n",
       "  mean: 0.70809, std: 0.00086, params: {'max_depth': 100, 'min_samples_leaf': 20, 'n_estimators': 100},\n",
       "  mean: 0.70879, std: 0.00046, params: {'max_depth': 100, 'min_samples_leaf': 20, 'n_estimators': 1000},\n",
       "  mean: 0.70479, std: 0.00124, params: {'max_depth': 100, 'min_samples_leaf': 40, 'n_estimators': 10},\n",
       "  mean: 0.70401, std: 0.00077, params: {'max_depth': 100, 'min_samples_leaf': 40, 'n_estimators': 100},\n",
       "  mean: 0.70525, std: 0.00076, params: {'max_depth': 100, 'min_samples_leaf': 40, 'n_estimators': 1000},\n",
       "  mean: 0.68008, std: 0.00637, params: {'max_depth': 500, 'min_samples_leaf': 1, 'n_estimators': 10},\n",
       "  mean: 0.69572, std: 0.00108, params: {'max_depth': 500, 'min_samples_leaf': 1, 'n_estimators': 100},\n",
       "  mean: 0.69636, std: 0.00281, params: {'max_depth': 500, 'min_samples_leaf': 1, 'n_estimators': 1000},\n",
       "  mean: 0.70869, std: 0.00059, params: {'max_depth': 500, 'min_samples_leaf': 20, 'n_estimators': 10},\n",
       "  mean: 0.70788, std: 0.00087, params: {'max_depth': 500, 'min_samples_leaf': 20, 'n_estimators': 100},\n",
       "  mean: 0.70860, std: 0.00053, params: {'max_depth': 500, 'min_samples_leaf': 20, 'n_estimators': 1000},\n",
       "  mean: 0.70525, std: 0.00140, params: {'max_depth': 500, 'min_samples_leaf': 40, 'n_estimators': 10},\n",
       "  mean: 0.70498, std: 0.00007, params: {'max_depth': 500, 'min_samples_leaf': 40, 'n_estimators': 100},\n",
       "  mean: 0.70540, std: 0.00114, params: {'max_depth': 500, 'min_samples_leaf': 40, 'n_estimators': 1000}],\n",
       " {'max_depth': 100, 'min_samples_leaf': 20, 'n_estimators': 1000},\n",
       " 0.7087857250869499)"
      ]
     },
     "execution_count": 130,
     "metadata": {},
     "output_type": "execute_result"
    }
   ],
   "source": [
    "CV_rf.grid_scores_, CV_rf.best_params_, CV_rf.best_score_"
   ]
  },
  {
   "cell_type": "code",
   "execution_count": null,
   "metadata": {
    "collapsed": true
   },
   "outputs": [],
   "source": []
  },
  {
   "cell_type": "code",
   "execution_count": 140,
   "metadata": {
    "collapsed": true
   },
   "outputs": [],
   "source": [
    "param_test3 = {'min_samples_split':list(range(10,100,1000)), 'min_samples_leaf':list(range(30,71,10))}"
   ]
  },
  {
   "cell_type": "code",
   "execution_count": 141,
   "metadata": {
    "collapsed": true
   },
   "outputs": [],
   "source": [
    "gsearch3 = GridSearchCV(estimator = GradientBoostingClassifier(learning_rate=0.1, n_estimators=60,max_depth=9,max_features='sqrt', subsample=0.8, random_state=10), \n",
    "param_grid = param_test3,scoring= 'accuracy', n_jobs=4,iid=False, cv=3)"
   ]
  },
  {
   "cell_type": "code",
   "execution_count": 142,
   "metadata": {},
   "outputs": [
    {
     "data": {
      "text/plain": [
       "GridSearchCV(cv=3, error_score='raise',\n",
       "       estimator=GradientBoostingClassifier(criterion='friedman_mse', init=None,\n",
       "              learning_rate=0.1, loss='deviance', max_depth=9,\n",
       "              max_features='sqrt', max_leaf_nodes=None,\n",
       "              min_impurity_decrease=0.0, min_impurity_split=None,\n",
       "              min_samples_leaf=1, min_samples_split=2,\n",
       "              min_weight_fraction_leaf=0.0, n_estimators=60,\n",
       "              presort='auto', random_state=10, subsample=0.8, verbose=0,\n",
       "              warm_start=False),\n",
       "       fit_params={}, iid=False, n_jobs=4,\n",
       "       param_grid={'min_samples_split': [10], 'min_samples_leaf': [30, 40, 50, 60, 70]},\n",
       "       pre_dispatch='2*n_jobs', refit=True, scoring='accuracy', verbose=0)"
      ]
     },
     "execution_count": 142,
     "metadata": {},
     "output_type": "execute_result"
    }
   ],
   "source": [
    "gsearch3.fit(X_train, y_train)"
   ]
  },
  {
   "cell_type": "code",
   "execution_count": 139,
   "metadata": {},
   "outputs": [
    {
     "data": {
      "text/plain": [
       "([mean: 0.71142, std: 0.00144, params: {'min_samples_leaf': 30, 'min_samples_split': 1000},\n",
       "  mean: 0.71166, std: 0.00210, params: {'min_samples_leaf': 30, 'min_samples_split': 1200},\n",
       "  mean: 0.71111, std: 0.00065, params: {'min_samples_leaf': 30, 'min_samples_split': 1400},\n",
       "  mean: 0.71081, std: 0.00081, params: {'min_samples_leaf': 30, 'min_samples_split': 1600},\n",
       "  mean: 0.71042, std: 0.00074, params: {'min_samples_leaf': 30, 'min_samples_split': 1800},\n",
       "  mean: 0.71012, std: 0.00004, params: {'min_samples_leaf': 30, 'min_samples_split': 2000},\n",
       "  mean: 0.71105, std: 0.00135, params: {'min_samples_leaf': 40, 'min_samples_split': 1000},\n",
       "  mean: 0.71108, std: 0.00126, params: {'min_samples_leaf': 40, 'min_samples_split': 1200},\n",
       "  mean: 0.71024, std: 0.00057, params: {'min_samples_leaf': 40, 'min_samples_split': 1400},\n",
       "  mean: 0.71057, std: 0.00090, params: {'min_samples_leaf': 40, 'min_samples_split': 1600},\n",
       "  mean: 0.71117, std: 0.00171, params: {'min_samples_leaf': 40, 'min_samples_split': 1800},\n",
       "  mean: 0.70969, std: 0.00156, params: {'min_samples_leaf': 40, 'min_samples_split': 2000},\n",
       "  mean: 0.71063, std: 0.00126, params: {'min_samples_leaf': 50, 'min_samples_split': 1000},\n",
       "  mean: 0.71193, std: 0.00224, params: {'min_samples_leaf': 50, 'min_samples_split': 1200},\n",
       "  mean: 0.71187, std: 0.00091, params: {'min_samples_leaf': 50, 'min_samples_split': 1400},\n",
       "  mean: 0.71118, std: 0.00079, params: {'min_samples_leaf': 50, 'min_samples_split': 1600},\n",
       "  mean: 0.71003, std: 0.00010, params: {'min_samples_leaf': 50, 'min_samples_split': 1800},\n",
       "  mean: 0.70942, std: 0.00040, params: {'min_samples_leaf': 50, 'min_samples_split': 2000},\n",
       "  mean: 0.71051, std: 0.00206, params: {'min_samples_leaf': 60, 'min_samples_split': 1000},\n",
       "  mean: 0.71114, std: 0.00027, params: {'min_samples_leaf': 60, 'min_samples_split': 1200},\n",
       "  mean: 0.71157, std: 0.00067, params: {'min_samples_leaf': 60, 'min_samples_split': 1400},\n",
       "  mean: 0.71163, std: 0.00134, params: {'min_samples_leaf': 60, 'min_samples_split': 1600},\n",
       "  mean: 0.71000, std: 0.00087, params: {'min_samples_leaf': 60, 'min_samples_split': 1800},\n",
       "  mean: 0.71000, std: 0.00126, params: {'min_samples_leaf': 60, 'min_samples_split': 2000},\n",
       "  mean: 0.71072, std: 0.00136, params: {'min_samples_leaf': 70, 'min_samples_split': 1000},\n",
       "  mean: 0.71184, std: 0.00074, params: {'min_samples_leaf': 70, 'min_samples_split': 1200},\n",
       "  mean: 0.71078, std: 0.00084, params: {'min_samples_leaf': 70, 'min_samples_split': 1400},\n",
       "  mean: 0.71063, std: 0.00126, params: {'min_samples_leaf': 70, 'min_samples_split': 1600},\n",
       "  mean: 0.71096, std: 0.00073, params: {'min_samples_leaf': 70, 'min_samples_split': 1800},\n",
       "  mean: 0.71000, std: 0.00069, params: {'min_samples_leaf': 70, 'min_samples_split': 2000}],\n",
       " {'min_samples_leaf': 50, 'min_samples_split': 1200},\n",
       " 0.7119311016098261)"
      ]
     },
     "execution_count": 139,
     "metadata": {},
     "output_type": "execute_result"
    }
   ],
   "source": [
    "gsearch3.grid_scores_, gsearch3.best_params_, gsearch3.best_score_"
   ]
  },
  {
   "cell_type": "markdown",
   "metadata": {},
   "source": [
    "## <b> Cross Validating - For top 4 features </b>"
   ]
  },
  {
   "cell_type": "code",
   "execution_count": 266,
   "metadata": {
    "collapsed": true
   },
   "outputs": [],
   "source": [
    "X_train_importance = X_train[['price','latitude','longitude','mindistance']]\n",
    "y_train_importance = copy.deepcopy(y_train)"
   ]
  },
  {
   "cell_type": "code",
   "execution_count": 105,
   "metadata": {},
   "outputs": [
    {
     "data": {
      "text/plain": [
       "0.69467691101455142"
      ]
     },
     "execution_count": 105,
     "metadata": {},
     "output_type": "execute_result"
    }
   ],
   "source": [
    "from sklearn.naive_bayes import MultinomialNB\n",
    "clf = MultinomialNB()\n",
    "scores_naivebayes_4 = np.mean(cross_val_score(clf,X_train_importance,y_train_importance,cv=5))\n",
    "scores_naivebayes_4"
   ]
  },
  {
   "cell_type": "code",
   "execution_count": 267,
   "metadata": {},
   "outputs": [
    {
     "data": {
      "text/plain": [
       "0.67778590632490077"
      ]
     },
     "execution_count": 267,
     "metadata": {},
     "output_type": "execute_result"
    }
   ],
   "source": [
    "# Random Forest\n",
    "rnd_clf_importance = RandomForestClassifier(n_estimators=500, n_jobs=-1, random_state=42)\n",
    "scores_rnd_importance = np.mean(cross_val_score(rnd_clf_importance,X_train_importance,y_train_importance,cv=5))\n",
    "scores_rnd_importance"
   ]
  },
  {
   "cell_type": "code",
   "execution_count": 268,
   "metadata": {},
   "outputs": [
    {
     "data": {
      "text/plain": [
       "0.69820053053574715"
      ]
     },
     "execution_count": 268,
     "metadata": {},
     "output_type": "execute_result"
    }
   ],
   "source": [
    "logreg_importance = linear_model.LogisticRegression(C=1e5)\n",
    "scores_log_importance = np.mean(cross_val_score(logreg_importance,X_train_importance,y_train_importance,cv=5))\n",
    "scores_log_importance"
   ]
  },
  {
   "cell_type": "code",
   "execution_count": 269,
   "metadata": {},
   "outputs": [
    {
     "data": {
      "text/plain": [
       "0.69820053053574715"
      ]
     },
     "execution_count": 269,
     "metadata": {},
     "output_type": "execute_result"
    }
   ],
   "source": [
    "svm_importance = SVC()\n",
    "scores_svm_importance = np.mean(cross_val_score(svm_importance,X_train_importance,y_train_importance,cv=5))\n",
    "scores_svm_importance"
   ]
  },
  {
   "cell_type": "code",
   "execution_count": 270,
   "metadata": {},
   "outputs": [
    {
     "data": {
      "text/plain": [
       "0.7004687444033042"
      ]
     },
     "execution_count": 270,
     "metadata": {},
     "output_type": "execute_result"
    }
   ],
   "source": [
    "ada_importance = AdaBoostClassifier(DecisionTreeClassifier(max_depth=2),\n",
    "                         algorithm=\"SAMME\",\n",
    "                         n_estimators=200)\n",
    "scores_ada_importance = np.mean(cross_val_score(ada_importance,X_train_importance,y_train_importance,cv=5))\n",
    "scores_ada_importance"
   ]
  },
  {
   "cell_type": "code",
   "execution_count": 271,
   "metadata": {},
   "outputs": [
    {
     "data": {
      "text/plain": [
       "0.70440045832136566"
      ]
     },
     "execution_count": 271,
     "metadata": {},
     "output_type": "execute_result"
    }
   ],
   "source": [
    "params_importance = {'n_estimators': 1200, 'max_depth': 3, 'subsample': 0.5,\n",
    "          'learning_rate': 0.01, 'min_samples_leaf': 1, 'random_state': 3}\n",
    "\n",
    "gb_importance = ensemble.GradientBoostingClassifier(**params)\n",
    "\n",
    "scores_gb_importance = np.mean(cross_val_score(gb_importance,X_train_importance,y_train_importance,cv=5))\n",
    "scores_gb_importance"
   ]
  },
  {
   "cell_type": "code",
   "execution_count": 272,
   "metadata": {},
   "outputs": [
    {
     "data": {
      "text/plain": [
       "0.70440045832136566"
      ]
     },
     "execution_count": 272,
     "metadata": {},
     "output_type": "execute_result"
    }
   ],
   "source": [
    "params_importance = {'n_estimators': 1200, 'max_depth': 3, 'subsample': 0.5, 'max_leaf_nodes': 3,\n",
    "          'learning_rate': 0.01, 'min_samples_leaf': 5, 'random_state': 3}\n",
    "\n",
    "gb_max_leaf3_importance = ensemble.GradientBoostingClassifier(**params)\n",
    "\n",
    "scores_gb_max_leaf3_importance = np.mean(cross_val_score(gb_max_leaf3_importance,X_train_importance,y_train_importance,cv=5))\n",
    "scores_gb_max_leaf3_importance"
   ]
  },
  {
   "cell_type": "code",
   "execution_count": 273,
   "metadata": {},
   "outputs": [
    {
     "data": {
      "text/plain": [
       "[0.67778590632490077,\n",
       " 0.69820053053574715,\n",
       " 0.69820053053574715,\n",
       " 0.7004687444033042,\n",
       " 0.70440045832136566,\n",
       " 0.70440045832136566]"
      ]
     },
     "execution_count": 273,
     "metadata": {},
     "output_type": "execute_result"
    }
   ],
   "source": [
    "performance_importance = [scores_rnd_importance,scores_log_importance,scores_svm_importance,scores_ada_importance,scores_gb_importance,scores_gb_max_leaf3_importance]\n",
    "performance_importance"
   ]
  },
  {
   "cell_type": "code",
   "execution_count": 274,
   "metadata": {},
   "outputs": [
    {
     "data": {
      "image/png": "[encoded data removed]",
      "text/plain": [
       "<matplotlib.figure.Figure at 0x1a1d15e3c8>"
      ]
     },
     "metadata": {},
     "output_type": "display_data"
    }
   ],
   "source": [
    "import matplotlib.pyplot as plt\n",
    "import numpy as np\n",
    "import matplotlib.pyplot as plt\n",
    " \n",
    "objects = ('scores_rnd_importance', 'scores_log_importance', 'scores_svm_importance', 'scores_ada_importance', 'scores_gb_importance','scores_gb_max_leaf3_importance')\n",
    "y_pos = np.arange(len(objects))\n",
    "performance_importance = [scores_rnd_importance,scores_log_importance,scores_svm_importance,scores_ada_importance,scores_gb_importance,scores_gb_max_leaf3_importance]\n",
    " \n",
    "plt.bar(y_pos, performance_importance, align='center', alpha=0.5,color='blue')\n",
    "plt.xticks(y_pos, objects)\n",
    "plt.ylabel('Mean Score')\n",
    "plt.title('Mean score of different cross validation model')\n",
    " \n",
    "plt.show()"
   ]
  },
  {
   "cell_type": "markdown",
   "metadata": {
    "collapsed": true
   },
   "source": [
    "## <b> Cross Validating - For top 2 features </b>"
   ]
  },
  {
   "cell_type": "code",
   "execution_count": 85,
   "metadata": {
    "collapsed": true
   },
   "outputs": [],
   "source": [
    "X_train_importance = X_train[['price','mindistance']]\n",
    "y_train_importance = copy.deepcopy(y_train)"
   ]
  },
  {
   "cell_type": "code",
   "execution_count": 87,
   "metadata": {},
   "outputs": [
    {
     "data": {
      "text/plain": [
       "0.66071603104707466"
      ]
     },
     "execution_count": 87,
     "metadata": {},
     "output_type": "execute_result"
    }
   ],
   "source": [
    "# Random Forest\n",
    "rnd_clf_importance = RandomForestClassifier(n_estimators=500, n_jobs=-1, random_state=42)\n",
    "scores_rnd_importance = np.mean(cross_val_score(rnd_clf_importance,X_train_importance,y_train_importance,cv=5))\n",
    "scores_rnd_importance"
   ]
  },
  {
   "cell_type": "code",
   "execution_count": 86,
   "metadata": {},
   "outputs": [
    {
     "data": {
      "text/plain": [
       "0.69467691101455142"
      ]
     },
     "execution_count": 86,
     "metadata": {},
     "output_type": "execute_result"
    }
   ],
   "source": [
    "logreg_importance = linear_model.LogisticRegression(C=1e5)\n",
    "scores_log_importance = np.mean(cross_val_score(logreg_importance,X_train_importance,y_train_importance,cv=5))\n",
    "scores_log_importance"
   ]
  },
  {
   "cell_type": "code",
   "execution_count": null,
   "metadata": {
    "collapsed": true
   },
   "outputs": [],
   "source": [
    "svm_importance = SVC()\n",
    "scores_svm_importance = np.mean(cross_val_score(svm_importance,X_train_importance,y_train_importance,cv=5))\n",
    "scores_svm_importance"
   ]
  },
  {
   "cell_type": "code",
   "execution_count": null,
   "metadata": {
    "collapsed": true
   },
   "outputs": [],
   "source": [
    "ada_importance = AdaBoostClassifier(DecisionTreeClassifier(max_depth=2),\n",
    "                         algorithm=\"SAMME\",\n",
    "                         n_estimators=200)\n",
    "scores_ada_importance = np.mean(cross_val_score(ada_importance,X_train_importance,y_train_importance,cv=5))\n",
    "scores_ada_importance"
   ]
  },
  {
   "cell_type": "code",
   "execution_count": null,
   "metadata": {
    "collapsed": true
   },
   "outputs": [],
   "source": [
    "params_importance = {'n_estimators': 1200, 'max_depth': 3, 'subsample': 0.5,\n",
    "          'learning_rate': 0.01, 'min_samples_leaf': 1, 'random_state': 3}\n",
    "\n",
    "gb_importance = ensemble.GradientBoostingClassifier(**params)\n",
    "\n",
    "scores_gb_importance = np.mean(cross_val_score(gb_importance,X_train_importance,y_train_importance,cv=5))\n",
    "scores_gb_importance"
   ]
  },
  {
   "cell_type": "code",
   "execution_count": null,
   "metadata": {
    "collapsed": true
   },
   "outputs": [],
   "source": []
  },
  {
   "cell_type": "code",
   "execution_count": null,
   "metadata": {
    "collapsed": true
   },
   "outputs": [],
   "source": []
  },
  {
   "cell_type": "code",
   "execution_count": 275,
   "metadata": {},
   "outputs": [
    {
     "data": {
      "text/plain": [
       "0.7131415234518419"
      ]
     },
     "execution_count": 275,
     "metadata": {},
     "output_type": "execute_result"
    }
   ],
   "source": [
    "params = {'n_estimators': 1200, 'max_depth': 3, 'subsample': 0.5,\n",
    "          'learning_rate': 0.01, 'min_samples_leaf': 1, 'random_state': 3}\n",
    "\n",
    "gb = ensemble.GradientBoostingClassifier(**params)\n",
    "\n",
    "scores_gb = np.mean(cross_val_score(gb,X_train,y_train,cv=10))\n",
    "scores_gb"
   ]
  },
  {
   "cell_type": "code",
   "execution_count": 276,
   "metadata": {},
   "outputs": [
    {
     "data": {
      "text/plain": [
       "0.71153791009393696"
      ]
     },
     "execution_count": 276,
     "metadata": {},
     "output_type": "execute_result"
    }
   ],
   "source": [
    "params = {'n_estimators': 1200, 'max_depth': 3, 'subsample': 0.5,\n",
    "          'learning_rate': 0.01, 'min_samples_leaf': 1, 'random_state': 3}\n",
    "\n",
    "gb = ensemble.GradientBoostingClassifier(**params)\n",
    "\n",
    "scores_gb = np.mean(cross_val_score(gb,X_train,y_train,cv=3))\n",
    "scores_gb"
   ]
  },
  {
   "cell_type": "code",
   "execution_count": 277,
   "metadata": {
    "scrolled": true
   },
   "outputs": [
    {
     "data": {
      "text/plain": [
       "0.71335260962059543"
      ]
     },
     "execution_count": 277,
     "metadata": {},
     "output_type": "execute_result"
    }
   ],
   "source": [
    "params = {'n_estimators': 1200, 'max_depth': 3, 'subsample': 0.5,\n",
    "          'learning_rate': 0.01, 'min_samples_leaf': 1, 'random_state': 3}\n",
    "\n",
    "gb = ensemble.GradientBoostingClassifier(**params)\n",
    "\n",
    "scores_gb = np.mean(cross_val_score(gb,X_train,y_train,cv=5))\n",
    "scores_gb"
   ]
  },
  {
   "cell_type": "code",
   "execution_count": null,
   "metadata": {
    "collapsed": true
   },
   "outputs": [],
   "source": [
    "param_test3 = {'min_samples_split':list(range(1000,2100,200)), 'min_samples_leaf':list(range(30,71,10))}"
   ]
  },
  {
   "cell_type": "code",
   "execution_count": null,
   "metadata": {
    "collapsed": true
   },
   "outputs": [],
   "source": [
    "gsearch3 = GridSearchCV(estimator = GradientBoostingClassifier(learning_rate=0.1, n_estimators=60,max_depth=9,max_features='sqrt', subsample=0.8, random_state=10), \n",
    "param_grid = param_test3, scoring='roc_auc',n_jobs=4,iid=False, cv=3)"
   ]
  },
  {
   "cell_type": "code",
   "execution_count": null,
   "metadata": {
    "collapsed": true
   },
   "outputs": [],
   "source": [
    "gsearch3.fit(X_train,y_train)"
   ]
  },
  {
   "cell_type": "code",
   "execution_count": null,
   "metadata": {
    "collapsed": true
   },
   "outputs": [],
   "source": [
    "gsearch3.grid_scores_, gsearch3.best_params_, gsearch3.best_score_"
   ]
  },
  {
   "cell_type": "code",
   "execution_count": 119,
   "metadata": {},
   "outputs": [
    {
     "ename": "TypeError",
     "evalue": "'builtin_function_or_method' object is not subscriptable",
     "output_type": "error",
     "traceback": [
      "\u001b[0;31m---------------------------------------------------------------------------\u001b[0m",
      "\u001b[0;31mTypeError\u001b[0m                                 Traceback (most recent call last)",
      "\u001b[0;32m<ipython-input-119-2351d0cdf035>\u001b[0m in \u001b[0;36m<module>\u001b[0;34m()\u001b[0m\n\u001b[0;32m----> 1\u001b[0;31m \u001b[0ma\u001b[0m \u001b[0;34m=\u001b[0m \u001b[0mnp\u001b[0m\u001b[0;34m.\u001b[0m\u001b[0marray\u001b[0m\u001b[0;34m[\u001b[0m\u001b[0my_train\u001b[0m\u001b[0;34m]\u001b[0m\u001b[0;34m\u001b[0m\u001b[0m\n\u001b[0m",
      "\u001b[0;31mTypeError\u001b[0m: 'builtin_function_or_method' object is not subscriptable"
     ]
    }
   ],
   "source": [
    "a = np.array[y_train]"
   ]
  },
  {
   "cell_type": "code",
   "execution_count": null,
   "metadata": {
    "collapsed": true
   },
   "outputs": [],
   "source": []
  },
  {
   "cell_type": "code",
   "execution_count": null,
   "metadata": {
    "collapsed": true
   },
   "outputs": [],
   "source": []
  },
  {
   "cell_type": "code",
   "execution_count": null,
   "metadata": {
    "collapsed": true
   },
   "outputs": [],
   "source": []
  },
  {
   "cell_type": "code",
   "execution_count": null,
   "metadata": {
    "collapsed": true
   },
   "outputs": [],
   "source": []
  },
  {
   "cell_type": "code",
   "execution_count": null,
   "metadata": {
    "collapsed": true
   },
   "outputs": [],
   "source": []
  },
  {
   "cell_type": "code",
   "execution_count": null,
   "metadata": {
    "collapsed": true
   },
   "outputs": [],
   "source": []
  },
  {
   "cell_type": "markdown",
   "metadata": {},
   "source": [
    "## Data A - Where missing zip will be deleted. remaining missing columns wil be imputed based on the mean of the zipcode"
   ]
  },
  {
   "cell_type": "code",
   "execution_count": null,
   "metadata": {
    "collapsed": true
   },
   "outputs": [],
   "source": []
  },
  {
   "cell_type": "code",
   "execution_count": null,
   "metadata": {
    "collapsed": true
   },
   "outputs": [],
   "source": []
  },
  {
   "cell_type": "code",
   "execution_count": 56,
   "metadata": {},
   "outputs": [
    {
     "data": {
      "text/plain": [
       "49352"
      ]
     },
     "execution_count": 56,
     "metadata": {},
     "output_type": "execute_result"
    }
   ],
   "source": [
    "len(Final_Project_Data_A)"
   ]
  },
  {
   "cell_type": "code",
   "execution_count": 57,
   "metadata": {
    "collapsed": true
   },
   "outputs": [],
   "source": [
    "Final_Project_Data_A = Final_Project_Data.dropna(subset=['Zip'])"
   ]
  },
  {
   "cell_type": "code",
   "execution_count": 58,
   "metadata": {},
   "outputs": [
    {
     "data": {
      "text/plain": [
       "49339"
      ]
     },
     "execution_count": 58,
     "metadata": {},
     "output_type": "execute_result"
    }
   ],
   "source": [
    "len(Final_Project_Data_A)"
   ]
  },
  {
   "cell_type": "code",
   "execution_count": 59,
   "metadata": {
    "scrolled": true
   },
   "outputs": [
    {
     "data": {
      "text/html": [
       "<div>\n",
       "<style>\n",
       "    .dataframe thead tr:only-child th {\n",
       "        text-align: right;\n",
       "    }\n",
       "\n",
       "    .dataframe thead th {\n",
       "        text-align: left;\n",
       "    }\n",
       "\n",
       "    .dataframe tbody tr th {\n",
       "        vertical-align: top;\n",
       "    }\n",
       "</style>\n",
       "<table border=\"1\" class=\"dataframe\">\n",
       "  <thead>\n",
       "    <tr style=\"text-align: right;\">\n",
       "      <th></th>\n",
       "      <th>bathrooms</th>\n",
       "      <th>bedrooms</th>\n",
       "      <th>latitude</th>\n",
       "      <th>longitude</th>\n",
       "      <th>price</th>\n",
       "      <th>Zip</th>\n",
       "      <th>Median Household Income</th>\n",
       "      <th>Number of Income Household</th>\n",
       "      <th>Number Population by Race</th>\n",
       "      <th>Number of Family Households in Poverty</th>\n",
       "      <th>Number of individual unemployed</th>\n",
       "      <th>mindistance</th>\n",
       "      <th>storecount_mediandistance</th>\n",
       "      <th>interest_level</th>\n",
       "    </tr>\n",
       "  </thead>\n",
       "  <tbody>\n",
       "    <tr>\n",
       "      <th>0</th>\n",
       "      <td>1.5</td>\n",
       "      <td>3.0</td>\n",
       "      <td>40.7145</td>\n",
       "      <td>-73.9425</td>\n",
       "      <td>3000.0</td>\n",
       "      <td>11211.0</td>\n",
       "      <td>54406.0</td>\n",
       "      <td>37381.0</td>\n",
       "      <td>97772.0</td>\n",
       "      <td>18948.0</td>\n",
       "      <td>52303.0</td>\n",
       "      <td>2.24</td>\n",
       "      <td>0</td>\n",
       "      <td>medium</td>\n",
       "    </tr>\n",
       "    <tr>\n",
       "      <th>1</th>\n",
       "      <td>1.0</td>\n",
       "      <td>2.0</td>\n",
       "      <td>40.7947</td>\n",
       "      <td>-73.9667</td>\n",
       "      <td>5465.0</td>\n",
       "      <td>10025.0</td>\n",
       "      <td>74065.0</td>\n",
       "      <td>43456.0</td>\n",
       "      <td>96068.0</td>\n",
       "      <td>19089.0</td>\n",
       "      <td>54390.0</td>\n",
       "      <td>0.37</td>\n",
       "      <td>0</td>\n",
       "      <td>low</td>\n",
       "    </tr>\n",
       "    <tr>\n",
       "      <th>2</th>\n",
       "      <td>1.0</td>\n",
       "      <td>1.0</td>\n",
       "      <td>40.7388</td>\n",
       "      <td>-74.0018</td>\n",
       "      <td>2850.0</td>\n",
       "      <td>10011.0</td>\n",
       "      <td>109818.0</td>\n",
       "      <td>29762.0</td>\n",
       "      <td>52349.0</td>\n",
       "      <td>9004.0</td>\n",
       "      <td>36403.0</td>\n",
       "      <td>0.13</td>\n",
       "      <td>7</td>\n",
       "      <td>high</td>\n",
       "    </tr>\n",
       "    <tr>\n",
       "      <th>3</th>\n",
       "      <td>1.0</td>\n",
       "      <td>1.0</td>\n",
       "      <td>40.7539</td>\n",
       "      <td>-73.9677</td>\n",
       "      <td>3275.0</td>\n",
       "      <td>10022.0</td>\n",
       "      <td>126378.0</td>\n",
       "      <td>17892.0</td>\n",
       "      <td>30607.0</td>\n",
       "      <td>5998.0</td>\n",
       "      <td>19783.0</td>\n",
       "      <td>0.30</td>\n",
       "      <td>0</td>\n",
       "      <td>low</td>\n",
       "    </tr>\n",
       "    <tr>\n",
       "      <th>4</th>\n",
       "      <td>1.0</td>\n",
       "      <td>4.0</td>\n",
       "      <td>40.8241</td>\n",
       "      <td>-73.9493</td>\n",
       "      <td>3350.0</td>\n",
       "      <td>10031.0</td>\n",
       "      <td>39774.0</td>\n",
       "      <td>21191.0</td>\n",
       "      <td>59244.0</td>\n",
       "      <td>10655.0</td>\n",
       "      <td>34229.0</td>\n",
       "      <td>0.56</td>\n",
       "      <td>0</td>\n",
       "      <td>low</td>\n",
       "    </tr>\n",
       "  </tbody>\n",
       "</table>\n",
       "</div>"
      ],
      "text/plain": [
       "   bathrooms  bedrooms  latitude  longitude   price      Zip  \\\n",
       "0        1.5       3.0   40.7145   -73.9425  3000.0  11211.0   \n",
       "1        1.0       2.0   40.7947   -73.9667  5465.0  10025.0   \n",
       "2        1.0       1.0   40.7388   -74.0018  2850.0  10011.0   \n",
       "3        1.0       1.0   40.7539   -73.9677  3275.0  10022.0   \n",
       "4        1.0       4.0   40.8241   -73.9493  3350.0  10031.0   \n",
       "\n",
       "   Median Household Income  Number of Income Household   \\\n",
       "0                  54406.0                      37381.0   \n",
       "1                  74065.0                      43456.0   \n",
       "2                 109818.0                      29762.0   \n",
       "3                 126378.0                      17892.0   \n",
       "4                  39774.0                      21191.0   \n",
       "\n",
       "   Number Population by Race  Number of Family Households in Poverty   \\\n",
       "0                    97772.0                                  18948.0   \n",
       "1                    96068.0                                  19089.0   \n",
       "2                    52349.0                                   9004.0   \n",
       "3                    30607.0                                   5998.0   \n",
       "4                    59244.0                                  10655.0   \n",
       "\n",
       "   Number of individual unemployed  mindistance  storecount_mediandistance  \\\n",
       "0                          52303.0         2.24                          0   \n",
       "1                          54390.0         0.37                          0   \n",
       "2                          36403.0         0.13                          7   \n",
       "3                          19783.0         0.30                          0   \n",
       "4                          34229.0         0.56                          0   \n",
       "\n",
       "  interest_level  \n",
       "0         medium  \n",
       "1            low  \n",
       "2           high  \n",
       "3            low  \n",
       "4            low  "
      ]
     },
     "execution_count": 59,
     "metadata": {},
     "output_type": "execute_result"
    }
   ],
   "source": [
    "Final_Project_Data_A.head()"
   ]
  },
  {
   "cell_type": "code",
   "execution_count": 44,
   "metadata": {
    "scrolled": false
   },
   "outputs": [
    {
     "data": {
      "text/plain": [
       "['bathrooms',\n",
       " 'bedrooms',\n",
       " 'latitude',\n",
       " 'longitude',\n",
       " 'price',\n",
       " 'Zip',\n",
       " 'Median Household Income',\n",
       " 'Number of Income Household ',\n",
       " 'Number Population by Race',\n",
       " 'Number of Family Households in Poverty ',\n",
       " 'Number of individual unemployed',\n",
       " 'mindistance',\n",
       " 'storecount_mediandistance',\n",
       " 'interest_level']"
      ]
     },
     "execution_count": 44,
     "metadata": {},
     "output_type": "execute_result"
    }
   ],
   "source": [
    "list(Final_Project_Data_A)"
   ]
  },
  {
   "cell_type": "code",
   "execution_count": 74,
   "metadata": {
    "collapsed": true
   },
   "outputs": [],
   "source": [
    "means = Final_Project_Data_A.groupby('Zip')['Median Household Income'].mean()\n",
    "nulls = Final_Project_Data_A['Median Household Income'].isnull()\n",
    "fills = Final_Project_Data_A.Zip[nulls].map(means)\n",
    "# Final_Project_Data_A.loc[nulls, 'Price'] = fills"
   ]
  },
  {
   "cell_type": "code",
   "execution_count": 76,
   "metadata": {
    "scrolled": true
   },
   "outputs": [
    {
     "name": "stderr",
     "output_type": "stream",
     "text": [
      "/Users/ClumsyJace/anaconda3/lib/python3.6/site-packages/pandas/core/indexing.py:517: SettingWithCopyWarning: \n",
      "A value is trying to be set on a copy of a slice from a DataFrame.\n",
      "Try using .loc[row_indexer,col_indexer] = value instead\n",
      "\n",
      "See the caveats in the documentation: http://pandas.pydata.org/pandas-docs/stable/indexing.html#indexing-view-versus-copy\n",
      "  self.obj[item] = s\n"
     ]
    }
   ],
   "source": [
    "Final_Project_Data_A.loc[nulls, 'Median Household Income'] = fills"
   ]
  },
  {
   "cell_type": "code",
   "execution_count": null,
   "metadata": {
    "collapsed": true
   },
   "outputs": [],
   "source": [
    "Final_Project_Data_A['storecount_mediandistance'] = final_data.apply(lambda row: storescount(row['distance']), axis=1)"
   ]
  },
  {
   "cell_type": "code",
   "execution_count": null,
   "metadata": {
    "collapsed": true
   },
   "outputs": [],
   "source": [
    "final_data['storecount_mediandistance'] = final_data.apply(lambda row: storescount(row['distance']), axis=1)"
   ]
  },
  {
   "cell_type": "code",
   "execution_count": null,
   "metadata": {
    "collapsed": true
   },
   "outputs": [],
   "source": [
    "means = df.groupby('Section').Price.mean()\n",
    "nulls = df.Price.isnull()\n",
    "fills = df.Section[nulls].map(means)\n",
    "df.loc[nulls, 'Median Household Income'] = fills"
   ]
  },
  {
   "cell_type": "code",
   "execution_count": null,
   "metadata": {
    "collapsed": true
   },
   "outputs": [],
   "source": []
  },
  {
   "cell_type": "code",
   "execution_count": 69,
   "metadata": {},
   "outputs": [
    {
     "name": "stderr",
     "output_type": "stream",
     "text": [
      "/Users/ClumsyJace/anaconda3/lib/python3.6/site-packages/ipykernel_launcher.py:1: SettingWithCopyWarning: \n",
      "A value is trying to be set on a copy of a slice from a DataFrame.\n",
      "Try using .loc[row_indexer,col_indexer] = value instead\n",
      "\n",
      "See the caveats in the documentation: http://pandas.pydata.org/pandas-docs/stable/indexing.html#indexing-view-versus-copy\n",
      "  \"\"\"Entry point for launching an IPython kernel.\n"
     ]
    }
   ],
   "source": [
    "Final_Project_Data_A[\"Median Household Income\"] = Final_Project_Data_A[\"Median Household Income\"].fillna(Final_Project_Data_A.groupby(\"Zip\")[\"Median Household Income\"].transform(\"mean\"))"
   ]
  },
  {
   "cell_type": "code",
   "execution_count": null,
   "metadata": {
    "collapsed": true
   },
   "outputs": [],
   "source": [
    "df[\"Price\"] = (df[\"Price\"].fillna(df.groupby(\"Section\")[\"Price\"].transform(\"mean\"))"
   ]
  },
  {
   "cell_type": "code",
   "execution_count": 65,
   "metadata": {},
   "outputs": [
    {
     "name": "stderr",
     "output_type": "stream",
     "text": [
      "/Users/ClumsyJace/anaconda3/lib/python3.6/site-packages/ipykernel_launcher.py:1: SettingWithCopyWarning: \n",
      "A value is trying to be set on a copy of a slice from a DataFrame.\n",
      "Try using .loc[row_indexer,col_indexer] = value instead\n",
      "\n",
      "See the caveats in the documentation: http://pandas.pydata.org/pandas-docs/stable/indexing.html#indexing-view-versus-copy\n",
      "  \"\"\"Entry point for launching an IPython kernel.\n"
     ]
    }
   ],
   "source": [
    "Final_Project_Data_A[\"Median Household Income\"] = Final_Project_Data_A[\"Median Household Income\"].fillna(Final_Project_Data_A.groupby(\"Zip\")[\"Median Household Income\"].transform(\"mean\"))"
   ]
  },
  {
   "cell_type": "code",
   "execution_count": 77,
   "metadata": {},
   "outputs": [
    {
     "data": {
      "text/plain": [
       "376"
      ]
     },
     "execution_count": 77,
     "metadata": {},
     "output_type": "execute_result"
    }
   ],
   "source": [
    "Final_Project_Data_A[\"Median Household Income\"].isnull().sum()"
   ]
  },
  {
   "cell_type": "code",
   "execution_count": 101,
   "metadata": {},
   "outputs": [
    {
     "data": {
      "text/html": [
       "<div>\n",
       "<style>\n",
       "    .dataframe thead tr:only-child th {\n",
       "        text-align: right;\n",
       "    }\n",
       "\n",
       "    .dataframe thead th {\n",
       "        text-align: left;\n",
       "    }\n",
       "\n",
       "    .dataframe tbody tr th {\n",
       "        vertical-align: top;\n",
       "    }\n",
       "</style>\n",
       "<table border=\"1\" class=\"dataframe\">\n",
       "  <thead>\n",
       "    <tr style=\"text-align: right;\">\n",
       "      <th></th>\n",
       "      <th>bathrooms</th>\n",
       "      <th>bedrooms</th>\n",
       "      <th>latitude</th>\n",
       "      <th>longitude</th>\n",
       "      <th>price</th>\n",
       "      <th>Zip</th>\n",
       "      <th>Median Household Income</th>\n",
       "      <th>Number of Income Household</th>\n",
       "      <th>Number Population by Race</th>\n",
       "      <th>Number of Family Households in Poverty</th>\n",
       "      <th>Number of individual unemployed</th>\n",
       "      <th>mindistance</th>\n",
       "      <th>storecount_mediandistance</th>\n",
       "      <th>interest_level</th>\n",
       "      <th>Price</th>\n",
       "    </tr>\n",
       "  </thead>\n",
       "  <tbody>\n",
       "    <tr>\n",
       "      <th>0</th>\n",
       "      <td>1.5</td>\n",
       "      <td>3.0</td>\n",
       "      <td>40.7145</td>\n",
       "      <td>-73.9425</td>\n",
       "      <td>3000.0</td>\n",
       "      <td>11211.0</td>\n",
       "      <td>54406.0</td>\n",
       "      <td>37381.0</td>\n",
       "      <td>97772.0</td>\n",
       "      <td>18948.0</td>\n",
       "      <td>52303.0</td>\n",
       "      <td>2.24</td>\n",
       "      <td>0</td>\n",
       "      <td>medium</td>\n",
       "      <td>NaN</td>\n",
       "    </tr>\n",
       "    <tr>\n",
       "      <th>1</th>\n",
       "      <td>1.0</td>\n",
       "      <td>2.0</td>\n",
       "      <td>40.7947</td>\n",
       "      <td>-73.9667</td>\n",
       "      <td>5465.0</td>\n",
       "      <td>10025.0</td>\n",
       "      <td>74065.0</td>\n",
       "      <td>43456.0</td>\n",
       "      <td>96068.0</td>\n",
       "      <td>19089.0</td>\n",
       "      <td>54390.0</td>\n",
       "      <td>0.37</td>\n",
       "      <td>0</td>\n",
       "      <td>low</td>\n",
       "      <td>NaN</td>\n",
       "    </tr>\n",
       "    <tr>\n",
       "      <th>2</th>\n",
       "      <td>1.0</td>\n",
       "      <td>1.0</td>\n",
       "      <td>40.7388</td>\n",
       "      <td>-74.0018</td>\n",
       "      <td>2850.0</td>\n",
       "      <td>10011.0</td>\n",
       "      <td>109818.0</td>\n",
       "      <td>29762.0</td>\n",
       "      <td>52349.0</td>\n",
       "      <td>9004.0</td>\n",
       "      <td>36403.0</td>\n",
       "      <td>0.13</td>\n",
       "      <td>7</td>\n",
       "      <td>high</td>\n",
       "      <td>NaN</td>\n",
       "    </tr>\n",
       "    <tr>\n",
       "      <th>3</th>\n",
       "      <td>1.0</td>\n",
       "      <td>1.0</td>\n",
       "      <td>40.7539</td>\n",
       "      <td>-73.9677</td>\n",
       "      <td>3275.0</td>\n",
       "      <td>10022.0</td>\n",
       "      <td>126378.0</td>\n",
       "      <td>17892.0</td>\n",
       "      <td>30607.0</td>\n",
       "      <td>5998.0</td>\n",
       "      <td>19783.0</td>\n",
       "      <td>0.30</td>\n",
       "      <td>0</td>\n",
       "      <td>low</td>\n",
       "      <td>NaN</td>\n",
       "    </tr>\n",
       "    <tr>\n",
       "      <th>4</th>\n",
       "      <td>1.0</td>\n",
       "      <td>4.0</td>\n",
       "      <td>40.8241</td>\n",
       "      <td>-73.9493</td>\n",
       "      <td>3350.0</td>\n",
       "      <td>10031.0</td>\n",
       "      <td>39774.0</td>\n",
       "      <td>21191.0</td>\n",
       "      <td>59244.0</td>\n",
       "      <td>10655.0</td>\n",
       "      <td>34229.0</td>\n",
       "      <td>0.56</td>\n",
       "      <td>0</td>\n",
       "      <td>low</td>\n",
       "      <td>NaN</td>\n",
       "    </tr>\n",
       "  </tbody>\n",
       "</table>\n",
       "</div>"
      ],
      "text/plain": [
       "   bathrooms  bedrooms  latitude  longitude   price      Zip  \\\n",
       "0        1.5       3.0   40.7145   -73.9425  3000.0  11211.0   \n",
       "1        1.0       2.0   40.7947   -73.9667  5465.0  10025.0   \n",
       "2        1.0       1.0   40.7388   -74.0018  2850.0  10011.0   \n",
       "3        1.0       1.0   40.7539   -73.9677  3275.0  10022.0   \n",
       "4        1.0       4.0   40.8241   -73.9493  3350.0  10031.0   \n",
       "\n",
       "   Median Household Income  Number of Income Household   \\\n",
       "0                  54406.0                      37381.0   \n",
       "1                  74065.0                      43456.0   \n",
       "2                 109818.0                      29762.0   \n",
       "3                 126378.0                      17892.0   \n",
       "4                  39774.0                      21191.0   \n",
       "\n",
       "   Number Population by Race  Number of Family Households in Poverty   \\\n",
       "0                    97772.0                                  18948.0   \n",
       "1                    96068.0                                  19089.0   \n",
       "2                    52349.0                                   9004.0   \n",
       "3                    30607.0                                   5998.0   \n",
       "4                    59244.0                                  10655.0   \n",
       "\n",
       "   Number of individual unemployed  mindistance  storecount_mediandistance  \\\n",
       "0                          52303.0         2.24                          0   \n",
       "1                          54390.0         0.37                          0   \n",
       "2                          36403.0         0.13                          7   \n",
       "3                          19783.0         0.30                          0   \n",
       "4                          34229.0         0.56                          0   \n",
       "\n",
       "  interest_level  Price  \n",
       "0         medium    NaN  \n",
       "1            low    NaN  \n",
       "2           high    NaN  \n",
       "3            low    NaN  \n",
       "4            low    NaN  "
      ]
     },
     "execution_count": 101,
     "metadata": {},
     "output_type": "execute_result"
    }
   ],
   "source": [
    "Final_Project_Data_A.head()"
   ]
  },
  {
   "cell_type": "code",
   "execution_count": 107,
   "metadata": {},
   "outputs": [
    {
     "data": {
      "text/plain": [
       "Index(['bathrooms', 'bedrooms', 'latitude', 'longitude', 'price', 'Zip',\n",
       "       'Median Household Income', 'Number of Income Household ',\n",
       "       'Number Population by Race', 'Number of Family Households in Poverty ',\n",
       "       'Number of individual unemployed', 'mindistance',\n",
       "       'storecount_mediandistance', 'interest_level', 'Price'],\n",
       "      dtype='object')"
      ]
     },
     "execution_count": 107,
     "metadata": {},
     "output_type": "execute_result"
    }
   ],
   "source": [
    "Final_Project_Data_A.columns"
   ]
  },
  {
   "cell_type": "code",
   "execution_count": null,
   "metadata": {
    "collapsed": true
   },
   "outputs": [],
   "source": [
    "df[\"c\"].fillna(df.groupby(\"a\")[\"c\"].transform(\"mean\"), inplace=True)"
   ]
  },
  {
   "cell_type": "code",
   "execution_count": 104,
   "metadata": {
    "collapsed": true
   },
   "outputs": [],
   "source": [
    "#grouping each zip to take mean then impute for missing value\n",
    "abc_df = Final_Project_Data_A[\"Median Household Income\"].fillna(Final_Project_Data_A.groupby(\"Zip\").mean()[\"Median Household Income\"], inplace=False)\n",
    "# Final_Project_Data_A[\"Number of Income Household \"].fillna(Final_Project_Data_A.groupby(\"Zip\")[\"Number of Income Household \"].transform(\"mean\"), inplace=True)\n",
    "# Final_Project_Data_A[\"Number Population by Race\"].fillna(Final_Project_Data_A.groupby(\"Zip\")[\"Number Population by Race\"].transform(\"mean\"), inplace=True)\n",
    "# Final_Project_Data_A[\"Number of Family Households in Poverty \"].fillna(Final_Project_Data_A.groupby(\"Zip\")[\"Number of Family Households in Poverty \"].transform(\"mean\"), inplace=True)\n",
    "# Final_Project_Data_A[\"Number of individual unemployed\"].fillna(Final_Project_Data_A.groupby(\"Zip\")[\"Number of individual unemployed\"].transform(\"mean\"), inplace=True)"
   ]
  },
  {
   "cell_type": "code",
   "execution_count": 111,
   "metadata": {},
   "outputs": [
    {
     "data": {
      "text/plain": [
       "374"
      ]
     },
     "execution_count": 111,
     "metadata": {},
     "output_type": "execute_result"
    }
   ],
   "source": [
    "abc_df.isnull().sum()"
   ]
  },
  {
   "cell_type": "code",
   "execution_count": 112,
   "metadata": {},
   "outputs": [
    {
     "data": {
      "text/plain": [
       "49339"
      ]
     },
     "execution_count": 112,
     "metadata": {},
     "output_type": "execute_result"
    }
   ],
   "source": [
    "len(abc_df)"
   ]
  },
  {
   "cell_type": "code",
   "execution_count": 108,
   "metadata": {},
   "outputs": [
    {
     "ename": "KeyError",
     "evalue": "\"None of [['Median Household Income']] are in the [index]\"",
     "output_type": "error",
     "traceback": [
      "\u001b[0;31m---------------------------------------------------------------------------\u001b[0m",
      "\u001b[0;31mKeyError\u001b[0m                                  Traceback (most recent call last)",
      "\u001b[0;32m<ipython-input-108-92ab77c088a6>\u001b[0m in \u001b[0;36m<module>\u001b[0;34m()\u001b[0m\n\u001b[0;32m----> 1\u001b[0;31m \u001b[0mabc_df\u001b[0m\u001b[0;34m[\u001b[0m\u001b[0;34m[\u001b[0m\u001b[0;34m'Median Household Income'\u001b[0m\u001b[0;34m]\u001b[0m\u001b[0;34m]\u001b[0m\u001b[0;34m.\u001b[0m\u001b[0misnull\u001b[0m\u001b[0;34m(\u001b[0m\u001b[0;34m)\u001b[0m\u001b[0;34m.\u001b[0m\u001b[0msum\u001b[0m\u001b[0;34m(\u001b[0m\u001b[0;34m)\u001b[0m\u001b[0;34m\u001b[0m\u001b[0m\n\u001b[0m",
      "\u001b[0;32m~/anaconda3/lib/python3.6/site-packages/pandas/core/series.py\u001b[0m in \u001b[0;36m__getitem__\u001b[0;34m(self, key)\u001b[0m\n\u001b[1;32m    640\u001b[0m             \u001b[0mkey\u001b[0m \u001b[0;34m=\u001b[0m \u001b[0mcheck_bool_indexer\u001b[0m\u001b[0;34m(\u001b[0m\u001b[0mself\u001b[0m\u001b[0;34m.\u001b[0m\u001b[0mindex\u001b[0m\u001b[0;34m,\u001b[0m \u001b[0mkey\u001b[0m\u001b[0;34m)\u001b[0m\u001b[0;34m\u001b[0m\u001b[0m\n\u001b[1;32m    641\u001b[0m \u001b[0;34m\u001b[0m\u001b[0m\n\u001b[0;32m--> 642\u001b[0;31m         \u001b[0;32mreturn\u001b[0m \u001b[0mself\u001b[0m\u001b[0;34m.\u001b[0m\u001b[0m_get_with\u001b[0m\u001b[0;34m(\u001b[0m\u001b[0mkey\u001b[0m\u001b[0;34m)\u001b[0m\u001b[0;34m\u001b[0m\u001b[0m\n\u001b[0m\u001b[1;32m    643\u001b[0m \u001b[0;34m\u001b[0m\u001b[0m\n\u001b[1;32m    644\u001b[0m     \u001b[0;32mdef\u001b[0m \u001b[0m_get_with\u001b[0m\u001b[0;34m(\u001b[0m\u001b[0mself\u001b[0m\u001b[0;34m,\u001b[0m \u001b[0mkey\u001b[0m\u001b[0;34m)\u001b[0m\u001b[0;34m:\u001b[0m\u001b[0;34m\u001b[0m\u001b[0m\n",
      "\u001b[0;32m~/anaconda3/lib/python3.6/site-packages/pandas/core/series.py\u001b[0m in \u001b[0;36m_get_with\u001b[0;34m(self, key)\u001b[0m\n\u001b[1;32m    681\u001b[0m                     \u001b[0;31m# handle the dup indexing case (GH 4246)\u001b[0m\u001b[0;34m\u001b[0m\u001b[0;34m\u001b[0m\u001b[0m\n\u001b[1;32m    682\u001b[0m                     \u001b[0;32mif\u001b[0m \u001b[0misinstance\u001b[0m\u001b[0;34m(\u001b[0m\u001b[0mkey\u001b[0m\u001b[0;34m,\u001b[0m \u001b[0;34m(\u001b[0m\u001b[0mlist\u001b[0m\u001b[0;34m,\u001b[0m \u001b[0mtuple\u001b[0m\u001b[0;34m)\u001b[0m\u001b[0;34m)\u001b[0m\u001b[0;34m:\u001b[0m\u001b[0;34m\u001b[0m\u001b[0m\n\u001b[0;32m--> 683\u001b[0;31m                         \u001b[0;32mreturn\u001b[0m \u001b[0mself\u001b[0m\u001b[0;34m.\u001b[0m\u001b[0mloc\u001b[0m\u001b[0;34m[\u001b[0m\u001b[0mkey\u001b[0m\u001b[0;34m]\u001b[0m\u001b[0;34m\u001b[0m\u001b[0m\n\u001b[0m\u001b[1;32m    684\u001b[0m \u001b[0;34m\u001b[0m\u001b[0m\n\u001b[1;32m    685\u001b[0m                     \u001b[0;32mreturn\u001b[0m \u001b[0mself\u001b[0m\u001b[0;34m.\u001b[0m\u001b[0mreindex\u001b[0m\u001b[0;34m(\u001b[0m\u001b[0mkey\u001b[0m\u001b[0;34m)\u001b[0m\u001b[0;34m\u001b[0m\u001b[0m\n",
      "\u001b[0;32m~/anaconda3/lib/python3.6/site-packages/pandas/core/indexing.py\u001b[0m in \u001b[0;36m__getitem__\u001b[0;34m(self, key)\u001b[0m\n\u001b[1;32m   1326\u001b[0m         \u001b[0;32melse\u001b[0m\u001b[0;34m:\u001b[0m\u001b[0;34m\u001b[0m\u001b[0m\n\u001b[1;32m   1327\u001b[0m             \u001b[0mkey\u001b[0m \u001b[0;34m=\u001b[0m \u001b[0mcom\u001b[0m\u001b[0;34m.\u001b[0m\u001b[0m_apply_if_callable\u001b[0m\u001b[0;34m(\u001b[0m\u001b[0mkey\u001b[0m\u001b[0;34m,\u001b[0m \u001b[0mself\u001b[0m\u001b[0;34m.\u001b[0m\u001b[0mobj\u001b[0m\u001b[0;34m)\u001b[0m\u001b[0;34m\u001b[0m\u001b[0m\n\u001b[0;32m-> 1328\u001b[0;31m             \u001b[0;32mreturn\u001b[0m \u001b[0mself\u001b[0m\u001b[0;34m.\u001b[0m\u001b[0m_getitem_axis\u001b[0m\u001b[0;34m(\u001b[0m\u001b[0mkey\u001b[0m\u001b[0;34m,\u001b[0m \u001b[0maxis\u001b[0m\u001b[0;34m=\u001b[0m\u001b[0;36m0\u001b[0m\u001b[0;34m)\u001b[0m\u001b[0;34m\u001b[0m\u001b[0m\n\u001b[0m\u001b[1;32m   1329\u001b[0m \u001b[0;34m\u001b[0m\u001b[0m\n\u001b[1;32m   1330\u001b[0m     \u001b[0;32mdef\u001b[0m \u001b[0m_is_scalar_access\u001b[0m\u001b[0;34m(\u001b[0m\u001b[0mself\u001b[0m\u001b[0;34m,\u001b[0m \u001b[0mkey\u001b[0m\u001b[0;34m)\u001b[0m\u001b[0;34m:\u001b[0m\u001b[0;34m\u001b[0m\u001b[0m\n",
      "\u001b[0;32m~/anaconda3/lib/python3.6/site-packages/pandas/core/indexing.py\u001b[0m in \u001b[0;36m_getitem_axis\u001b[0;34m(self, key, axis)\u001b[0m\n\u001b[1;32m   1539\u001b[0m                     \u001b[0;32mraise\u001b[0m \u001b[0mValueError\u001b[0m\u001b[0;34m(\u001b[0m\u001b[0;34m'Cannot index with multidimensional key'\u001b[0m\u001b[0;34m)\u001b[0m\u001b[0;34m\u001b[0m\u001b[0m\n\u001b[1;32m   1540\u001b[0m \u001b[0;34m\u001b[0m\u001b[0m\n\u001b[0;32m-> 1541\u001b[0;31m                 \u001b[0;32mreturn\u001b[0m \u001b[0mself\u001b[0m\u001b[0;34m.\u001b[0m\u001b[0m_getitem_iterable\u001b[0m\u001b[0;34m(\u001b[0m\u001b[0mkey\u001b[0m\u001b[0;34m,\u001b[0m \u001b[0maxis\u001b[0m\u001b[0;34m=\u001b[0m\u001b[0maxis\u001b[0m\u001b[0;34m)\u001b[0m\u001b[0;34m\u001b[0m\u001b[0m\n\u001b[0m\u001b[1;32m   1542\u001b[0m \u001b[0;34m\u001b[0m\u001b[0m\n\u001b[1;32m   1543\u001b[0m             \u001b[0;31m# nested tuple slicing\u001b[0m\u001b[0;34m\u001b[0m\u001b[0;34m\u001b[0m\u001b[0m\n",
      "\u001b[0;32m~/anaconda3/lib/python3.6/site-packages/pandas/core/indexing.py\u001b[0m in \u001b[0;36m_getitem_iterable\u001b[0;34m(self, key, axis)\u001b[0m\n\u001b[1;32m   1079\u001b[0m     \u001b[0;32mdef\u001b[0m \u001b[0m_getitem_iterable\u001b[0m\u001b[0;34m(\u001b[0m\u001b[0mself\u001b[0m\u001b[0;34m,\u001b[0m \u001b[0mkey\u001b[0m\u001b[0;34m,\u001b[0m \u001b[0maxis\u001b[0m\u001b[0;34m=\u001b[0m\u001b[0;36m0\u001b[0m\u001b[0;34m)\u001b[0m\u001b[0;34m:\u001b[0m\u001b[0;34m\u001b[0m\u001b[0m\n\u001b[1;32m   1080\u001b[0m         \u001b[0;32mif\u001b[0m \u001b[0mself\u001b[0m\u001b[0;34m.\u001b[0m\u001b[0m_should_validate_iterable\u001b[0m\u001b[0;34m(\u001b[0m\u001b[0maxis\u001b[0m\u001b[0;34m)\u001b[0m\u001b[0;34m:\u001b[0m\u001b[0;34m\u001b[0m\u001b[0m\n\u001b[0;32m-> 1081\u001b[0;31m             \u001b[0mself\u001b[0m\u001b[0;34m.\u001b[0m\u001b[0m_has_valid_type\u001b[0m\u001b[0;34m(\u001b[0m\u001b[0mkey\u001b[0m\u001b[0;34m,\u001b[0m \u001b[0maxis\u001b[0m\u001b[0;34m)\u001b[0m\u001b[0;34m\u001b[0m\u001b[0m\n\u001b[0m\u001b[1;32m   1082\u001b[0m \u001b[0;34m\u001b[0m\u001b[0m\n\u001b[1;32m   1083\u001b[0m         \u001b[0mlabels\u001b[0m \u001b[0;34m=\u001b[0m \u001b[0mself\u001b[0m\u001b[0;34m.\u001b[0m\u001b[0mobj\u001b[0m\u001b[0;34m.\u001b[0m\u001b[0m_get_axis\u001b[0m\u001b[0;34m(\u001b[0m\u001b[0maxis\u001b[0m\u001b[0;34m)\u001b[0m\u001b[0;34m\u001b[0m\u001b[0m\n",
      "\u001b[0;32m~/anaconda3/lib/python3.6/site-packages/pandas/core/indexing.py\u001b[0m in \u001b[0;36m_has_valid_type\u001b[0;34m(self, key, axis)\u001b[0m\n\u001b[1;32m   1416\u001b[0m \u001b[0;34m\u001b[0m\u001b[0m\n\u001b[1;32m   1417\u001b[0m                 raise KeyError(\"None of [%s] are in the [%s]\" %\n\u001b[0;32m-> 1418\u001b[0;31m                                (key, self.obj._get_axis_name(axis)))\n\u001b[0m\u001b[1;32m   1419\u001b[0m \u001b[0;34m\u001b[0m\u001b[0m\n\u001b[1;32m   1420\u001b[0m             \u001b[0;32mreturn\u001b[0m \u001b[0;32mTrue\u001b[0m\u001b[0;34m\u001b[0m\u001b[0m\n",
      "\u001b[0;31mKeyError\u001b[0m: \"None of [['Median Household Income']] are in the [index]\""
     ]
    }
   ],
   "source": []
  },
  {
   "cell_type": "code",
   "execution_count": 105,
   "metadata": {},
   "outputs": [
    {
     "name": "stdout",
     "output_type": "stream",
     "text": [
      "8\n"
     ]
    }
   ],
   "source": [
    "print(8)"
   ]
  },
  {
   "cell_type": "code",
   "execution_count": 46,
   "metadata": {},
   "outputs": [
    {
     "name": "stdout",
     "output_type": "stream",
     "text": [
      "<class 'pandas.core.frame.DataFrame'>\n",
      "RangeIndex: 49352 entries, 0 to 49351\n",
      "Data columns (total 14 columns):\n",
      "bathrooms                                  49352 non-null float64\n",
      "bedrooms                                   49352 non-null float64\n",
      "latitude                                   49352 non-null float64\n",
      "longitude                                  49352 non-null float64\n",
      "price                                      49352 non-null float64\n",
      "Zip                                        49339 non-null float64\n",
      "Median Household Income                    48963 non-null float64\n",
      "Number of Income Household                 48963 non-null float64\n",
      "Number Population by Race                  48963 non-null float64\n",
      "Number of Family Households in Poverty     48963 non-null float64\n",
      "Number of individual unemployed            48963 non-null float64\n",
      "mindistance                                49352 non-null float64\n",
      "storecount_mediandistance                  49352 non-null int64\n",
      "interest_level                             49352 non-null object\n",
      "dtypes: float64(12), int64(1), object(1)\n",
      "memory usage: 5.3+ MB\n"
     ]
    }
   ],
   "source": [
    "Final_Project_Data_A.info()"
   ]
  },
  {
   "cell_type": "code",
   "execution_count": null,
   "metadata": {
    "collapsed": true
   },
   "outputs": [],
   "source": []
  },
  {
   "cell_type": "code",
   "execution_count": null,
   "metadata": {
    "collapsed": true
   },
   "outputs": [],
   "source": [
    "df[\"preTestScore\"].fillna(df[\"preTestScore\"].mean(), inplace=True)\n",
    "df"
   ]
  },
  {
   "cell_type": "code",
   "execution_count": null,
   "metadata": {
    "collapsed": true
   },
   "outputs": [],
   "source": [
    "Final_Project_Data_A[\"postTestScore\"].fillna(Final_Project_Data_A.groupby(\"sex\")[\"postTestScore\"].transform(\"mean\"), inplace=True)\n",
    "df"
   ]
  },
  {
   "cell_type": "code",
   "execution_count": null,
   "metadata": {
    "collapsed": true
   },
   "outputs": [],
   "source": []
  },
  {
   "cell_type": "code",
   "execution_count": null,
   "metadata": {
    "collapsed": true
   },
   "outputs": [],
   "source": []
  },
  {
   "cell_type": "code",
   "execution_count": null,
   "metadata": {
    "collapsed": true
   },
   "outputs": [],
   "source": []
  },
  {
   "cell_type": "code",
   "execution_count": null,
   "metadata": {
    "collapsed": true
   },
   "outputs": [],
   "source": []
  },
  {
   "cell_type": "code",
   "execution_count": 24,
   "metadata": {
    "collapsed": true
   },
   "outputs": [],
   "source": [
    "import pandas as pd\n",
    "import numpy as np\n",
    "\n",
    "x=np.linspace(0,1,10)\n",
    "y=np.sin(x)\n",
    "\n",
    "y[[3,4,7]]=np.NaN\n",
    "\n",
    "df=pd.DataFrame({'y':y}, index=x)\n",
    "\n",
    "dfi=df.interpolate(method='nearest')\n",
    "# dfn=df.fillna(method='nearest')"
   ]
  },
  {
   "cell_type": "code",
   "execution_count": 25,
   "metadata": {},
   "outputs": [
    {
     "data": {
      "text/html": [
       "<div>\n",
       "<style>\n",
       "    .dataframe thead tr:only-child th {\n",
       "        text-align: right;\n",
       "    }\n",
       "\n",
       "    .dataframe thead th {\n",
       "        text-align: left;\n",
       "    }\n",
       "\n",
       "    .dataframe tbody tr th {\n",
       "        vertical-align: top;\n",
       "    }\n",
       "</style>\n",
       "<table border=\"1\" class=\"dataframe\">\n",
       "  <thead>\n",
       "    <tr style=\"text-align: right;\">\n",
       "      <th></th>\n",
       "      <th>y</th>\n",
       "    </tr>\n",
       "  </thead>\n",
       "  <tbody>\n",
       "    <tr>\n",
       "      <th>0.000000</th>\n",
       "      <td>0.000000</td>\n",
       "    </tr>\n",
       "    <tr>\n",
       "      <th>0.111111</th>\n",
       "      <td>0.110883</td>\n",
       "    </tr>\n",
       "    <tr>\n",
       "      <th>0.222222</th>\n",
       "      <td>0.220398</td>\n",
       "    </tr>\n",
       "    <tr>\n",
       "      <th>0.333333</th>\n",
       "      <td>NaN</td>\n",
       "    </tr>\n",
       "    <tr>\n",
       "      <th>0.444444</th>\n",
       "      <td>NaN</td>\n",
       "    </tr>\n",
       "    <tr>\n",
       "      <th>0.555556</th>\n",
       "      <td>0.527415</td>\n",
       "    </tr>\n",
       "    <tr>\n",
       "      <th>0.666667</th>\n",
       "      <td>0.618370</td>\n",
       "    </tr>\n",
       "    <tr>\n",
       "      <th>0.777778</th>\n",
       "      <td>NaN</td>\n",
       "    </tr>\n",
       "    <tr>\n",
       "      <th>0.888889</th>\n",
       "      <td>0.776372</td>\n",
       "    </tr>\n",
       "    <tr>\n",
       "      <th>1.000000</th>\n",
       "      <td>0.841471</td>\n",
       "    </tr>\n",
       "  </tbody>\n",
       "</table>\n",
       "</div>"
      ],
      "text/plain": [
       "                 y\n",
       "0.000000  0.000000\n",
       "0.111111  0.110883\n",
       "0.222222  0.220398\n",
       "0.333333       NaN\n",
       "0.444444       NaN\n",
       "0.555556  0.527415\n",
       "0.666667  0.618370\n",
       "0.777778       NaN\n",
       "0.888889  0.776372\n",
       "1.000000  0.841471"
      ]
     },
     "execution_count": 25,
     "metadata": {},
     "output_type": "execute_result"
    }
   ],
   "source": [
    "df"
   ]
  },
  {
   "cell_type": "code",
   "execution_count": 26,
   "metadata": {},
   "outputs": [
    {
     "data": {
      "text/html": [
       "<div>\n",
       "<style>\n",
       "    .dataframe thead tr:only-child th {\n",
       "        text-align: right;\n",
       "    }\n",
       "\n",
       "    .dataframe thead th {\n",
       "        text-align: left;\n",
       "    }\n",
       "\n",
       "    .dataframe tbody tr th {\n",
       "        vertical-align: top;\n",
       "    }\n",
       "</style>\n",
       "<table border=\"1\" class=\"dataframe\">\n",
       "  <thead>\n",
       "    <tr style=\"text-align: right;\">\n",
       "      <th></th>\n",
       "      <th>y</th>\n",
       "    </tr>\n",
       "  </thead>\n",
       "  <tbody>\n",
       "    <tr>\n",
       "      <th>0.000000</th>\n",
       "      <td>0.000000</td>\n",
       "    </tr>\n",
       "    <tr>\n",
       "      <th>0.111111</th>\n",
       "      <td>0.110883</td>\n",
       "    </tr>\n",
       "    <tr>\n",
       "      <th>0.222222</th>\n",
       "      <td>0.220398</td>\n",
       "    </tr>\n",
       "    <tr>\n",
       "      <th>0.333333</th>\n",
       "      <td>0.220398</td>\n",
       "    </tr>\n",
       "    <tr>\n",
       "      <th>0.444444</th>\n",
       "      <td>0.527415</td>\n",
       "    </tr>\n",
       "    <tr>\n",
       "      <th>0.555556</th>\n",
       "      <td>0.527415</td>\n",
       "    </tr>\n",
       "    <tr>\n",
       "      <th>0.666667</th>\n",
       "      <td>0.618370</td>\n",
       "    </tr>\n",
       "    <tr>\n",
       "      <th>0.777778</th>\n",
       "      <td>0.618370</td>\n",
       "    </tr>\n",
       "    <tr>\n",
       "      <th>0.888889</th>\n",
       "      <td>0.776372</td>\n",
       "    </tr>\n",
       "    <tr>\n",
       "      <th>1.000000</th>\n",
       "      <td>0.841471</td>\n",
       "    </tr>\n",
       "  </tbody>\n",
       "</table>\n",
       "</div>"
      ],
      "text/plain": [
       "                 y\n",
       "0.000000  0.000000\n",
       "0.111111  0.110883\n",
       "0.222222  0.220398\n",
       "0.333333  0.220398\n",
       "0.444444  0.527415\n",
       "0.555556  0.527415\n",
       "0.666667  0.618370\n",
       "0.777778  0.618370\n",
       "0.888889  0.776372\n",
       "1.000000  0.841471"
      ]
     },
     "execution_count": 26,
     "metadata": {},
     "output_type": "execute_result"
    }
   ],
   "source": [
    "dfi"
   ]
  },
  {
   "cell_type": "code",
   "execution_count": 113,
   "metadata": {},
   "outputs": [
    {
     "name": "stdout",
     "output_type": "stream",
     "text": [
      "   a   b     c\n",
      "0  5  10  20.0\n",
      "1  1   2   4.0\n",
      "2  3   2   NaN\n",
      "3  1   3  33.0\n"
     ]
    }
   ],
   "source": [
    "import pandas as pd\n",
    "data = [{'a': 5, 'b': 10, 'c': 20},{'a': 1, 'b': 2, 'c': 4},{'a': 3, 'b': 2},{'a': 1, 'b': 3, 'c': 33}]\n",
    "df = pd.DataFrame(data)\n",
    "# df = pd.DataFrame(data, index=['zero','first', 'second','third'])\n",
    "print (df)"
   ]
  },
  {
   "cell_type": "code",
   "execution_count": 114,
   "metadata": {},
   "outputs": [
    {
     "data": {
      "text/html": [
       "<div>\n",
       "<style>\n",
       "    .dataframe thead tr:only-child th {\n",
       "        text-align: right;\n",
       "    }\n",
       "\n",
       "    .dataframe thead th {\n",
       "        text-align: left;\n",
       "    }\n",
       "\n",
       "    .dataframe tbody tr th {\n",
       "        vertical-align: top;\n",
       "    }\n",
       "</style>\n",
       "<table border=\"1\" class=\"dataframe\">\n",
       "  <thead>\n",
       "    <tr style=\"text-align: right;\">\n",
       "      <th></th>\n",
       "      <th>a</th>\n",
       "      <th>b</th>\n",
       "      <th>c</th>\n",
       "    </tr>\n",
       "  </thead>\n",
       "  <tbody>\n",
       "    <tr>\n",
       "      <th>0</th>\n",
       "      <td>5</td>\n",
       "      <td>10</td>\n",
       "      <td>20.0</td>\n",
       "    </tr>\n",
       "    <tr>\n",
       "      <th>1</th>\n",
       "      <td>1</td>\n",
       "      <td>2</td>\n",
       "      <td>4.0</td>\n",
       "    </tr>\n",
       "    <tr>\n",
       "      <th>2</th>\n",
       "      <td>3</td>\n",
       "      <td>2</td>\n",
       "      <td>NaN</td>\n",
       "    </tr>\n",
       "    <tr>\n",
       "      <th>3</th>\n",
       "      <td>1</td>\n",
       "      <td>3</td>\n",
       "      <td>33.0</td>\n",
       "    </tr>\n",
       "  </tbody>\n",
       "</table>\n",
       "</div>"
      ],
      "text/plain": [
       "   a   b     c\n",
       "0  5  10  20.0\n",
       "1  1   2   4.0\n",
       "2  3   2   NaN\n",
       "3  1   3  33.0"
      ]
     },
     "execution_count": 114,
     "metadata": {},
     "output_type": "execute_result"
    }
   ],
   "source": [
    "df[\"c\"].fillna(df.groupby(\"a\")[\"c\"].transform(\"mean\"), inplace=True)\n",
    "df"
   ]
  },
  {
   "cell_type": "code",
   "execution_count": 100,
   "metadata": {
    "collapsed": true
   },
   "outputs": [],
   "source": [
    "dfi=df.interpolate(method='nearest')"
   ]
  },
  {
   "cell_type": "code",
   "execution_count": 36,
   "metadata": {},
   "outputs": [
    {
     "data": {
      "text/html": [
       "<div>\n",
       "<style>\n",
       "    .dataframe thead tr:only-child th {\n",
       "        text-align: right;\n",
       "    }\n",
       "\n",
       "    .dataframe thead th {\n",
       "        text-align: left;\n",
       "    }\n",
       "\n",
       "    .dataframe tbody tr th {\n",
       "        vertical-align: top;\n",
       "    }\n",
       "</style>\n",
       "<table border=\"1\" class=\"dataframe\">\n",
       "  <thead>\n",
       "    <tr style=\"text-align: right;\">\n",
       "      <th></th>\n",
       "      <th>a</th>\n",
       "      <th>b</th>\n",
       "      <th>c</th>\n",
       "    </tr>\n",
       "  </thead>\n",
       "  <tbody>\n",
       "    <tr>\n",
       "      <th>0</th>\n",
       "      <td>5</td>\n",
       "      <td>10</td>\n",
       "      <td>20.0</td>\n",
       "    </tr>\n",
       "    <tr>\n",
       "      <th>1</th>\n",
       "      <td>1</td>\n",
       "      <td>2</td>\n",
       "      <td>4.0</td>\n",
       "    </tr>\n",
       "    <tr>\n",
       "      <th>2</th>\n",
       "      <td>1</td>\n",
       "      <td>2</td>\n",
       "      <td>4.0</td>\n",
       "    </tr>\n",
       "    <tr>\n",
       "      <th>3</th>\n",
       "      <td>1</td>\n",
       "      <td>3</td>\n",
       "      <td>33.0</td>\n",
       "    </tr>\n",
       "  </tbody>\n",
       "</table>\n",
       "</div>"
      ],
      "text/plain": [
       "   a   b     c\n",
       "0  5  10  20.0\n",
       "1  1   2   4.0\n",
       "2  1   2   4.0\n",
       "3  1   3  33.0"
      ]
     },
     "execution_count": 36,
     "metadata": {},
     "output_type": "execute_result"
    }
   ],
   "source": [
    "dfi"
   ]
  },
  {
   "cell_type": "code",
   "execution_count": null,
   "metadata": {
    "collapsed": true
   },
   "outputs": [],
   "source": []
  }
 ],
 "metadata": {
  "kernelspec": {
   "display_name": "Python 3",
   "language": "python",
   "name": "python3"
  },
  "language_info": {
   "codemirror_mode": {
    "name": "ipython",
    "version": 3
   },
   "file_extension": ".py",
   "mimetype": "text/x-python",
   "name": "python",
   "nbconvert_exporter": "python",
   "pygments_lexer": "ipython3",
   "version": "3.5.4"
  }
 },
 "nbformat": 4,
 "nbformat_minor": 2
}
