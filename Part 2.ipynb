{
 "cells": [
  {
   "cell_type": "code",
   "execution_count": 111,
   "metadata": {
    "collapsed": true
   },
   "outputs": [],
   "source": [
    "import pandas as pd \n",
    "import numpy as np\n",
    "from math import radians, cos, sin, asin, sqrt"
   ]
  },
  {
   "cell_type": "code",
   "execution_count": 113,
   "metadata": {},
   "outputs": [],
   "source": [
    "merged_data = pd.read_csv('finaldataforthesis_withaddress_merged2.csv', sep='\\t')"
   ]
  },
  {
   "cell_type": "code",
   "execution_count": 114,
   "metadata": {
    "collapsed": true
   },
   "outputs": [],
   "source": [
    "final_data  = merged_data.drop(['Unnamed: 0','coordinates','dist'],axis=1)"
   ]
  },
  {
   "cell_type": "code",
   "execution_count": 115,
   "metadata": {
    "scrolled": true
   },
   "outputs": [
    {
     "data": {
      "text/html": [
       "<div>\n",
       "<style>\n",
       "    .dataframe thead tr:only-child th {\n",
       "        text-align: right;\n",
       "    }\n",
       "\n",
       "    .dataframe thead th {\n",
       "        text-align: left;\n",
       "    }\n",
       "\n",
       "    .dataframe tbody tr th {\n",
       "        vertical-align: top;\n",
       "    }\n",
       "</style>\n",
       "<table border=\"1\" class=\"dataframe\">\n",
       "  <thead>\n",
       "    <tr style=\"text-align: right;\">\n",
       "      <th></th>\n",
       "      <th>bathrooms</th>\n",
       "      <th>bedrooms</th>\n",
       "      <th>interest_level</th>\n",
       "      <th>latitude</th>\n",
       "      <th>longitude</th>\n",
       "      <th>price</th>\n",
       "      <th>address</th>\n",
       "      <th>Zip</th>\n",
       "      <th>State</th>\n",
       "      <th>County</th>\n",
       "      <th>City</th>\n",
       "      <th>Median Household Income</th>\n",
       "      <th>Number of Income Household</th>\n",
       "      <th>Number Population by Race</th>\n",
       "      <th>Number of Family Households in Poverty</th>\n",
       "      <th>Number of individual unemployed</th>\n",
       "    </tr>\n",
       "  </thead>\n",
       "  <tbody>\n",
       "    <tr>\n",
       "      <th>0</th>\n",
       "      <td>1.5</td>\n",
       "      <td>3.0</td>\n",
       "      <td>medium</td>\n",
       "      <td>40.7145</td>\n",
       "      <td>-73.9425</td>\n",
       "      <td>3000.0</td>\n",
       "      <td>370 Humboldt St, Brooklyn, NY 11211</td>\n",
       "      <td>11211.0</td>\n",
       "      <td>New York</td>\n",
       "      <td>Kings</td>\n",
       "      <td>New York</td>\n",
       "      <td>54406.0</td>\n",
       "      <td>37381.0</td>\n",
       "      <td>97772.0</td>\n",
       "      <td>18948.0</td>\n",
       "      <td>52303.0</td>\n",
       "    </tr>\n",
       "    <tr>\n",
       "      <th>1</th>\n",
       "      <td>1.0</td>\n",
       "      <td>2.0</td>\n",
       "      <td>low</td>\n",
       "      <td>40.7947</td>\n",
       "      <td>-73.9667</td>\n",
       "      <td>5465.0</td>\n",
       "      <td>808 Columbus Ave, New York, NY 10025</td>\n",
       "      <td>10025.0</td>\n",
       "      <td>New York</td>\n",
       "      <td>New York</td>\n",
       "      <td>New York</td>\n",
       "      <td>74065.0</td>\n",
       "      <td>43456.0</td>\n",
       "      <td>96068.0</td>\n",
       "      <td>19089.0</td>\n",
       "      <td>54390.0</td>\n",
       "    </tr>\n",
       "  </tbody>\n",
       "</table>\n",
       "</div>"
      ],
      "text/plain": [
       "   bathrooms  bedrooms interest_level  latitude  longitude   price  \\\n",
       "0        1.5       3.0         medium   40.7145   -73.9425  3000.0   \n",
       "1        1.0       2.0            low   40.7947   -73.9667  5465.0   \n",
       "\n",
       "                                address      Zip     State    County  \\\n",
       "0   370 Humboldt St, Brooklyn, NY 11211  11211.0  New York     Kings   \n",
       "1  808 Columbus Ave, New York, NY 10025  10025.0  New York  New York   \n",
       "\n",
       "       City  Median Household Income  Number of Income Household   \\\n",
       "0  New York                  54406.0                      37381.0   \n",
       "1  New York                  74065.0                      43456.0   \n",
       "\n",
       "   Number Population by Race  Number of Family Households in Poverty   \\\n",
       "0                    97772.0                                  18948.0   \n",
       "1                    96068.0                                  19089.0   \n",
       "\n",
       "   Number of individual unemployed  \n",
       "0                          52303.0  \n",
       "1                          54390.0  "
      ]
     },
     "execution_count": 115,
     "metadata": {},
     "output_type": "execute_result"
    }
   ],
   "source": [
    "final_data.head(2)"
   ]
  },
  {
   "cell_type": "code",
   "execution_count": 116,
   "metadata": {},
   "outputs": [
    {
     "name": "stdout",
     "output_type": "stream",
     "text": [
      "<class 'pandas.core.frame.DataFrame'>\n",
      "RangeIndex: 49352 entries, 0 to 49351\n",
      "Data columns (total 16 columns):\n",
      "bathrooms                                  49352 non-null float64\n",
      "bedrooms                                   49352 non-null float64\n",
      "interest_level                             49352 non-null object\n",
      "latitude                                   49352 non-null float64\n",
      "longitude                                  49352 non-null float64\n",
      "price                                      49352 non-null float64\n",
      "address                                    49339 non-null object\n",
      "Zip                                        49339 non-null float64\n",
      "State                                      48963 non-null object\n",
      "County                                     48963 non-null object\n",
      "City                                       48963 non-null object\n",
      "Median Household Income                    48963 non-null float64\n",
      "Number of Income Household                 48963 non-null float64\n",
      "Number Population by Race                  48963 non-null float64\n",
      "Number of Family Households in Poverty     48963 non-null float64\n",
      "Number of individual unemployed            48963 non-null float64\n",
      "dtypes: float64(11), object(5)\n",
      "memory usage: 6.0+ MB\n"
     ]
    }
   ],
   "source": [
    "final_data.info()"
   ]
  },
  {
   "cell_type": "code",
   "execution_count": 29,
   "metadata": {
    "scrolled": false
   },
   "outputs": [
    {
     "name": "stdout",
     "output_type": "stream",
     "text": [
      "There are 205 stores in NYC\n",
      " \n"
     ]
    },
    {
     "data": {
      "text/html": [
       "<div>\n",
       "<style>\n",
       "    .dataframe thead tr:only-child th {\n",
       "        text-align: right;\n",
       "    }\n",
       "\n",
       "    .dataframe thead th {\n",
       "        text-align: left;\n",
       "    }\n",
       "\n",
       "    .dataframe tbody tr th {\n",
       "        vertical-align: top;\n",
       "    }\n",
       "</style>\n",
       "<table border=\"1\" class=\"dataframe\">\n",
       "  <thead>\n",
       "    <tr style=\"text-align: right;\">\n",
       "      <th></th>\n",
       "      <th>Brand</th>\n",
       "      <th>City</th>\n",
       "      <th>State/Province</th>\n",
       "      <th>Country</th>\n",
       "      <th>Postcode</th>\n",
       "      <th>Longitude</th>\n",
       "      <th>Latitude</th>\n",
       "    </tr>\n",
       "  </thead>\n",
       "  <tbody>\n",
       "    <tr>\n",
       "      <th>0</th>\n",
       "      <td>Starbucks</td>\n",
       "      <td>New York</td>\n",
       "      <td>NY</td>\n",
       "      <td>US</td>\n",
       "      <td>10075</td>\n",
       "      <td>-73.95</td>\n",
       "      <td>40.77</td>\n",
       "    </tr>\n",
       "    <tr>\n",
       "      <th>1</th>\n",
       "      <td>Starbucks</td>\n",
       "      <td>New York</td>\n",
       "      <td>NY</td>\n",
       "      <td>US</td>\n",
       "      <td>100382504</td>\n",
       "      <td>-74.01</td>\n",
       "      <td>40.71</td>\n",
       "    </tr>\n",
       "    <tr>\n",
       "      <th>2</th>\n",
       "      <td>Starbucks</td>\n",
       "      <td>New York</td>\n",
       "      <td>NY</td>\n",
       "      <td>US</td>\n",
       "      <td>100197416</td>\n",
       "      <td>-73.99</td>\n",
       "      <td>40.76</td>\n",
       "    </tr>\n",
       "    <tr>\n",
       "      <th>3</th>\n",
       "      <td>Starbucks</td>\n",
       "      <td>New York</td>\n",
       "      <td>NY</td>\n",
       "      <td>US</td>\n",
       "      <td>100131218</td>\n",
       "      <td>-74.01</td>\n",
       "      <td>40.73</td>\n",
       "    </tr>\n",
       "    <tr>\n",
       "      <th>4</th>\n",
       "      <td>Starbucks</td>\n",
       "      <td>New York</td>\n",
       "      <td>NY</td>\n",
       "      <td>US</td>\n",
       "      <td>100256924</td>\n",
       "      <td>-73.97</td>\n",
       "      <td>40.79</td>\n",
       "    </tr>\n",
       "  </tbody>\n",
       "</table>\n",
       "</div>"
      ],
      "text/plain": [
       "       Brand      City State/Province Country   Postcode  Longitude  Latitude\n",
       "0  Starbucks  New York             NY      US      10075     -73.95     40.77\n",
       "1  Starbucks  New York             NY      US  100382504     -74.01     40.71\n",
       "2  Starbucks  New York             NY      US  100197416     -73.99     40.76\n",
       "3  Starbucks  New York             NY      US  100131218     -74.01     40.73\n",
       "4  Starbucks  New York             NY      US  100256924     -73.97     40.79"
      ]
     },
     "execution_count": 29,
     "metadata": {},
     "output_type": "execute_result"
    }
   ],
   "source": [
    "data3 = pd.ExcelFile(\"/Users/ClumsyJace/Final Thesis Folder/NYC_Starbucks.xlsx\")\n",
    "#data2.sheet_names # print sheetnames\n",
    "starstores = data3.parse(\"nycstar\")\n",
    "print(\"There are\", len(starstores), \"stores in NYC\")\n",
    "print(\" \")\n",
    "starstores.head()"
   ]
  },
  {
   "cell_type": "code",
   "execution_count": 30,
   "metadata": {
    "collapsed": true
   },
   "outputs": [],
   "source": [
    "def haversine(lon1, lat1, lon2, lat2):\n",
    "    \"\"\"\n",
    "    Calculate the great circle distance between two points \n",
    "    on the earth (specified in decimal degrees)\n",
    "    \"\"\"\n",
    "    # convert decimal degrees to radians \n",
    "    lon1, lat1, lon2, lat2 = map(radians, [lon1, lat1, lon2, lat2])\n",
    "    # haversine formula \n",
    "    dlon = lon2 - lon1 \n",
    "    dlat = lat2 - lat1 \n",
    "    a = sin(dlat/2)**2 + cos(lat1) * cos(lat2) * sin(dlon/2)**2\n",
    "    c = 2 * asin(sqrt(a)) \n",
    "    # Radius of earth in kilometers is 6371\n",
    "    miles = 3961* c\n",
    "    return miles"
   ]
  },
  {
   "cell_type": "code",
   "execution_count": 31,
   "metadata": {
    "collapsed": true
   },
   "outputs": [],
   "source": [
    "def distance(long,lat):\n",
    "    distlist = [] # create empty list for each records \n",
    "    for i in range(len(starstores)):\n",
    "            long1, lat1 = long, lat\n",
    "            long2, lat2 = starstores['Longitude'][i], starstores['Latitude'][i]\n",
    "            dist = round(haversine(long1, lat1, long2, lat2),2)\n",
    "            distlist.append(dist)\n",
    "    return distlist"
   ]
  },
  {
   "cell_type": "code",
   "execution_count": 32,
   "metadata": {},
   "outputs": [
    {
     "name": "stdout",
     "output_type": "stream",
     "text": [
      "0:11:36.994488\n"
     ]
    }
   ],
   "source": [
    "from datetime import datetime\n",
    "startTime = datetime.now()\n",
    "final_data['distance'] = final_data.apply(lambda row: distance(row['longitude'],row['latitude']), axis=1)\n",
    "print(datetime.now() - startTime)"
   ]
  },
  {
   "cell_type": "code",
   "execution_count": 34,
   "metadata": {},
   "outputs": [
    {
     "data": {
      "text/plain": [
       "49352"
      ]
     },
     "execution_count": 34,
     "metadata": {},
     "output_type": "execute_result"
    }
   ],
   "source": [
    "len(final_data)"
   ]
  },
  {
   "cell_type": "code",
   "execution_count": 50,
   "metadata": {
    "scrolled": true
   },
   "outputs": [
    {
     "data": {
      "text/html": [
       "<div>\n",
       "<style>\n",
       "    .dataframe thead tr:only-child th {\n",
       "        text-align: right;\n",
       "    }\n",
       "\n",
       "    .dataframe thead th {\n",
       "        text-align: left;\n",
       "    }\n",
       "\n",
       "    .dataframe tbody tr th {\n",
       "        vertical-align: top;\n",
       "    }\n",
       "</style>\n",
       "<table border=\"1\" class=\"dataframe\">\n",
       "  <thead>\n",
       "    <tr style=\"text-align: right;\">\n",
       "      <th></th>\n",
       "      <th>bathrooms</th>\n",
       "      <th>bedrooms</th>\n",
       "      <th>interest_level</th>\n",
       "      <th>latitude</th>\n",
       "      <th>longitude</th>\n",
       "      <th>price</th>\n",
       "      <th>address</th>\n",
       "      <th>Zip</th>\n",
       "      <th>State</th>\n",
       "      <th>County</th>\n",
       "      <th>City</th>\n",
       "      <th>Median Household Income</th>\n",
       "      <th>Number of Income Household</th>\n",
       "      <th>Number Population by Race</th>\n",
       "      <th>Number of Family Households in Poverty</th>\n",
       "      <th>Number of individual unemployed</th>\n",
       "      <th>distance</th>\n",
       "      <th>mindistance</th>\n",
       "    </tr>\n",
       "  </thead>\n",
       "  <tbody>\n",
       "    <tr>\n",
       "      <th>0</th>\n",
       "      <td>1.5</td>\n",
       "      <td>3.0</td>\n",
       "      <td>medium</td>\n",
       "      <td>40.7145</td>\n",
       "      <td>-73.9425</td>\n",
       "      <td>3000.0</td>\n",
       "      <td>370 Humboldt St, Brooklyn, NY 11211</td>\n",
       "      <td>11211.0</td>\n",
       "      <td>New York</td>\n",
       "      <td>Kings</td>\n",
       "      <td>New York</td>\n",
       "      <td>54406.0</td>\n",
       "      <td>37381.0</td>\n",
       "      <td>97772.0</td>\n",
       "      <td>18948.0</td>\n",
       "      <td>52303.0</td>\n",
       "      <td>[3.86, 3.55, 4.01, 3.7, 5.41, 3.49, 4.55, 3.89...</td>\n",
       "      <td>2.24</td>\n",
       "    </tr>\n",
       "    <tr>\n",
       "      <th>1</th>\n",
       "      <td>1.0</td>\n",
       "      <td>2.0</td>\n",
       "      <td>low</td>\n",
       "      <td>40.7947</td>\n",
       "      <td>-73.9667</td>\n",
       "      <td>5465.0</td>\n",
       "      <td>808 Columbus Ave, New York, NY 10025</td>\n",
       "      <td>10025.0</td>\n",
       "      <td>New York</td>\n",
       "      <td>New York</td>\n",
       "      <td>New York</td>\n",
       "      <td>74065.0</td>\n",
       "      <td>43456.0</td>\n",
       "      <td>96068.0</td>\n",
       "      <td>19089.0</td>\n",
       "      <td>54390.0</td>\n",
       "      <td>[1.92, 6.28, 2.69, 5.01, 0.37, 3.32, 1.34, 3.5...</td>\n",
       "      <td>0.37</td>\n",
       "    </tr>\n",
       "  </tbody>\n",
       "</table>\n",
       "</div>"
      ],
      "text/plain": [
       "   bathrooms  bedrooms interest_level  latitude  longitude   price  \\\n",
       "0        1.5       3.0         medium   40.7145   -73.9425  3000.0   \n",
       "1        1.0       2.0            low   40.7947   -73.9667  5465.0   \n",
       "\n",
       "                                address      Zip     State    County  \\\n",
       "0   370 Humboldt St, Brooklyn, NY 11211  11211.0  New York     Kings   \n",
       "1  808 Columbus Ave, New York, NY 10025  10025.0  New York  New York   \n",
       "\n",
       "       City  Median Household Income  Number of Income Household   \\\n",
       "0  New York                  54406.0                      37381.0   \n",
       "1  New York                  74065.0                      43456.0   \n",
       "\n",
       "   Number Population by Race  Number of Family Households in Poverty   \\\n",
       "0                    97772.0                                  18948.0   \n",
       "1                    96068.0                                  19089.0   \n",
       "\n",
       "   Number of individual unemployed  \\\n",
       "0                          52303.0   \n",
       "1                          54390.0   \n",
       "\n",
       "                                            distance  mindistance  \n",
       "0  [3.86, 3.55, 4.01, 3.7, 5.41, 3.49, 4.55, 3.89...         2.24  \n",
       "1  [1.92, 6.28, 2.69, 5.01, 0.37, 3.32, 1.34, 3.5...         0.37  "
      ]
     },
     "execution_count": 50,
     "metadata": {},
     "output_type": "execute_result"
    }
   ],
   "source": [
    "final_data.head(2)"
   ]
  },
  {
   "cell_type": "code",
   "execution_count": 42,
   "metadata": {
    "collapsed": true
   },
   "outputs": [],
   "source": [
    "def takemin(x):\n",
    "    return min(x)"
   ]
  },
  {
   "cell_type": "code",
   "execution_count": 49,
   "metadata": {
    "collapsed": true
   },
   "outputs": [],
   "source": [
    "final_data['mindistance'] = final_data.apply(lambda row: takemin(row['distance']), axis=1)"
   ]
  },
  {
   "cell_type": "code",
   "execution_count": 87,
   "metadata": {
    "collapsed": true
   },
   "outputs": [],
   "source": [
    "v = final_data['distance'][1]\n",
    "top1 = sorted(v)[1]"
   ]
  },
  {
   "cell_type": "code",
   "execution_count": 88,
   "metadata": {},
   "outputs": [
    {
     "data": {
      "text/plain": [
       "0"
      ]
     },
     "execution_count": 88,
     "metadata": {},
     "output_type": "execute_result"
    }
   ],
   "source": [
    "sum(1 for x in v if x <= .28)"
   ]
  },
  {
   "cell_type": "code",
   "execution_count": 60,
   "metadata": {},
   "outputs": [
    {
     "data": {
      "text/plain": [
       "205"
      ]
     },
     "execution_count": 60,
     "metadata": {},
     "output_type": "execute_result"
    }
   ],
   "source": [
    "len(starstores) # 205 stores in NYC"
   ]
  },
  {
   "cell_type": "code",
   "execution_count": 66,
   "metadata": {},
   "outputs": [
    {
     "data": {
      "text/plain": [
       "2.124403266331634"
      ]
     },
     "execution_count": 66,
     "metadata": {},
     "output_type": "execute_result"
    }
   ],
   "source": [
    "final_data[\"mindistance\"].mean()"
   ]
  },
  {
   "cell_type": "code",
   "execution_count": 100,
   "metadata": {
    "scrolled": true
   },
   "outputs": [
    {
     "data": {
      "text/plain": [
       "float"
      ]
     },
     "execution_count": 100,
     "metadata": {},
     "output_type": "execute_result"
    }
   ],
   "source": [
    "mediandist = final_data[\"mindistance\"].median()\n",
    "type(mediandist)"
   ]
  },
  {
   "cell_type": "code",
   "execution_count": 102,
   "metadata": {
    "collapsed": true
   },
   "outputs": [],
   "source": [
    "def storescount(a):\n",
    "    return sum(1 for x in a if float(x) <=float(mediandist))"
   ]
  },
  {
   "cell_type": "code",
   "execution_count": 104,
   "metadata": {
    "collapsed": true
   },
   "outputs": [],
   "source": [
    "# Takes the count of Store less or equal to the median of the distance\n",
    "final_data['storecount_mediandistance'] = final_data.apply(lambda row: storescount(row['distance']), axis=1)"
   ]
  },
  {
   "cell_type": "code",
   "execution_count": 105,
   "metadata": {},
   "outputs": [
    {
     "data": {
      "text/html": [
       "<div>\n",
       "<style>\n",
       "    .dataframe thead tr:only-child th {\n",
       "        text-align: right;\n",
       "    }\n",
       "\n",
       "    .dataframe thead th {\n",
       "        text-align: left;\n",
       "    }\n",
       "\n",
       "    .dataframe tbody tr th {\n",
       "        vertical-align: top;\n",
       "    }\n",
       "</style>\n",
       "<table border=\"1\" class=\"dataframe\">\n",
       "  <thead>\n",
       "    <tr style=\"text-align: right;\">\n",
       "      <th></th>\n",
       "      <th>bathrooms</th>\n",
       "      <th>bedrooms</th>\n",
       "      <th>interest_level</th>\n",
       "      <th>latitude</th>\n",
       "      <th>longitude</th>\n",
       "      <th>price</th>\n",
       "      <th>address</th>\n",
       "      <th>Zip</th>\n",
       "      <th>State</th>\n",
       "      <th>County</th>\n",
       "      <th>City</th>\n",
       "      <th>Median Household Income</th>\n",
       "      <th>Number of Income Household</th>\n",
       "      <th>Number Population by Race</th>\n",
       "      <th>Number of Family Households in Poverty</th>\n",
       "      <th>Number of individual unemployed</th>\n",
       "      <th>distance</th>\n",
       "      <th>mindistance</th>\n",
       "      <th>storecount_mediandistance</th>\n",
       "    </tr>\n",
       "  </thead>\n",
       "  <tbody>\n",
       "    <tr>\n",
       "      <th>0</th>\n",
       "      <td>1.5</td>\n",
       "      <td>3.0</td>\n",
       "      <td>medium</td>\n",
       "      <td>40.7145</td>\n",
       "      <td>-73.9425</td>\n",
       "      <td>3000.0</td>\n",
       "      <td>370 Humboldt St, Brooklyn, NY 11211</td>\n",
       "      <td>11211.0</td>\n",
       "      <td>New York</td>\n",
       "      <td>Kings</td>\n",
       "      <td>New York</td>\n",
       "      <td>54406.0</td>\n",
       "      <td>37381.0</td>\n",
       "      <td>97772.0</td>\n",
       "      <td>18948.0</td>\n",
       "      <td>52303.0</td>\n",
       "      <td>[3.86, 3.55, 4.01, 3.7, 5.41, 3.49, 4.55, 3.89...</td>\n",
       "      <td>2.24</td>\n",
       "      <td>0</td>\n",
       "    </tr>\n",
       "    <tr>\n",
       "      <th>1</th>\n",
       "      <td>1.0</td>\n",
       "      <td>2.0</td>\n",
       "      <td>low</td>\n",
       "      <td>40.7947</td>\n",
       "      <td>-73.9667</td>\n",
       "      <td>5465.0</td>\n",
       "      <td>808 Columbus Ave, New York, NY 10025</td>\n",
       "      <td>10025.0</td>\n",
       "      <td>New York</td>\n",
       "      <td>New York</td>\n",
       "      <td>New York</td>\n",
       "      <td>74065.0</td>\n",
       "      <td>43456.0</td>\n",
       "      <td>96068.0</td>\n",
       "      <td>19089.0</td>\n",
       "      <td>54390.0</td>\n",
       "      <td>[1.92, 6.28, 2.69, 5.01, 0.37, 3.32, 1.34, 3.5...</td>\n",
       "      <td>0.37</td>\n",
       "      <td>0</td>\n",
       "    </tr>\n",
       "  </tbody>\n",
       "</table>\n",
       "</div>"
      ],
      "text/plain": [
       "   bathrooms  bedrooms interest_level  latitude  longitude   price  \\\n",
       "0        1.5       3.0         medium   40.7145   -73.9425  3000.0   \n",
       "1        1.0       2.0            low   40.7947   -73.9667  5465.0   \n",
       "\n",
       "                                address      Zip     State    County  \\\n",
       "0   370 Humboldt St, Brooklyn, NY 11211  11211.0  New York     Kings   \n",
       "1  808 Columbus Ave, New York, NY 10025  10025.0  New York  New York   \n",
       "\n",
       "       City  Median Household Income  Number of Income Household   \\\n",
       "0  New York                  54406.0                      37381.0   \n",
       "1  New York                  74065.0                      43456.0   \n",
       "\n",
       "   Number Population by Race  Number of Family Households in Poverty   \\\n",
       "0                    97772.0                                  18948.0   \n",
       "1                    96068.0                                  19089.0   \n",
       "\n",
       "   Number of individual unemployed  \\\n",
       "0                          52303.0   \n",
       "1                          54390.0   \n",
       "\n",
       "                                            distance  mindistance  \\\n",
       "0  [3.86, 3.55, 4.01, 3.7, 5.41, 3.49, 4.55, 3.89...         2.24   \n",
       "1  [1.92, 6.28, 2.69, 5.01, 0.37, 3.32, 1.34, 3.5...         0.37   \n",
       "\n",
       "   storecount_mediandistance  \n",
       "0                          0  \n",
       "1                          0  "
      ]
     },
     "execution_count": 105,
     "metadata": {},
     "output_type": "execute_result"
    }
   ],
   "source": [
    "final_data.head(2)"
   ]
  },
  {
   "cell_type": "code",
   "execution_count": 106,
   "metadata": {},
   "outputs": [
    {
     "data": {
      "text/plain": [
       "0      0\n",
       "1      0\n",
       "2      7\n",
       "3      0\n",
       "4      0\n",
       "5      7\n",
       "6      3\n",
       "7      0\n",
       "8      0\n",
       "9      2\n",
       "10     5\n",
       "11     0\n",
       "12    16\n",
       "13     9\n",
       "14     3\n",
       "15     0\n",
       "16     2\n",
       "17     0\n",
       "18     1\n",
       "19     2\n",
       "20     0\n",
       "21     5\n",
       "22     0\n",
       "23    14\n",
       "24     9\n",
       "25    14\n",
       "26     3\n",
       "27     1\n",
       "28     0\n",
       "29     3\n",
       "      ..\n",
       "70     0\n",
       "71     0\n",
       "72     2\n",
       "73     5\n",
       "74    14\n",
       "75     3\n",
       "76     0\n",
       "77     0\n",
       "78     0\n",
       "79     0\n",
       "80     0\n",
       "81     0\n",
       "82     3\n",
       "83     1\n",
       "84     3\n",
       "85     5\n",
       "86     0\n",
       "87     3\n",
       "88     0\n",
       "89     4\n",
       "90     3\n",
       "91     5\n",
       "92     5\n",
       "93     0\n",
       "94     0\n",
       "95     0\n",
       "96     6\n",
       "97    14\n",
       "98     0\n",
       "99     1\n",
       "Name: storecount_mediandistance, Length: 100, dtype: int64"
      ]
     },
     "execution_count": 106,
     "metadata": {},
     "output_type": "execute_result"
    }
   ],
   "source": [
    "final_data['storecount_mediandistance'].head(100)"
   ]
  },
  {
   "cell_type": "code",
   "execution_count": 107,
   "metadata": {},
   "outputs": [
    {
     "data": {
      "text/plain": [
       "['bathrooms',\n",
       " 'bedrooms',\n",
       " 'interest_level',\n",
       " 'latitude',\n",
       " 'longitude',\n",
       " 'price',\n",
       " 'address',\n",
       " 'Zip',\n",
       " 'State',\n",
       " 'County',\n",
       " 'City',\n",
       " 'Median Household Income',\n",
       " 'Number of Income Household ',\n",
       " 'Number Population by Race',\n",
       " 'Number of Family Households in Poverty ',\n",
       " 'Number of individual unemployed',\n",
       " 'distance',\n",
       " 'mindistance',\n",
       " 'storecount_mediandistance']"
      ]
     },
     "execution_count": 107,
     "metadata": {},
     "output_type": "execute_result"
    }
   ],
   "source": [
    "list(final_data)"
   ]
  },
  {
   "cell_type": "code",
   "execution_count": 109,
   "metadata": {
    "collapsed": true
   },
   "outputs": [],
   "source": [
    "# final_data.to_csv('thesis_final_data3.csv', sep='\\t')"
   ]
  },
  {
   "cell_type": "code",
   "execution_count": 108,
   "metadata": {},
   "outputs": [
    {
     "name": "stdout",
     "output_type": "stream",
     "text": [
      "/Users/ClumsyJace/PycharmProjects/MachineLearningProjects\r\n"
     ]
    }
   ],
   "source": [
    "!pwd"
   ]
  },
  {
   "cell_type": "code",
   "execution_count": 110,
   "metadata": {},
   "outputs": [
    {
     "data": {
      "text/html": [
       "<div>\n",
       "<style>\n",
       "    .dataframe thead tr:only-child th {\n",
       "        text-align: right;\n",
       "    }\n",
       "\n",
       "    .dataframe thead th {\n",
       "        text-align: left;\n",
       "    }\n",
       "\n",
       "    .dataframe tbody tr th {\n",
       "        vertical-align: top;\n",
       "    }\n",
       "</style>\n",
       "<table border=\"1\" class=\"dataframe\">\n",
       "  <thead>\n",
       "    <tr style=\"text-align: right;\">\n",
       "      <th></th>\n",
       "      <th>bathrooms</th>\n",
       "      <th>bedrooms</th>\n",
       "      <th>interest_level</th>\n",
       "      <th>latitude</th>\n",
       "      <th>longitude</th>\n",
       "      <th>price</th>\n",
       "      <th>address</th>\n",
       "      <th>Zip</th>\n",
       "      <th>State</th>\n",
       "      <th>County</th>\n",
       "      <th>City</th>\n",
       "      <th>Median Household Income</th>\n",
       "      <th>Number of Income Household</th>\n",
       "      <th>Number Population by Race</th>\n",
       "      <th>Number of Family Households in Poverty</th>\n",
       "      <th>Number of individual unemployed</th>\n",
       "      <th>distance</th>\n",
       "      <th>mindistance</th>\n",
       "      <th>storecount_mediandistance</th>\n",
       "    </tr>\n",
       "  </thead>\n",
       "  <tbody>\n",
       "    <tr>\n",
       "      <th>0</th>\n",
       "      <td>1.5</td>\n",
       "      <td>3.0</td>\n",
       "      <td>medium</td>\n",
       "      <td>40.7145</td>\n",
       "      <td>-73.9425</td>\n",
       "      <td>3000.0</td>\n",
       "      <td>370 Humboldt St, Brooklyn, NY 11211</td>\n",
       "      <td>11211.0</td>\n",
       "      <td>New York</td>\n",
       "      <td>Kings</td>\n",
       "      <td>New York</td>\n",
       "      <td>54406.0</td>\n",
       "      <td>37381.0</td>\n",
       "      <td>97772.0</td>\n",
       "      <td>18948.0</td>\n",
       "      <td>52303.0</td>\n",
       "      <td>[3.86, 3.55, 4.01, 3.7, 5.41, 3.49, 4.55, 3.89...</td>\n",
       "      <td>2.24</td>\n",
       "      <td>0</td>\n",
       "    </tr>\n",
       "    <tr>\n",
       "      <th>1</th>\n",
       "      <td>1.0</td>\n",
       "      <td>2.0</td>\n",
       "      <td>low</td>\n",
       "      <td>40.7947</td>\n",
       "      <td>-73.9667</td>\n",
       "      <td>5465.0</td>\n",
       "      <td>808 Columbus Ave, New York, NY 10025</td>\n",
       "      <td>10025.0</td>\n",
       "      <td>New York</td>\n",
       "      <td>New York</td>\n",
       "      <td>New York</td>\n",
       "      <td>74065.0</td>\n",
       "      <td>43456.0</td>\n",
       "      <td>96068.0</td>\n",
       "      <td>19089.0</td>\n",
       "      <td>54390.0</td>\n",
       "      <td>[1.92, 6.28, 2.69, 5.01, 0.37, 3.32, 1.34, 3.5...</td>\n",
       "      <td>0.37</td>\n",
       "      <td>0</td>\n",
       "    </tr>\n",
       "  </tbody>\n",
       "</table>\n",
       "</div>"
      ],
      "text/plain": [
       "   bathrooms  bedrooms interest_level  latitude  longitude   price  \\\n",
       "0        1.5       3.0         medium   40.7145   -73.9425  3000.0   \n",
       "1        1.0       2.0            low   40.7947   -73.9667  5465.0   \n",
       "\n",
       "                                address      Zip     State    County  \\\n",
       "0   370 Humboldt St, Brooklyn, NY 11211  11211.0  New York     Kings   \n",
       "1  808 Columbus Ave, New York, NY 10025  10025.0  New York  New York   \n",
       "\n",
       "       City  Median Household Income  Number of Income Household   \\\n",
       "0  New York                  54406.0                      37381.0   \n",
       "1  New York                  74065.0                      43456.0   \n",
       "\n",
       "   Number Population by Race  Number of Family Households in Poverty   \\\n",
       "0                    97772.0                                  18948.0   \n",
       "1                    96068.0                                  19089.0   \n",
       "\n",
       "   Number of individual unemployed  \\\n",
       "0                          52303.0   \n",
       "1                          54390.0   \n",
       "\n",
       "                                            distance  mindistance  \\\n",
       "0  [3.86, 3.55, 4.01, 3.7, 5.41, 3.49, 4.55, 3.89...         2.24   \n",
       "1  [1.92, 6.28, 2.69, 5.01, 0.37, 3.32, 1.34, 3.5...         0.37   \n",
       "\n",
       "   storecount_mediandistance  \n",
       "0                          0  \n",
       "1                          0  "
      ]
     },
     "execution_count": 110,
     "metadata": {},
     "output_type": "execute_result"
    }
   ],
   "source": [
    "final_data.head(2)"
   ]
  },
  {
   "cell_type": "code",
   "execution_count": null,
   "metadata": {
    "collapsed": true
   },
   "outputs": [],
   "source": [
    "Final_Project_data"
   ]
  }
 ],
 "metadata": {
  "kernelspec": {
   "display_name": "Python 3",
   "language": "python",
   "name": "python3"
  },
  "language_info": {
   "codemirror_mode": {
    "name": "ipython",
    "version": 3
   },
   "file_extension": ".py",
   "mimetype": "text/x-python",
   "name": "python",
   "nbconvert_exporter": "python",
   "pygments_lexer": "ipython3",
   "version": "3.5.4"
  }
 },
 "nbformat": 4,
 "nbformat_minor": 2
}
